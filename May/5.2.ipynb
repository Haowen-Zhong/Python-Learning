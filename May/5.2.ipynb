{
 "cells": [
  {
   "cell_type": "markdown",
   "metadata": {},
   "source": [
    "# 成功的公式：\n",
    "$$while \\ no\\_success \\ = \\  True:\\\\\n",
    "    Try\\_again()\\\\\n",
    "    if \\ dead\\  ==\\  True:\\\\\n",
    "        break$$"
   ]
  },
  {
   "cell_type": "code",
   "execution_count": 69,
   "metadata": {},
   "outputs": [
    {
     "name": "stdout",
     "output_type": "stream",
     "text": [
      "静态方法❗️\n",
      "20\n",
      "静态方法❗️\n",
      "20\n"
     ]
    }
   ],
   "source": [
    "'''\n",
    "静态方法非常类似于类方法\n",
    "1.需要装饰器@staticmethod\n",
    "2.静态方法是无需传递参数\n",
    "3.只能访问类的属性和方法，对象的是无法访问的\n",
    "'''\n",
    "class Person:\n",
    "    __age = 20\n",
    "    #静态方法无需任何参数\n",
    "    @staticmethod\n",
    "    def test():\n",
    "        print(\"静态方法❗️\")\n",
    "        print(Person.__age)\n",
    "yingying = Person()\n",
    "Person.test()\n",
    "yingying.test()"
   ]
  },
  {
   "cell_type": "code",
   "execution_count": 4,
   "metadata": {
    "collapsed": true
   },
   "outputs": [
    {
     "data": {
      "text/plain": [
       "'\\n类方法 v.s. 普通方法\\n\\n相同：1.只能访问类的属性和方法，对象的是无法访问的\\n2.都可以通过类名调用访问\\n3.都可以在创建对象之前使用，因为不依赖于对象\\n\\n普通方法 v.s. ...\\n1.没有装饰器\\n2.依赖于对象\\n'"
      ]
     },
     "execution_count": 4,
     "metadata": {},
     "output_type": "execute_result"
    }
   ],
   "source": [
    "'''\n",
    "类方法 v.s. 普通方法\n",
    "\n",
    "相同：1.只能访问类的属性和方法，对象的是无法访问的\n",
    "2.都可以通过类名调用访问\n",
    "3.都可以在创建对象之前使用，因为不依赖于对象\n",
    "\n",
    "普通方法 v.s. ...\n",
    "1.没有装饰器\n",
    "2.依赖于对象\n",
    "'''"
   ]
  },
  {
   "cell_type": "code",
   "execution_count": 27,
   "metadata": {},
   "outputs": [
    {
     "name": "stdout",
     "output_type": "stream",
     "text": [
      "------>new\n",
      "<__main__.Person object at 0x10c7e7e48>\n",
      "---------->yingying~ <__main__.Person object at 0x10c7e7e48>\n",
      "yingying\n",
      "----------->call\n",
      "执行对象得到的参数时： 盈盈\n"
     ]
    }
   ],
   "source": [
    "#Magic\n",
    "#__init__:初始化magic method\n",
    "#触发时机：初始化对象时触发\n",
    "\n",
    "#__new__:实例化触发\n",
    "class Person:\n",
    "    #__init__是依赖于__new__的\n",
    "    def __init__(self,name):\n",
    "        print('---------->yingying~',self)\n",
    "        self.name = 'yingying'\n",
    "        \n",
    "    def __new__(cls, *args,**kwargs):\n",
    "        print('------>new')\n",
    "    #这是把之前系统的__new__给覆盖了，因此就出问题了。需要把系统的拿来\n",
    "        position = object.__new__(cls)\n",
    "        print(position)\n",
    "        return position\n",
    "    #将对象当成函数的时候调用\n",
    "    \n",
    "    def __call__(self,name):\n",
    "        print(\"----------->call\")\n",
    "        print(\"执行对象得到的参数时：\",name)\n",
    "p = Person(\"盈盈\")\n",
    "print(p.name)\n",
    "'''\n",
    "当执行这句话时，系统会先进new，开辟一个新的空间。事实上之前我们虽然没写new但是底层就是调用了new帮我们开辟了空间\n",
    "把老祖宗object.__new__过来帮忙，申请内存开辟空间。将得到的空间再return出去。\n",
    "根据弹幕网友的纠正事实上应该是首先通过new申请空间，并且将这个得到的地址返回给Person()，再由p实例化对象的时候传递给\n",
    "init\n",
    "'''\n",
    "p(\"盈盈\")"
   ]
  },
  {
   "cell_type": "code",
   "execution_count": 42,
   "metadata": {},
   "outputs": [
    {
     "name": "stdout",
     "output_type": "stream",
     "text": [
      "4\n",
      "jack\n",
      "jack\n",
      "tom\n",
      "tom\n",
      "删除p1后打印 tom\n",
      "3\n",
      "删除p2后打印 tom\n",
      "2\n",
      "-----del-----\n"
     ]
    },
    {
     "ename": "NameError",
     "evalue": "name 'p' is not defined",
     "output_type": "error",
     "traceback": [
      "\u001b[0;31m---------------------------------------------------------------------------\u001b[0m",
      "\u001b[0;31mNameError\u001b[0m                                 Traceback (most recent call last)",
      "\u001b[0;32m<ipython-input-42-0f87000b83e6>\u001b[0m in \u001b[0;36m<module>\u001b[0;34m\u001b[0m\n\u001b[1;32m     37\u001b[0m \u001b[0mprint\u001b[0m\u001b[0;34m(\u001b[0m\u001b[0msys\u001b[0m\u001b[0;34m.\u001b[0m\u001b[0mgetrefcount\u001b[0m\u001b[0;34m(\u001b[0m\u001b[0mp\u001b[0m\u001b[0;34m)\u001b[0m\u001b[0;34m)\u001b[0m\u001b[0;34m\u001b[0m\u001b[0;34m\u001b[0m\u001b[0m\n\u001b[1;32m     38\u001b[0m \u001b[0;32mdel\u001b[0m \u001b[0mp\u001b[0m\u001b[0;34m\u001b[0m\u001b[0;34m\u001b[0m\u001b[0m\n\u001b[0;32m---> 39\u001b[0;31m \u001b[0mprint\u001b[0m\u001b[0;34m(\u001b[0m\u001b[0;34m\"删除p后打印\"\u001b[0m\u001b[0;34m,\u001b[0m\u001b[0mp\u001b[0m\u001b[0;34m.\u001b[0m\u001b[0mname\u001b[0m\u001b[0;34m)\u001b[0m\u001b[0;31m#p已经没了，取不到了\u001b[0m\u001b[0;34m\u001b[0m\u001b[0;34m\u001b[0m\u001b[0m\n\u001b[0m\u001b[1;32m     40\u001b[0m \u001b[0mprint\u001b[0m\u001b[0;34m(\u001b[0m\u001b[0msys\u001b[0m\u001b[0;34m.\u001b[0m\u001b[0mgetrefcount\u001b[0m\u001b[0;34m(\u001b[0m\u001b[0mp\u001b[0m\u001b[0;34m)\u001b[0m\u001b[0;34m)\u001b[0m\u001b[0;34m\u001b[0m\u001b[0;34m\u001b[0m\u001b[0m\n\u001b[1;32m     41\u001b[0m \u001b[0mprint\u001b[0m\u001b[0;34m(\u001b[0m\u001b[0mn\u001b[0m\u001b[0;34m)\u001b[0m\u001b[0;34m\u001b[0m\u001b[0;34m\u001b[0m\u001b[0m\n",
      "\u001b[0;31mNameError\u001b[0m: name 'p' is not defined"
     ]
    }
   ],
   "source": [
    "import sys\n",
    "class Person:\n",
    "    def __init__(self,name):\n",
    "        self.name = name\n",
    "    def __del__(self):\n",
    "        print(\"-----del-----\")\n",
    "    '''\n",
    "    __del__:1.对象赋值 \n",
    "    p=Person() \n",
    "    p1=p\n",
    "    p1和p都共同指向一个地址\n",
    "    \n",
    "    2.删除地址的引用\n",
    "    del p1 删除p1对p的引用\n",
    "    \n",
    "    3.查看对地址的引用次数\n",
    "    import sys\n",
    "    sys.getrefcount(p)\n",
    "    4.del 是当这片空间完全没有任何引用的时候就默认执行！\n",
    "    '''\n",
    "p = Person('jack')\n",
    "p1 = p\n",
    "p2 = p\n",
    "print(sys.getrefcount(p))#4是因为这句话也用到了一次\n",
    "print(p2.name)\n",
    "print(p1.name)\n",
    "p1.name = 'tom'\n",
    "print(p.name)\n",
    "print(p2.name)\n",
    "n = 5\n",
    "n1 = n\n",
    "n1 = 6\n",
    "del p1\n",
    "print(\"删除p1后打印\",p.name)\n",
    "print(sys.getrefcount(p))\n",
    "del p2\n",
    "print(\"删除p2后打印\",p.name)\n",
    "print(sys.getrefcount(p))\n",
    "del p\n",
    "print(\"删除p后打印\",p.name)#p已经没了，取不到了\n",
    "print(sys.getrefcount(p))\n",
    "print(n)\n",
    "#这里就得搞清楚地址！！！\n",
    "#其实本质上还是可不可变\n"
   ]
  },
  {
   "cell_type": "code",
   "execution_count": 53,
   "metadata": {},
   "outputs": [
    {
     "name": "stdout",
     "output_type": "stream",
     "text": [
      "-----del-----\n"
     ]
    }
   ],
   "source": [
    "import sys\n",
    "class Person:\n",
    "    def __init__(self,name):\n",
    "        self.name = name\n",
    "    def __del__(self):\n",
    "        print(\"-----del-----\")\n",
    "    '''\n",
    "    __del__:1.对象赋值 \n",
    "    p=Person() \n",
    "    p1=p\n",
    "    p1和p都共同指向一个地址\n",
    "    \n",
    "    2.删除地址的引用\n",
    "    del p1 删除p1对p的引用\n",
    "    \n",
    "    3.查看对地址的引用次数\n",
    "    import sys\n",
    "    sys.getrefcount(p)\n",
    "    4.del 是当这片空间完全没有任何引用的时候就默认执行！\n",
    "    '''\n",
    "p = Person('jack')\n",
    "p1 = p\n",
    "p2 = p\n",
    "p1.name = 'tom'\n",
    "del p1\n",
    "del p2\n",
    "del p\n",
    "#这里就得搞清楚地址！！！\n",
    "#其实本质上还是可不可变\n",
    "\n"
   ]
  },
  {
   "cell_type": "code",
   "execution_count": 57,
   "metadata": {},
   "outputs": [
    {
     "name": "stdout",
     "output_type": "stream",
     "text": [
      "<__main__.Person object at 0x10c80f7b8>\n"
     ]
    }
   ],
   "source": [
    "#这样我看不到任何东西，为了通过打印名字能够给我更多的信息量就需要用到__str__\n",
    "#__str__\n",
    "class Person:\n",
    "    def __init__(self,name):\n",
    "        self.name=name\n",
    "p = Person('tom')\n",
    "print(p)"
   ]
  },
  {
   "cell_type": "code",
   "execution_count": 66,
   "metadata": {},
   "outputs": [
    {
     "name": "stdout",
     "output_type": "stream",
     "text": [
      "姓名是tom年龄是18岁\n",
      "姓名是jack年龄是20岁\n"
     ]
    }
   ],
   "source": [
    "class Person:\n",
    "    def __init__(self,name,age):\n",
    "        self.name = name\n",
    "        self.age = age\n",
    "    def __str__(self):\n",
    "        #注意了一定要加返回值\n",
    "        #返回的就是我们打印对象名我们看到的东西\n",
    "        return \"姓名是\"+self.name+f\"年龄是{self.age}岁\"\n",
    "p = Person('tom',18)\n",
    "print(p)\n",
    "p1 = Person('jack',20)\n",
    "print(p1)\n",
    "#当我们打印对象名的时候就会自动触发"
   ]
  },
  {
   "cell_type": "code",
   "execution_count": 67,
   "metadata": {
    "collapsed": true
   },
   "outputs": [
    {
     "data": {
      "text/plain": [
       "'\\n魔术方法 Magic Method\\n重点记忆:\\n__init__\\n__str__\\n\\n了解即可:\\n__new__ \\n__del__\\n__call__ 就看我们想不想将对象当成函数用\\n'"
      ]
     },
     "execution_count": 67,
     "metadata": {},
     "output_type": "execute_result"
    }
   ],
   "source": [
    "'''\n",
    "魔术方法 Magic Method\n",
    "重点记忆:\n",
    "__init__\n",
    "__str__\n",
    "\n",
    "了解即可:\n",
    "__new__ \n",
    "__del__\n",
    "__call__ 就看我们想不想将对象当成函数用\n",
    "'''"
   ]
  },
  {
   "cell_type": "code",
   "execution_count": 68,
   "metadata": {
    "collapsed": true
   },
   "outputs": [
    {
     "data": {
      "text/plain": [
       "'\\n大总结：\\n方法：\\n普通方法 --->重点\\ndef 方法名(self,[参数])：\\n    方法体\\n对象.方法\\n\\n类方法：\\n@classmethod\\ndef 方法名(cls):\\n    pass\\n类名.方法名\\n对象.方法名\\n静态方法：\\n@staticmethod\\ndef 方法名([参数]):\\n    pass\\n    \\n魔术方法：\\n自动执行，无需调用\\n'"
      ]
     },
     "execution_count": 68,
     "metadata": {},
     "output_type": "execute_result"
    }
   ],
   "source": [
    "'''\n",
    "大总结：\n",
    "方法：\n",
    "普通方法 --->重点\n",
    "def 方法名(self,[参数])：\n",
    "    方法体\n",
    "对象.方法\n",
    "\n",
    "类方法：\n",
    "@classmethod\n",
    "def 方法名(cls):\n",
    "    pass\n",
    "类名.方法名\n",
    "对象.方法名\n",
    "静态方法：\n",
    "@staticmethod\n",
    "def 方法名([参数]):\n",
    "    pass\n",
    "    \n",
    "魔术方法：\n",
    "自动执行，无需调用\n",
    "'''"
   ]
  },
  {
   "cell_type": "markdown",
   "metadata": {},
   "source": [
    "# 私有化，属性，继承\n",
    "# 封装 ：1.私有化属性 2.定义共有set和get方法"
   ]
  },
  {
   "cell_type": "code",
   "execution_count": 96,
   "metadata": {},
   "outputs": [
    {
     "name": "stdout",
     "output_type": "stream",
     "text": [
      "姓名:浩文,年龄21,考试分数100\n",
      "你他妈年龄这个奇怪？！重新填！\n",
      "姓名:浩文,年龄21,考试分数100\n",
      "姓名:嘤嘤,年龄20,考试分数100\n",
      "你🦷的名字不是6位！不行哒！\n",
      "姓名:ZHW_01,年龄21,考试分数100\n"
     ]
    }
   ],
   "source": [
    "#私有化\n",
    "#__属性就是将这个属性私有化。只是专属于类内的。只能在🥱类里面访问，外面天王老子来都不行\n",
    "class Student:\n",
    "    def __init__(self,name,age):\n",
    "        self.__name = name\n",
    "        self.__age = age\n",
    "        self.__score = 100    \n",
    "    def __str__(self):\n",
    "        return f'姓名:{self.__name},年龄{self.__age},考试分数{self.__score}'\n",
    "    def setAge(self,age):\n",
    "        #利用私有化可以防止外界乱改\n",
    "        #如果对赋值有需求就可以利用私有化来实现。\n",
    "        if age<200 and age >0:\n",
    "            self.__age = age\n",
    "        else:\n",
    "            print(\"你他妈年龄这个奇怪？！重新填！\")\n",
    "    def getAge(self):\n",
    "        return self.__age\n",
    "    def setName(self,name):\n",
    "        if len(name) == 6:\n",
    "            self.__name = name\n",
    "        else:\n",
    "            print(\"你🦷的名字不是6位！不行哒！\")\n",
    "    def getName(self):\n",
    "        return self.__name\n",
    "HW = Student(\"浩文\",21)\n",
    "YY = Student(\"嘤嘤\",20)\n",
    "print(HW)\n",
    "HW.setAge(120000)\n",
    "print(HW)\n",
    "print(YY)\n",
    "HW.setName(\"??\")\n",
    "HW.setName(\"ZHW_01\")\n",
    "print(HW)"
   ]
  },
  {
   "cell_type": "code",
   "execution_count": 79,
   "metadata": {},
   "outputs": [
    {
     "name": "stdout",
     "output_type": "stream",
     "text": [
      "姓名:浩文,年龄21,考试分数100\n",
      "99\n"
     ]
    }
   ],
   "source": [
    "HW.__score = 99#看似可以改实则不能改\n",
    "print(HW)\n",
    "print(HW.__score)#这里只是我在外面给他定义了一个新的属性叫做__score 牛逼！🐂🍺"
   ]
  },
  {
   "cell_type": "code",
   "execution_count": 83,
   "metadata": {},
   "outputs": [],
   "source": [
    "# 我们需要定义共有的set和get方法\n",
    "# set赋值和get取值\n",
    "\n"
   ]
  },
  {
   "cell_type": "code",
   "execution_count": 105,
   "metadata": {},
   "outputs": [
    {
     "name": "stdout",
     "output_type": "stream",
     "text": [
      "['__class__', '__delattr__', '__dict__', '__dir__', '__doc__', '__eq__', '__format__', '__ge__', '__getattribute__', '__gt__', '__hash__', '__init__', '__init_subclass__', '__le__', '__lt__', '__module__', '__ne__', '__new__', '__reduce__', '__reduce_ex__', '__repr__', '__setattr__', '__sizeof__', '__str__', '__subclasshook__', '__weakref__', 'getAge', 'getName', 'setAge', 'setName'] \n",
      "\n",
      "['_Student__age', '_Student__name', '_Student__score', '__class__', '__delattr__', '__dict__', '__dir__', '__doc__', '__eq__', '__format__', '__ge__', '__getattribute__', '__gt__', '__hash__', '__init__', '__init_subclass__', '__le__', '__lt__', '__module__', '__ne__', '__new__', '__reduce__', '__reduce_ex__', '__repr__', '__setattr__', '__sizeof__', '__str__', '__subclasshook__', '__weakref__', 'getAge', 'getName', 'setAge', 'setName']\n",
      "21\n",
      "['_Student__name', '_Student__age', '_Student__score', '__module__', '__init__', '__str__', 'setAge', 'getAge', 'setName', 'getName', '__dict__', '__weakref__', '__doc__', '__repr__', '__hash__', '__getattribute__', '__setattr__', '__delattr__', '__lt__', '__le__', '__eq__', '__ne__', '__gt__', '__ge__', '__new__', '__reduce_ex__', '__reduce__', '__subclasshook__', '__init_subclass__', '__format__', '__sizeof__', '__dir__', '__class__']\n"
     ]
    }
   ],
   "source": [
    "print(dir(Student),'\\n')\n",
    "\n",
    "print(dir(HW))\n",
    "print(HW._Student__age)#出来了，说明！这所谓的私有是伪装的私有，他就是改了个名字而已！Fake private！\n",
    "#不建议这么去访问\n",
    "print(HW.__dir__())"
   ]
  },
  {
   "cell_type": "code",
   "execution_count": 111,
   "metadata": {},
   "outputs": [
    {
     "name": "stdout",
     "output_type": "stream",
     "text": [
      "xiaopeng\n",
      "30\n"
     ]
    }
   ],
   "source": [
    "#在开发中，我们看到的一些私有化的处理：往往利用装饰器来完成\n",
    "class Student:\n",
    "    def __init__(self,name,age):\n",
    "        self.name = name\n",
    "        self.__age = age\n",
    "        self.__score = 100    \n",
    "    #升级版！我想像原来那样访问！\n",
    "    \n",
    "    def setAge(self,age):\n",
    "        #利用私有化可以防止外界乱改\n",
    "        #如果对赋值有需求就可以利用私有化来实现。\n",
    "        if age<200 and age >0:\n",
    "            self.__age = age\n",
    "        else:\n",
    "            print(\"你他妈年龄这个奇怪？！重新填！\")\n",
    "    def getAge(self):\n",
    "        return self.__age\n",
    "s = Student('pengpeng',20)\n",
    "s.name = 'xiaopeng'\n",
    "print(s.name)\n",
    "s.setAge(30)\n",
    "print(s.getAge())"
   ]
  },
  {
   "cell_type": "code",
   "execution_count": 119,
   "metadata": {},
   "outputs": [
    {
     "name": "stdout",
     "output_type": "stream",
     "text": [
      "xiaopeng\n",
      "20\n",
      "你他妈年龄这个奇怪？！重新填！\n",
      "20\n",
      "130\n"
     ]
    }
   ],
   "source": [
    "#在开发中，我们看到的一些私有化的处理：往往利用装饰器来完成\n",
    "class Student:\n",
    "    def __init__(self,name,age):\n",
    "        self.name = name\n",
    "        self.__age = age\n",
    "        self.__score = 100    \n",
    "    #升级版！我想像原来那样访问！\n",
    "    \n",
    "    #一定要先有getxxx再有setter\n",
    "    @property#事实上property是一个类，类也可以作为装饰器\n",
    "    def age(self):\n",
    "        return self.__age\n",
    "    \n",
    "    @age.setter\n",
    "    def age(self,age):\n",
    "        if age<200 and age >0:\n",
    "            self.__age = age\n",
    "        else:\n",
    "            print(\"你他妈年龄这个奇怪？！重新填！\")\n",
    "#     def setAge(self,age):\n",
    "#         #利用私有化可以防止外界乱改\n",
    "#         #如果对赋值有需求就可以利用私有化来实现。\n",
    "#         if age<200 and age >0:\n",
    "#             self.__age = age\n",
    "#         else:\n",
    "#             print(\"你他妈年龄这个奇怪？！重新填！\")\n",
    "#     def getAge(self):\n",
    "#         return self.__age\n",
    "s = Student('pengpeng',20)\n",
    "s.name = 'xiaopeng'\n",
    "print(s.name)\n",
    "print(s.age)\n",
    "s.age = 230\n",
    "print(s.age)\n",
    "s.age = 130\n",
    "print(s.age)"
   ]
  },
  {
   "cell_type": "code",
   "execution_count": null,
   "metadata": {},
   "outputs": [],
   "source": []
  }
 ],
 "metadata": {
  "kernelspec": {
   "display_name": "Python 3",
   "language": "python",
   "name": "python3"
  },
  "language_info": {
   "codemirror_mode": {
    "name": "ipython",
    "version": 3
   },
   "file_extension": ".py",
   "mimetype": "text/x-python",
   "name": "python",
   "nbconvert_exporter": "python",
   "pygments_lexer": "ipython3",
   "version": "3.7.3"
  }
 },
 "nbformat": 4,
 "nbformat_minor": 2
}
