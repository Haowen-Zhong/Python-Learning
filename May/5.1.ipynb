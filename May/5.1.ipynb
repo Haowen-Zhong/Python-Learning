{
 "cells": [
  {
   "cell_type": "code",
   "execution_count": null,
   "metadata": {},
   "outputs": [],
   "source": [
    "'''\n",
    "回顾：\n",
    "列表推导式\n",
    "[表达式 for 变量 in 列表]\n",
    "\n",
    "1.[表达式 for 变量 in 列表 if 条件]\n",
    "2.[结果A if 条件 else 结果 B for 变量 in 原列表]\n",
    "\n",
    "集合推导式：[表达式 for 变量 in 列表]---->类似于列表推导式，但是没有重复元素\n",
    "字典推导式：{key,value for key,valvue in 字典.items()}\n",
    "\n",
    "生成器：generator 为了节省内存\n",
    "1.使用类似的列表推导式 g=(表达式 for 变量 in 列表)\n",
    "  此时的g就是生成器。\n",
    "2.函数+yield\n",
    "    def func():\n",
    "    ...\n",
    "    yield\n",
    "    ...\n",
    "g = func()\n",
    "g 就是生成器了。\n",
    "\n",
    "得到里面的元素：调用系统函数：next(g)\n",
    "生成器里面的函数：__next__()  send(None),send(xxx)\n",
    "\n",
    "迭代器和可迭代的:\n",
    "1.生成器 2.字符串，列表，集合\n",
    "\n",
    "利用 Isinstance(x,Iterable)来判断是否可迭代。\n",
    "\n",
    "\n",
    "面向对象：\n",
    "类\n",
    "class 类名:\n",
    "    特征：属性\n",
    "    动作：方法\n",
    "'''"
   ]
  },
  {
   "cell_type": "code",
   "execution_count": 12,
   "metadata": {},
   "outputs": [
    {
     "name": "stdout",
     "output_type": "stream",
     "text": [
      "4360636008\n",
      "self-------> <__main__.Phone object at 0x103ea0668>\n",
      "正在打电话...\n",
      "4360607560\n",
      "self-------> <__main__.Phone object at 0x103e99748>\n",
      "正在打电话...\n"
     ]
    }
   ],
   "source": [
    "'''\n",
    "类中方法： 动作\n",
    "种类：普通方法 类方法 \n",
    "def 方法名(self[,参数，参数]):\n",
    "    pass\n",
    "'''\n",
    "class Phone:\n",
    "    brand = \"xiaomi\"\n",
    "    price = 9000\n",
    "    type = 'mate 80'\n",
    "    #Phone里面的方法:call\n",
    "    def call(self):\n",
    "        print('self------->',self)\n",
    "        print(\"正在打电话...\")\n",
    "        print(\"留言...\",self.note)\n",
    "phone1 = Phone()\n",
    "print(id(phone1))\n",
    "phone1.call()#我在调用这个method的时候，phone1是有自己的空间的，一调用我就把phone1自身的地址传给self。\n",
    "phone2 = Phone()\n",
    "print(id(phone2))\n",
    "phone2.call()"
   ]
  },
  {
   "cell_type": "code",
   "execution_count": 37,
   "metadata": {},
   "outputs": [
    {
     "name": "stdout",
     "output_type": "stream",
     "text": [
      "self-------> <__main__.Phone object at 0x103ecd400>\n",
      "正在打电话...\n",
      "留言... 我是phone1的note\n",
      "dict_items([('yingying', 1234123123)])\n",
      "dict_items([('haowen', 1231233)])\n",
      "self-------> <__main__.Phone object at 0x103ecdac8>\n",
      "正在打电话...\n",
      "留言... 我是phone2222222的note\n",
      "dict_items([('yingying', 1234123123)])\n",
      "dict_items([('haowen', 1231233)])\n"
     ]
    }
   ],
   "source": [
    "class Phone:\n",
    "    brand = \"xiaomi\"\n",
    "    price = 9000\n",
    "    type = 'mate 80'\n",
    "    #Phone里面的方法:call\n",
    "    def call(self):\n",
    "        print('self------->',self)\n",
    "        print(\"正在打电话...\")\n",
    "        print(\"留言...\",self.note)\n",
    "        for person in self.address_book:\n",
    "            print(person.items())\n",
    "            \n",
    "phone1 = Phone()\n",
    "phone2 = Phone()\n",
    "phone1.note = '我是phone1的note'\n",
    "phone1.address_book = [{\"yingying\":1234123123},{\"haowen\":1231233}]\n",
    "phone2.note = '我是phone2222222的note'\n",
    "phone1.call()\n",
    "phone2.address_book = [{\"yingying\":1234123123},{\"haowen\":1231233}]\n",
    "phone2.call()\n",
    "\n",
    "#这是在每个人自己的地址里创建一些属性"
   ]
  },
  {
   "cell_type": "code",
   "execution_count": 39,
   "metadata": {},
   "outputs": [
    {
     "name": "stdout",
     "output_type": "stream",
     "text": [
      "----> admin\n",
      "aa\n",
      "bb\n",
      "cc\n",
      "dd\n"
     ]
    }
   ],
   "source": [
    "def func(name):\n",
    "    print('---->',name)\n",
    "username = 'admin'\n",
    "func(username)\n",
    "\n",
    "def func(names):\n",
    "    for name in names:\n",
    "        print(name)\n",
    "name_list = ['aa','bb','cc','dd']\n",
    "func(name_list)"
   ]
  },
  {
   "cell_type": "code",
   "execution_count": 44,
   "metadata": {},
   "outputs": [
    {
     "name": "stdout",
     "output_type": "stream",
     "text": [
      "wow\n",
      "<__main__.Phone object at 0x103ecdcf8>\n",
      "<bound method Phone.call of <__main__.Phone object at 0x103ecdcf8>>\n",
      "wow\n",
      "<__main__.Phone object at 0x103ebc940>\n",
      "<bound method Phone.call of <__main__.Phone object at 0x103ebc940>>\n"
     ]
    }
   ],
   "source": [
    "class Phone:\n",
    "    #magic   __名字__()\n",
    "    def __init__(self):\n",
    "        pass\n",
    "    def call(self):#本质是传对象进去，为什么对象可以传？这是自然的，因为对象就是我们自定义的数据结构\n",
    "        print(\"wow\")\n",
    "        print(self)\n",
    "        print('价格:',self.price)#这里本来不能保证每一个对象都有price这个属性。\n",
    "p1 = Phone()\n",
    "p1.call()\n",
    "print(p1.call)\n",
    "p2 = Phone()\n",
    "p2.call()\n",
    "print(p2.call)"
   ]
  },
  {
   "cell_type": "code",
   "execution_count": 49,
   "metadata": {},
   "outputs": [
    {
     "name": "stdout",
     "output_type": "stream",
     "text": [
      "---------init\n",
      "---------init\n"
     ]
    }
   ],
   "source": [
    "class Phone:\n",
    "    #magic   __名字__()\n",
    "    def __init__(self):#类似于C++中的构造函数\n",
    "        #只要我创造一个具体对象它就会被调用！\n",
    "        print('---------init')\n",
    "        #动态地给self空间添加了两个属性\n",
    "        #这里不放在外面是为了每个实例对象的属性的统一性，\n",
    "        self.brand = ''\n",
    "        self.price = 4999\n",
    "    def call(self):#本质是传对象进去，为什么对象可以传？这是自然的，因为对象就是我们自定义的数据结构\n",
    "        print(\"wow\")\n",
    "        print(self)\n",
    "        #这里本来不能保证每一个对象都有price这个属性。\n",
    "p = Phone()\n",
    "p1 = Phone()"
   ]
  },
  {
   "cell_type": "code",
   "execution_count": 53,
   "metadata": {},
   "outputs": [
    {
     "name": "stdout",
     "output_type": "stream",
     "text": [
      "wow\n",
      "<__main__.Phone object at 0x103eeea90>\n",
      "wow\n",
      "<__main__.Phone object at 0x103eeeac8>\n",
      "wow\n",
      "<__main__.Phone object at 0x103ebc940>\n",
      "4999\n",
      "5999\n",
      "4999\n"
     ]
    }
   ],
   "source": [
    "'''\n",
    "1.找有没有一块空间是Phone\n",
    "2.利用Phone类，向内存申请一块'Phone'一样的空间。\n",
    "3.去Phone中找有没有__init__这个magic，如果没有则执行将开辟内存给对象名p\n",
    "4.如果找到了__init__ 就执行里面的动作之后再将内存地址赋值给p\n",
    "'''\n",
    "p.call()\n",
    "p1.call()\n",
    "p2.call()\n",
    "print(p1.price)\n",
    "p2.price = 5999\n",
    "print(p2.price)\n",
    "print(p1.price)"
   ]
  },
  {
   "cell_type": "code",
   "execution_count": 66,
   "metadata": {},
   "outputs": [
    {
     "name": "stdout",
     "output_type": "stream",
     "text": [
      "Haowen正在吃红烧肉\n",
      "他今年18岁了\n",
      "张三今年18岁，正在跑步\n",
      "李四今年25岁，正在跑步\n"
     ]
    }
   ],
   "source": [
    "class Person:\n",
    "    name = '张三'\n",
    "    def __init__(self):\n",
    "        self.name = \"张三\"\n",
    "        self.age = 18\n",
    "    def eat(self):\n",
    "        print(f\"{self.name}正在吃红烧肉\")\n",
    "        print(f\"他今年{self.age}岁了\")\n",
    "    def run(self):\n",
    "        print(f\"{self.name}今年{self.age}岁，正在跑步\")\n",
    "p1 = Person()\n",
    "p1.name = \"Haowen\"\n",
    "p1.eat()\n",
    "p2 = Person()\n",
    "p2.run()\n",
    "p2.name = \"李四\"\n",
    "p2.age = 25\n",
    "p2.run()"
   ]
  },
  {
   "cell_type": "code",
   "execution_count": 72,
   "metadata": {},
   "outputs": [
    {
     "name": "stdout",
     "output_type": "stream",
     "text": [
      "浩文今年21岁，正在跑步\n",
      "浩文正在吃香蕉🍌\n",
      "他今年21岁了\n",
      "浩文正在吃老八馅饼🥙\n",
      "他今年21岁了\n"
     ]
    }
   ],
   "source": [
    "class Person:\n",
    "    name = '张三'\n",
    "    def __init__(self,name,age):\n",
    "        self.name = name#其实可以叫做self.name = n但是这降低了代码可读性，所以统一会比较好\n",
    "        self.age = age\n",
    "    def eat(self,food):\n",
    "        print(f\"{self.name}正在吃{food}\")\n",
    "        print(f\"他今年{self.age}岁了\")\n",
    "    def run(self):\n",
    "        print(f\"{self.name}今年{self.age}岁，正在跑步\")\n",
    "\n",
    "        \n",
    "p = Person(\"浩文\",21)\n",
    "p.run()\n",
    "p.eat(\"香蕉🍌\")\n",
    "p.eat(\"老八馅饼🥙\")"
   ]
  },
  {
   "cell_type": "code",
   "execution_count": 79,
   "metadata": {},
   "outputs": [
    {
     "name": "stdout",
     "output_type": "stream",
     "text": [
      "yingying抓了一只yellow的大老鼠，有1米长\n",
      "乖乖！继续睡觉吧！😪\n",
      "赶快起床去抓老鼠🐭！\n",
      "🐱的详细信息是：\n",
      "昵称yingying,年龄21,毛色yellow\n"
     ]
    }
   ],
   "source": [
    "#猫类🐱\n",
    "class Cat:\n",
    "    type = \"cat\"\n",
    "    \n",
    "    def __init__(self,nickname,age,color):\n",
    "        self.nickname= nickname\n",
    "        self.age = age\n",
    "        self.color = color\n",
    "    def eat(self,food):\n",
    "        print(f\"{self.nickname}喜欢吃{food}\")\n",
    "    def catch_rat(self,color,size):\n",
    "        print(f\"{self.nickname}抓了一只{color}的大老鼠，有{size}长\")\n",
    "    def sleep(self,hour):\n",
    "        if hour<5:\n",
    "            print(\"乖乖！继续睡觉吧！😪\")\n",
    "        else:\n",
    "            print(\"赶快起床去抓老鼠🐭！\")\n",
    "    def show(self):\n",
    "        print(\"🐱的详细信息是：\")\n",
    "        print(f\"昵称{self.nickname},年龄{self.age},毛色{self.color}\")\n",
    "cat1 = Cat(\"yingying\",21,\"yellow\")\n",
    "cat1.catch_rat(\"yellow\",\"1米\")\n",
    "cat1.sleep(2)\n",
    "cat1.sleep(10)\n",
    "cat1.show()"
   ]
  },
  {
   "cell_type": "code",
   "execution_count": 82,
   "metadata": {},
   "outputs": [
    {
     "name": "stdout",
     "output_type": "stream",
     "text": [
      "大黄在院子里跑来跑去\n",
      "<class '__main__.Dog'>\n",
      "2\n"
     ]
    },
    {
     "ename": "AttributeError",
     "evalue": "type object 'Dog' has no attribute 'nickname'",
     "output_type": "error",
     "traceback": [
      "\u001b[0;31m---------------------------------------------------------------------------\u001b[0m",
      "\u001b[0;31mAttributeError\u001b[0m                            Traceback (most recent call last)",
      "\u001b[0;32m<ipython-input-82-b4b8e213395c>\u001b[0m in \u001b[0;36m<module>\u001b[0;34m\u001b[0m\n\u001b[1;32m     20\u001b[0m \u001b[0mDog1\u001b[0m \u001b[0;34m=\u001b[0m \u001b[0mDog\u001b[0m\u001b[0;34m(\u001b[0m\u001b[0;34m'大黄'\u001b[0m\u001b[0;34m)\u001b[0m\u001b[0;34m\u001b[0m\u001b[0;34m\u001b[0m\u001b[0m\n\u001b[1;32m     21\u001b[0m \u001b[0mDog1\u001b[0m\u001b[0;34m.\u001b[0m\u001b[0mrun\u001b[0m\u001b[0;34m(\u001b[0m\u001b[0;34m)\u001b[0m\u001b[0;34m\u001b[0m\u001b[0;34m\u001b[0m\u001b[0m\n\u001b[0;32m---> 22\u001b[0;31m \u001b[0mDog1\u001b[0m\u001b[0;34m.\u001b[0m\u001b[0mtest\u001b[0m\u001b[0;34m(\u001b[0m\u001b[0;34m)\u001b[0m\u001b[0;31m#type object 'Dog' has no attribute 'nickname'\u001b[0m\u001b[0;34m\u001b[0m\u001b[0;34m\u001b[0m\u001b[0m\n\u001b[0m",
      "\u001b[0;32m<ipython-input-82-b4b8e213395c>\u001b[0m in \u001b[0;36mtest\u001b[0;34m(cls)\u001b[0m\n\u001b[1;32m     16\u001b[0m         \u001b[0mprint\u001b[0m\u001b[0;34m(\u001b[0m\u001b[0mcls\u001b[0m\u001b[0;34m)\u001b[0m\u001b[0;34m\u001b[0m\u001b[0;34m\u001b[0m\u001b[0m\n\u001b[1;32m     17\u001b[0m         \u001b[0mprint\u001b[0m\u001b[0;34m(\u001b[0m\u001b[0mcls\u001b[0m\u001b[0;34m.\u001b[0m\u001b[0mage\u001b[0m\u001b[0;34m)\u001b[0m\u001b[0;34m\u001b[0m\u001b[0;34m\u001b[0m\u001b[0m\n\u001b[0;32m---> 18\u001b[0;31m         \u001b[0mprint\u001b[0m\u001b[0;34m(\u001b[0m\u001b[0mcls\u001b[0m\u001b[0;34m.\u001b[0m\u001b[0mnickname\u001b[0m\u001b[0;34m)\u001b[0m\u001b[0;34m\u001b[0m\u001b[0;34m\u001b[0m\u001b[0m\n\u001b[0m\u001b[1;32m     19\u001b[0m \u001b[0;34m\u001b[0m\u001b[0m\n\u001b[1;32m     20\u001b[0m \u001b[0mDog1\u001b[0m \u001b[0;34m=\u001b[0m \u001b[0mDog\u001b[0m\u001b[0;34m(\u001b[0m\u001b[0;34m'大黄'\u001b[0m\u001b[0;34m)\u001b[0m\u001b[0;34m\u001b[0m\u001b[0;34m\u001b[0m\u001b[0m\n",
      "\u001b[0;31mAttributeError\u001b[0m: type object 'Dog' has no attribute 'nickname'"
     ]
    }
   ],
   "source": [
    "#类方法 (了解即可) 在普通方法上加一个装饰器 @classmethod 就行了。classmethod 是底层写好的东西\n",
    "#一定要注意类方法🥱中只能使用类属性，而不能使用对象属性\n",
    "class Dog:\n",
    "    age = 2\n",
    "    def __init__(self,nickname):\n",
    "        self.nickname = nickname\n",
    "        #在self里面 动态 地创建！Dog类本身的空间里是没有nickname的！！！！！！\n",
    "    #普通方法依赖于类对象存在 self     对象 \n",
    "    def run(self):\n",
    "        print(f\"{self.nickname}在院子里跑来跑去\")\n",
    "    \n",
    "    @classmethod #这个是内置写好的装饰器吧？\n",
    "    #这里的cls就是Dog类\n",
    "    #因此我们看到打印出了 <class '__main__.Dog'>\n",
    "    #但是我们类没有nickname这个属性呀！✍️\n",
    "    def test(cls): #cls class\n",
    "        print(cls)\n",
    "        print(cls.age)\n",
    "        print(cls.nickname)\n",
    "        \n",
    "Dog1 = Dog('大黄')\n",
    "Dog1.run()\n",
    "Dog1.test()#type object 'Dog' has no attribute 'nickname'"
   ]
  },
  {
   "cell_type": "code",
   "execution_count": 84,
   "metadata": {},
   "outputs": [
    {
     "name": "stdout",
     "output_type": "stream",
     "text": [
      "<class '__main__.Dog'>\n",
      "2\n",
      "我是一只小花狗🐶～\n"
     ]
    }
   ],
   "source": [
    "#类方法即使不创建实例对象，也可以直接调用！\n",
    "class Dog:\n",
    "    age = 2\n",
    "    def __init__(self,nickname):\n",
    "        self.nickname = nickname\n",
    "        #在self里面 动态 地创建！Dog类本身的空间里是没有nickname的！！！！！！\n",
    "    #普通方法依赖于类对象存在 self     对象 \n",
    "    def run(self):\n",
    "        print(f\"{self.nickname}在院子里跑来跑去\")\n",
    "    \n",
    "    @classmethod #这个是内置写好的装饰器吧？\n",
    "    #这里的cls就是Dog类\n",
    "    #因此我们看到打印出了 <class '__main__.Dog'>\n",
    "    #但是我们类没有nickname这个属性呀！✍️\n",
    "    def test(cls): #cls class\n",
    "        print(cls)\n",
    "        print(cls.age)\n",
    "        print(\"我是一只小花狗🐶～\")\n",
    "Dog.test()"
   ]
  },
  {
   "cell_type": "code",
   "execution_count": 85,
   "metadata": {},
   "outputs": [
    {
     "name": "stdout",
     "output_type": "stream",
     "text": [
      "先跑步哦\n",
      "西西在院子里跑来跑去\n",
      "开饭啦～吃🍉\n"
     ]
    }
   ],
   "source": [
    "#普通方法可以互相调用\n",
    "class Dog:\n",
    "    age = 2\n",
    "    def __init__(self,nickname):\n",
    "        self.nickname = nickname\n",
    "        #在self里面 动态 地创建！Dog类本身的空间里是没有nickname的！！！！！！\n",
    "    #普通方法依赖于类对象存在 self     对象 \n",
    "    def run(self):\n",
    "        print(f\"{self.nickname}在院子里跑来跑去\")\n",
    "    def eat(self):\n",
    "        print(\"先跑步哦\")\n",
    "        self.run()\n",
    "        print(\"开饭啦～吃🍉\")\n",
    "    @classmethod #这个是内置写好的装饰器吧？\n",
    "    #这里的cls就是Dog类\n",
    "    #因此我们看到打印出了 <class '__main__.Dog'>\n",
    "    #但是我们类没有nickname这个属性呀！✍️\n",
    "    def test(cls): #cls class\n",
    "        print(cls)\n",
    "        print(cls.age)\n",
    "        print(cls.nickname)\n",
    "Dog1 = Dog(\"西西\")\n",
    "Dog1.eat()"
   ]
  },
  {
   "cell_type": "code",
   "execution_count": 89,
   "metadata": {},
   "outputs": [],
   "source": [
    "#普通方法和普通方法可以互相调用但是类方法中不可以调用普通的方法，因为没有self啊！！！\n",
    "#尝试了一下即使没有self也不行\n",
    "'''\n",
    "类方法的作用：因为只能访问类属性和类方法，所以可以在创建具体实例对象之前，如果需要执行一些动作，就可以放在类方法\n",
    "中去实现。\n",
    "简单说就是不依赖于类对象，独立实现。\n",
    "'''"
   ]
  },
  {
   "cell_type": "code",
   "execution_count": 97,
   "metadata": {},
   "outputs": [
    {
     "ename": "AttributeError",
     "evalue": "type object 'Person' has no attribute 'age'",
     "output_type": "error",
     "traceback": [
      "\u001b[0;31m---------------------------------------------------------------------------\u001b[0m",
      "\u001b[0;31mAttributeError\u001b[0m                            Traceback (most recent call last)",
      "\u001b[0;32m<ipython-input-97-719fb01b808e>\u001b[0m in \u001b[0;36m<module>\u001b[0;34m\u001b[0m\n\u001b[1;32m      9\u001b[0m         \u001b[0mprint\u001b[0m\u001b[0;34m(\u001b[0m\u001b[0;34m'-------->类方法'\u001b[0m\u001b[0;34m)\u001b[0m\u001b[0;34m\u001b[0m\u001b[0;34m\u001b[0m\u001b[0m\n\u001b[1;32m     10\u001b[0m \u001b[0mp\u001b[0m \u001b[0;34m=\u001b[0m \u001b[0mPerson\u001b[0m\u001b[0;34m(\u001b[0m\u001b[0;34m)\u001b[0m\u001b[0;34m\u001b[0m\u001b[0;34m\u001b[0m\u001b[0m\n\u001b[0;32m---> 11\u001b[0;31m \u001b[0mp\u001b[0m\u001b[0;34m.\u001b[0m\u001b[0mshow\u001b[0m\u001b[0;34m(\u001b[0m\u001b[0;34m)\u001b[0m\u001b[0;34m\u001b[0m\u001b[0;34m\u001b[0m\u001b[0m\n\u001b[0m\u001b[1;32m     12\u001b[0m \u001b[0mp\u001b[0m\u001b[0;34m.\u001b[0m\u001b[0mage\u001b[0m \u001b[0;34m+=\u001b[0m \u001b[0;36m1\u001b[0m\u001b[0;31m#因为这里改的只是对象自己的age\u001b[0m\u001b[0;34m\u001b[0m\u001b[0;34m\u001b[0m\u001b[0m\n\u001b[1;32m     13\u001b[0m \u001b[0mp\u001b[0m\u001b[0;34m.\u001b[0m\u001b[0mshow\u001b[0m\u001b[0;34m(\u001b[0m\u001b[0;34m)\u001b[0m\u001b[0;34m\u001b[0m\u001b[0;34m\u001b[0m\u001b[0m\n",
      "\u001b[0;32m<ipython-input-97-719fb01b808e>\u001b[0m in \u001b[0;36mshow\u001b[0;34m(self)\u001b[0m\n\u001b[1;32m      3\u001b[0m \u001b[0;34m\u001b[0m\u001b[0m\n\u001b[1;32m      4\u001b[0m     \u001b[0;32mdef\u001b[0m \u001b[0mshow\u001b[0m\u001b[0;34m(\u001b[0m\u001b[0mself\u001b[0m\u001b[0;34m)\u001b[0m\u001b[0;34m:\u001b[0m\u001b[0;34m\u001b[0m\u001b[0;34m\u001b[0m\u001b[0m\n\u001b[0;32m----> 5\u001b[0;31m         \u001b[0mprint\u001b[0m\u001b[0;34m(\u001b[0m\u001b[0;34m'-------->'\u001b[0m\u001b[0;34m,\u001b[0m\u001b[0mPerson\u001b[0m\u001b[0;34m.\u001b[0m\u001b[0mage\u001b[0m\u001b[0;34m)\u001b[0m\u001b[0;34m\u001b[0m\u001b[0;34m\u001b[0m\u001b[0m\n\u001b[0m\u001b[1;32m      6\u001b[0m \u001b[0;34m\u001b[0m\u001b[0m\n\u001b[1;32m      7\u001b[0m     \u001b[0;34m@\u001b[0m\u001b[0mclassmethod\u001b[0m\u001b[0;34m\u001b[0m\u001b[0;34m\u001b[0m\u001b[0m\n",
      "\u001b[0;31mAttributeError\u001b[0m: type object 'Person' has no attribute 'age'"
     ]
    }
   ],
   "source": [
    "class Person:\n",
    "    __age = 18#这就是私有化，外界没办法操作我，只能在类里面进行操作\n",
    "    \n",
    "    def show(self):\n",
    "        print('-------->',Person.age)\n",
    "    \n",
    "    @classmethod\n",
    "    def test(cls):\n",
    "        print('-------->类方法')\n",
    "p = Person()\n",
    "p.show()\n",
    "p.age += 1#因为这里改的只是对象自己的age\n",
    "p.show()\n",
    "Person.age += 1\n",
    "p = Person()#但是这个是不太好的，我们往往会把Person里的一些属性私有化，外界是没法改的\n",
    "p.show()"
   ]
  },
  {
   "cell_type": "code",
   "execution_count": 98,
   "metadata": {},
   "outputs": [
    {
     "name": "stdout",
     "output_type": "stream",
     "text": [
      "修改后的年龄为 18\n",
      "-------->类方法\n",
      "修改后的年龄为 20\n"
     ]
    }
   ],
   "source": [
    "class Person:\n",
    "    __age = 18#这就是私有化，外界没办法操作我，只能在类里面进行操作\n",
    "    \n",
    "    def show(self):\n",
    "        print('-------->',Person.age)\n",
    "    \n",
    "    @classmethod\n",
    "    def change_age(cls):\n",
    "        cls.__age = 20\n",
    "        print('-------->类方法')\n",
    "    @classmethod\n",
    "    def show_age(cls):\n",
    "        print(\"修改后的年龄为\",cls.__age)\n",
    "Person.show_age()\n",
    "Person.change_age()\n",
    "Person.show_age()"
   ]
  },
  {
   "cell_type": "code",
   "execution_count": null,
   "metadata": {},
   "outputs": [],
   "source": []
  }
 ],
 "metadata": {
  "kernelspec": {
   "display_name": "Python 3",
   "language": "python",
   "name": "python3"
  },
  "language_info": {
   "codemirror_mode": {
    "name": "ipython",
    "version": 3
   },
   "file_extension": ".py",
   "mimetype": "text/x-python",
   "name": "python",
   "nbconvert_exporter": "python",
   "pygments_lexer": "ipython3",
   "version": "3.7.3"
  }
 },
 "nbformat": 4,
 "nbformat_minor": 2
}
