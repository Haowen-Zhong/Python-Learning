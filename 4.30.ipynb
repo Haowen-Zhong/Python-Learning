{
 "cells": [
  {
   "cell_type": "markdown",
   "metadata": {},
   "source": [
    "# 成功的公式：\n",
    "$$while \\ no\\_success \\ = \\  True:\\\\\n",
    "    Try\\_again()\\\\\n",
    "    if \\ dead\\  ==\\  True:\\\\\n",
    "        break$$"
   ]
  },
  {
   "cell_type": "code",
   "execution_count": 2,
   "metadata": {},
   "outputs": [
    {
     "name": "stdout",
     "output_type": "stream",
     "text": [
      "正在搬第0块🧱！\n",
      "正在搬第1块🧱！\n",
      "正在搬第2块🧱！\n",
      "正在搬第3块🧱！\n",
      "正在搬第4块🧱！\n",
      "正在听第0首歌!\n",
      "正在听第1首歌!\n",
      "正在听第2首歌!\n"
     ]
    }
   ],
   "source": [
    "#进程>线程>协程\n",
    "#协程就是线程的小分支\n",
    "def task1(n):\n",
    "    for i in range(n):\n",
    "        print(f\"正在搬第{i}块🧱！\")\n",
    "def task2(n):\n",
    "    for i in range(n):\n",
    "        print(f\"正在听第{i}首歌!\")\n",
    "task1(5)\n",
    "task2(3)\n",
    "#那能不能交替进行呢？搬一块🧱听一首歌，这时候就可以用生成器了！"
   ]
  },
  {
   "cell_type": "code",
   "execution_count": 1,
   "metadata": {},
   "outputs": [
    {
     "name": "stdout",
     "output_type": "stream",
     "text": [
      "正在搬第1块🧱！\n",
      "正在听第1首歌!\n",
      "正在搬第2块🧱！\n",
      "正在听第2首歌!\n",
      "正在搬第3块🧱！\n",
      "正在听第3首歌!\n",
      "正在搬第4块🧱！\n"
     ]
    }
   ],
   "source": [
    "def task1(n):\n",
    "    for i in range(n):\n",
    "        print(f\"正在搬第{i+1}块🧱！\")\n",
    "        yield None#就利用yield的暂停任务\n",
    "def task2(n):\n",
    "    for i in range(n):\n",
    "        print(f\"正在听第{i+1}首歌!\")\n",
    "        yield None#就利用yield的暂停任务\n",
    "g1 = task1(5)\n",
    "g2 = task2(3)\n",
    "while True:\n",
    "    try:\n",
    "        g1.__next__()#先做你\n",
    "        g2.__next__()#再做他\n",
    "    except:\n",
    "        break"
   ]
  },
  {
   "cell_type": "code",
   "execution_count": 2,
   "metadata": {
    "collapsed": true
   },
   "outputs": [
    {
     "data": {
      "text/plain": [
       "'\\n生成器generator     目的就是节省存储空间\\n定义生成器的方式：\\n1.通过列表推导式方式来构建 g = (x*2 for x in range(7))\\n\\n2.函数+yield\\ndef func():\\n    ...\\n    yield\\ng = func()\\n产生元素:\\n1.next(generator) --->每次调用都会产生一个新的元素，如果元素产生完毕，再次调用的话就会产生异常\\n2.生成器自己的方法：\\ng.__next__()\\ng.send(value)\\n\\n应用:协程\\n'"
      ]
     },
     "execution_count": 2,
     "metadata": {},
     "output_type": "execute_result"
    }
   ],
   "source": [
    "'''\n",
    "生成器generator     目的就是节省存储空间\n",
    "定义生成器的方式：\n",
    "1.通过列表推导式方式来构建 g = (x*2 for x in range(7))\n",
    "\n",
    "2.函数+yield\n",
    "def func():\n",
    "    ...\n",
    "    yield\n",
    "g = func()\n",
    "产生元素:\n",
    "1.next(generator) --->每次调用都会产生一个新的元素，如果元素产生完毕，再次调用的话就会产生异常\n",
    "2.生成器自己的方法：\n",
    "g.__next__()\n",
    "g.send(value)\n",
    "\n",
    "应用:协程\n",
    "'''"
   ]
  },
  {
   "cell_type": "code",
   "execution_count": 11,
   "metadata": {},
   "outputs": [
    {
     "name": "stdout",
     "output_type": "stream",
     "text": [
      "True\n",
      "True\n",
      "False\n",
      "True\n"
     ]
    }
   ],
   "source": [
    "# 可迭代的对象：1.生成器 2.集合 列表 元组 字典 字符串\n",
    "# 如何判断一个对象是否可迭代？\n",
    "from collections import Iterable\n",
    "list1 = [1,2,3,4,5]\n",
    "f = isinstance(list1,Iterable)#判断是否是xxx的实例\n",
    "print(f)\n",
    "f = isinstance('132323',Iterable)#判断是否是xxx的实例\n",
    "print(f)\n",
    "f = isinstance(100,Iterable)#判断是否是xxx的实例\n",
    "print(f)\n",
    "#wow!生成器确实是可迭代的呢！\n",
    "g = (x*2 for x in range(5))\n",
    "f = isinstance(g,Iterable)\n",
    "print(f)"
   ]
  },
  {
   "cell_type": "code",
   "execution_count": 12,
   "metadata": {},
   "outputs": [
    {
     "ename": "TypeError",
     "evalue": "'list' object is not an iterator",
     "output_type": "error",
     "traceback": [
      "\u001b[0;31m---------------------------------------------------------------------------\u001b[0m",
      "\u001b[0;31mTypeError\u001b[0m                                 Traceback (most recent call last)",
      "\u001b[0;32m<ipython-input-12-7795616e504d>\u001b[0m in \u001b[0;36m<module>\u001b[0;34m\u001b[0m\n\u001b[1;32m      2\u001b[0m \u001b[0;31m#迭代器对象从集合的第一个元素开始访问，直到所有元素被访问完结束，迭代器只能往前不能退后。\u001b[0m\u001b[0;34m\u001b[0m\u001b[0;34m\u001b[0m\u001b[0;34m\u001b[0m\u001b[0m\n\u001b[1;32m      3\u001b[0m \u001b[0mlist1\u001b[0m \u001b[0;34m=\u001b[0m \u001b[0;34m[\u001b[0m\u001b[0;36m1\u001b[0m\u001b[0;34m,\u001b[0m\u001b[0;36m2\u001b[0m\u001b[0;34m,\u001b[0m\u001b[0;36m3\u001b[0m\u001b[0;34m,\u001b[0m\u001b[0;36m4\u001b[0m\u001b[0;34m,\u001b[0m\u001b[0;36m5\u001b[0m\u001b[0;34m]\u001b[0m\u001b[0;34m\u001b[0m\u001b[0;34m\u001b[0m\u001b[0m\n\u001b[0;32m----> 4\u001b[0;31m \u001b[0mnext\u001b[0m\u001b[0;34m(\u001b[0m\u001b[0mlist1\u001b[0m\u001b[0;34m)\u001b[0m\u001b[0;34m\u001b[0m\u001b[0;34m\u001b[0m\u001b[0m\n\u001b[0m",
      "\u001b[0;31mTypeError\u001b[0m: 'list' object is not an iterator"
     ]
    }
   ],
   "source": [
    "#迭代器 可以被next()调用且不断返回下一个值的对象称为迭代器:Iterator\n",
    "#迭代器对象从集合的第一个元素开始访问，直到所有元素被访问完结束，迭代器只能往前不能退后。\n",
    "#生成器是可迭代的，同时也是迭代器。列表是可迭代的，但是不是迭代器\n",
    "list1 = [1,2,3,4,5]\n",
    "next(list1) #'list' object is not an iterator"
   ]
  },
  {
   "cell_type": "code",
   "execution_count": 17,
   "metadata": {},
   "outputs": [
    {
     "name": "stdout",
     "output_type": "stream",
     "text": [
      "<list_iterator object at 0x10774e4e0>\n"
     ]
    }
   ],
   "source": [
    "'''\n",
    "生成器 v.s. 迭代器\n",
    "迭代器是一个大的范围，生成器只是迭代器中的一个小类。只要能用next()产生元素就称为迭代器。\n",
    "迭代器可以分成两类，生成器天生就是迭代器，而元组，列表等可以通过iter()转换为迭代器。\n",
    "'''\n",
    "list1 = [1,2,3,4,5]\n",
    "change = iter(list1)\n",
    "print(change)#通过iter可以将list转换为迭代器"
   ]
  },
  {
   "cell_type": "markdown",
   "metadata": {},
   "source": [
    "# 面向对象！！！"
   ]
  },
  {
   "cell_type": "code",
   "execution_count": 18,
   "metadata": {
    "collapsed": true
   },
   "outputs": [
    {
     "data": {
      "text/plain": [
       "' \\n程序         现实中\\n对象  -----> 具体的事物\\n将现实中的事物----->转成电脑程序\\n世间万物皆为对象，看得见的摸得着的，我就认为是对象。\\n\\n面向对象：\\n    类\\n    对象\\n    属性\\n    方法\\n    \\n    \\n对象：\\n我比较直观的理解就是：如果我们没有对象的概念，我们可能需要重复地创造代码，只修改少量属性，但是如果\\n有一个类呢？直接生成一个对象就可以了。\\n类别：\\n手机类：共同特征：品牌，颜色，大小，价格         打电话，发短信，发微信，玩app，看知乎。\\n电脑类：学习，写代码\\n'"
      ]
     },
     "execution_count": 18,
     "metadata": {},
     "output_type": "execute_result"
    }
   ],
   "source": [
    "''' \n",
    "程序         现实中\n",
    "对象  -----> 具体的事物\n",
    "将现实中的事物----->转成电脑程序\n",
    "世间万物皆为对象，看得见的摸得着的，我就认为是对象。\n",
    "\n",
    "面向对象：\n",
    "    类\n",
    "    对象\n",
    "    属性\n",
    "    方法\n",
    "    \n",
    "    \n",
    "对象：\n",
    "我比较直观的理解就是：如果我们没有对象的概念，我们可能需要重复地创造代码，只修改少量属性，但是如果\n",
    "有一个类呢？直接生成一个对象就可以了。\n",
    "类别：\n",
    "手机类：共同特征：品牌，颜色，大小，价格         打电话，发短信，发微信，玩app，看知乎。\n",
    "电脑类：学习，写代码\n",
    "'''\n",
    "#所有类名要求首字母大写，多个单词使用驼峰式命名\n",
    "# ValueError TypeError StopIteration\n",
    "#所有类默认继承object\n",
    "#class L名[(父类)]:\n",
    "#   属性：特征\n",
    "#   方法：动作"
   ]
  },
  {
   "cell_type": "code",
   "execution_count": 19,
   "metadata": {},
   "outputs": [
    {
     "name": "stdout",
     "output_type": "stream",
     "text": [
      "<class '__main__.Phone'>\n"
     ]
    }
   ],
   "source": [
    "class Phone:\n",
    "    #属性\n",
    "    pass\n",
    "    #brand = ''\n",
    "    #方法\n",
    "print(Phone)"
   ]
  },
  {
   "cell_type": "code",
   "execution_count": 21,
   "metadata": {},
   "outputs": [
    {
     "name": "stdout",
     "output_type": "stream",
     "text": [
      "<__main__.Phone object at 0x107b65c50>\n",
      "<__main__.Phone object at 0x107b65828>\n"
     ]
    }
   ],
   "source": [
    "#创建一个实例\n",
    "yy = Phone()\n",
    "hw = Phone()\n",
    "print(yy)#<__main__.Phone object at 0x107758a90>\n",
    "print(hw)"
   ]
  },
  {
   "cell_type": "code",
   "execution_count": 28,
   "metadata": {},
   "outputs": [
    {
     "name": "stdout",
     "output_type": "stream",
     "text": [
      "Huawei\n",
      "Huawei\n",
      "Iphone\n",
      "Iphone XXS\n",
      "Huawei\n"
     ]
    }
   ],
   "source": [
    "class Phone:\n",
    "    brand = 'Huawei'\n",
    "yy = Phone()\n",
    "hw = Phone()\n",
    "zj = Phone()\n",
    "print(hw.brand)\n",
    "print(yy.brand)\n",
    "yy.brand = 'Iphone'\n",
    "hw.brand = 'Iphone XXS'\n",
    "print(yy.brand)\n",
    "print(hw.brand)\n",
    "print(zj.brand)"
   ]
  },
  {
   "cell_type": "code",
   "execution_count": 40,
   "metadata": {},
   "outputs": [
    {
     "name": "stdout",
     "output_type": "stream",
     "text": [
      "yy\n"
     ]
    },
    {
     "ename": "AttributeError",
     "evalue": "'Student' object has no attribute 'gender'",
     "output_type": "error",
     "traceback": [
      "\u001b[0;31m---------------------------------------------------------------------------\u001b[0m",
      "\u001b[0;31mAttributeError\u001b[0m                            Traceback (most recent call last)",
      "\u001b[0;32m<ipython-input-40-35111425dd16>\u001b[0m in \u001b[0;36m<module>\u001b[0;34m\u001b[0m\n\u001b[1;32m      9\u001b[0m \u001b[0;31m#并把name改成yy。如果有的话就直接用就好了。\u001b[0m\u001b[0;34m\u001b[0m\u001b[0;34m\u001b[0m\u001b[0;34m\u001b[0m\u001b[0m\n\u001b[1;32m     10\u001b[0m \u001b[0mprint\u001b[0m\u001b[0;34m(\u001b[0m\u001b[0myy\u001b[0m\u001b[0;34m.\u001b[0m\u001b[0mname\u001b[0m\u001b[0;34m)\u001b[0m\u001b[0;34m\u001b[0m\u001b[0;34m\u001b[0m\u001b[0m\n\u001b[0;32m---> 11\u001b[0;31m \u001b[0mprint\u001b[0m\u001b[0;34m(\u001b[0m\u001b[0myy\u001b[0m\u001b[0;34m.\u001b[0m\u001b[0mgender\u001b[0m\u001b[0;34m)\u001b[0m\u001b[0;31m#此时的我还没有定义\u001b[0m\u001b[0;34m\u001b[0m\u001b[0;34m\u001b[0m\u001b[0m\n\u001b[0m\u001b[1;32m     12\u001b[0m \u001b[0mfeifei\u001b[0m \u001b[0;34m=\u001b[0m \u001b[0mStudent\u001b[0m\u001b[0;34m(\u001b[0m\u001b[0;34m)\u001b[0m\u001b[0;34m\u001b[0m\u001b[0;34m\u001b[0m\u001b[0m\n\u001b[1;32m     13\u001b[0m \u001b[0mprint\u001b[0m\u001b[0;34m(\u001b[0m\u001b[0mfeifei\u001b[0m\u001b[0;34m.\u001b[0m\u001b[0mname\u001b[0m\u001b[0;34m)\u001b[0m\u001b[0;34m\u001b[0m\u001b[0;34m\u001b[0m\u001b[0m\n",
      "\u001b[0;31mAttributeError\u001b[0m: 'Student' object has no attribute 'gender'"
     ]
    }
   ],
   "source": [
    "#定义类和属性\n",
    "class Student:\n",
    "    name = 'haowen'\n",
    "    age = 21\n",
    "#使用类来创建对象\n",
    "hw = Student()#在创建的时候hw的空间里其实是空的\n",
    "yy = Student()\n",
    "yy.name = 'yy'#对象属性   首先看看yy自己的空间里有没有name？发现没有就去模型里找一找，找到了name这个属性\n",
    "#并把name改成yy。如果有的话就直接用就好了。\n",
    "print(yy.name)\n",
    "print(yy.gender)#此时的我还没有定义"
   ]
  },
  {
   "cell_type": "code",
   "execution_count": 50,
   "metadata": {
    "scrolled": true
   },
   "outputs": [
    {
     "name": "stdout",
     "output_type": "stream",
     "text": [
      "yingying\n",
      "feifei\n",
      "21\n",
      "1\n",
      "yingying\n"
     ]
    }
   ],
   "source": [
    "feifei = Student()\n",
    "print(feifei.name)\n",
    "feifei.name = \"feifei\"#只要有赋值操作就在自己的空间里创建这个属性\n",
    "print(feifei.name)\n",
    "print(feifei.age)\n",
    "feifei.age = 1\n",
    "print(feifei.age)\n",
    "Student.name = \"yingying\"\n",
    "hw = Student()\n",
    "print(hw.name)"
   ]
  },
  {
   "cell_type": "code",
   "execution_count": null,
   "metadata": {},
   "outputs": [],
   "source": []
  }
 ],
 "metadata": {
  "kernelspec": {
   "display_name": "Python 3",
   "language": "python",
   "name": "python3"
  },
  "language_info": {
   "codemirror_mode": {
    "name": "ipython",
    "version": 3
   },
   "file_extension": ".py",
   "mimetype": "text/x-python",
   "name": "python",
   "nbconvert_exporter": "python",
   "pygments_lexer": "ipython3",
   "version": "3.7.3"
  }
 },
 "nbformat": 4,
 "nbformat_minor": 2
}
