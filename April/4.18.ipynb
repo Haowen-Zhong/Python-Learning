{
 "cells": [
  {
   "cell_type": "markdown",
   "metadata": {},
   "source": [
    "## 成功的公式：\n",
    "## $$Effect=\\int_0^T\\eta(t)dt$$\n",
    "今天看到P26\n",
    "### 小结：\n",
    "1.输出字符串\n",
    "print(name)\n",
    "\n",
    "print(name,age)\n",
    "\n",
    "print(value1,value2,sep=\" \",end=\"\\n\")\n",
    "\n",
    "%s %d %f\n",
    "\n",
    "2.强制类型转换\n",
    "\n",
    "int->str str->int\n",
    "\n",
    "3.Format\n",
    "\n",
    "print('{},{}...'.format(value,value))\n",
    "\n",
    "input()输入阻塞式\n",
    "\n",
    "运算符：\n",
    "\n",
    "算术运算符"
   ]
  },
  {
   "cell_type": "code",
   "execution_count": 1,
   "metadata": {},
   "outputs": [
    {
     "name": "stdout",
     "output_type": "stream",
     "text": [
      "AAA2??\n",
      "???\n",
      "wow\n",
      "wowo: \t请点击我吧！\n",
      "wowo: \t请点击我吧！\r",
      "12323 12323 2323\n",
      "啥？！\n",
      "hello\r",
      "Python\n",
      "hello\\py\thon\n",
      "hello\\py\\thon\n",
      "hello\\py\\thon\n"
     ]
    }
   ],
   "source": [
    "#用end 可以去掉空格，并且用我喜欢的东西\n",
    "#sep = 'xx',end='xx'\n",
    "print('AAA',end=\"2\")\n",
    "print(\"??\")\n",
    "print(\"???\",end=\"\\n\")\n",
    "print(\"wow\")\n",
    "print(\"wowo:\",\"\\t请点击我吧！\",end=\"\\n\")#换行\n",
    "print(\"wowo:\",\"\\t请点击我吧！\",end=\"\\r\")#直接回到行首覆盖了！\n",
    "print(\"12323\",\"12323\",\"2323\",sep=\" \",end='\\n')  ###******这个是极其好用的\n",
    "print(\"啥？！\")\n",
    "print('hello\\rPython')\n",
    "print('hello\\py\\thon')\n",
    "print('hello\\\\py\\\\thon')#我非要这么输出就\\\\转义\n",
    "print(r'hello\\py\\thon')   #r''表示原样输出不转义"
   ]
  },
  {
   "cell_type": "code",
   "execution_count": 18,
   "metadata": {},
   "outputs": [
    {
     "name": "stdout",
     "output_type": "stream",
     "text": [
      "乔治说：\"想吃冰淇淋\"\n",
      "乔治说：'想玩恐龙'\n",
      "乔治说:' 想吃冰淇淋！！'\n",
      "乔治说：\"想睡觉！！！\"\n",
      "乔治说:\"想玩恐龙\"\n"
     ]
    }
   ],
   "source": [
    "#双引号里面可以放单引号，单引号里可以放双引号\n",
    "print('乔治说：\"想吃冰淇淋\"')\n",
    "print(\"乔治说：'想玩恐龙'\")\n",
    "print('乔治说:\\' 想吃冰淇淋！！\\'')\n",
    "print('乔治说：\"想睡觉''！！！\"')\n",
    "print(\"乔治说:\\\" 想玩恐龙\\\" \")#用转义字符"
   ]
  },
  {
   "cell_type": "code",
   "execution_count": 20,
   "metadata": {},
   "outputs": [
    {
     "name": "stdout",
     "output_type": "stream",
     "text": [
      "\\哈哈哈哈\n",
      "\\hahahah\n",
      "\\hahahhahaha\n"
     ]
    }
   ],
   "source": [
    "print('\\哈哈哈哈')\n",
    "print('\\hahahah')\n",
    "print(\"\\\\hahahhahaha\")"
   ]
  },
  {
   "cell_type": "markdown",
   "metadata": {},
   "source": [
    "## 字符串\n"
   ]
  },
  {
   "cell_type": "code",
   "execution_count": 31,
   "metadata": {},
   "outputs": [
    {
     "name": "stdout",
     "output_type": "stream",
     "text": [
      "Jack\n",
      "hello\n",
      "hello\n",
      "Python\n",
      "Python1701\n"
     ]
    }
   ],
   "source": [
    "#Python 中如果命名的是大写的就认为是大写的,这只是约定俗成而已，不是语法\n",
    "#字符串： 字符串表示 '' , \" \" , ''' '''\n",
    "#单双引号应该是没有区别的！\n",
    "NAME = 'Jack'\n",
    "print(NAME)\n",
    "\n",
    "print(\"hello\") # 输出的是字符串而且是常量\n",
    "\n",
    "value = \"hello\"\n",
    "print(value)\n",
    "\n",
    "value = \"Python\"\n",
    "print(value)\n",
    "\n",
    "value = \"Python1701\"\n",
    "print(value)"
   ]
  },
  {
   "cell_type": "code",
   "execution_count": 36,
   "metadata": {},
   "outputs": [
    {
     "name": "stdout",
     "output_type": "stream",
     "text": [
      "[淘宝] 你正在使用验证码登陆，验证码是:8906,\n",
      "涉及个人安全请注重保密。\n",
      "\n",
      "淘宝] 你正在使用验证码登陆,\n",
      "验证码是:8906,涉及个人安全请注重保密。\n"
     ]
    }
   ],
   "source": [
    "message = '[淘宝] 你正在使用验证码登陆，验证码是:8906,\\n涉及个人安全请注重保密。'\n",
    "print(message)\n",
    "message = '''\n",
    "淘宝] 你正在使用验证码登陆,\n",
    "验证码是:8906,涉及个人安全请注重保密。'''\n",
    "print(message)"
   ]
  },
  {
   "cell_type": "code",
   "execution_count": 38,
   "metadata": {},
   "outputs": [
    {
     "name": "stdout",
     "output_type": "stream",
     "text": [
      "\n",
      "亲爱的钟浩文用户：\n",
      "    你注册的痘印用户还未激活，请点击。。。。\n",
      "    请点击：激活用户\n",
      "    激活用户后就可以刷抖音视频。\n",
      "    \n",
      " from: douyin team\n",
      " date:2020-4-18\n",
      "\n"
     ]
    }
   ],
   "source": [
    "#'''这也可以作为注释哦～'''\n",
    "email_message = '''\n",
    "亲爱的钟浩文用户：\n",
    "    你注册的痘印用户还未激活，请点击。。。。\n",
    "    请点击：激活用户\n",
    "    激活用户后就可以刷抖音视频。\n",
    "    \n",
    " from: douyin team\n",
    " date:2020-4-18\n",
    "'''\n",
    "print(email_message)"
   ]
  },
  {
   "cell_type": "code",
   "execution_count": 1,
   "metadata": {},
   "outputs": [
    {
     "name": "stdout",
     "output_type": "stream",
     "text": [
      "订单收件人：浩文哥,收货地址是：华中科技大学紫菘12栋518室,联系方式：15958073950\n",
      "订单收件人：浩文哥,收货地址是:华中科技大学紫菘12栋518室,联系方式是:15958073950\n",
      "订单收件人:浩文哥,收货地址是:华中科技大学紫菘12栋518室,联系方式是:15958073950\n"
     ]
    }
   ],
   "source": [
    "person = \"浩文哥\"\n",
    "address = \"华中科技大学紫菘12栋518室\"\n",
    "phone = \"15958073950\"\n",
    "#掌握了三种输出方式，这个对于科学计算问题不是很大，不过第三种确实好用\n",
    "print(\"订单收件人：\"+person+\",收货地址是：\"+address+\",联系方式：\"+phone)\n",
    "print(\"订单收件人：%s,收货地址是:%s,联系方式是:%s\" %(person,address,phone))\n",
    "print(f\"订单收件人:{person},收货地址是:{address},联系方式是:{phone}\")#这个是最好用的"
   ]
  },
  {
   "cell_type": "code",
   "execution_count": 52,
   "metadata": {},
   "outputs": [
    {
     "name": "stdout",
     "output_type": "stream",
     "text": [
      "姓名是：钟浩文\n",
      "年龄是：21\n",
      "年龄是：21\n",
      "结婚否 False\n"
     ]
    },
    {
     "data": {
      "text/plain": [
       "'21'"
      ]
     },
     "execution_count": 52,
     "metadata": {},
     "output_type": "execute_result"
    }
   ],
   "source": [
    "name = '钟浩文'\n",
    "print(\"姓名是：\"+name)\n",
    "\n",
    "age = 21\n",
    "print(\"年龄是：\"+str(age))\n",
    "print(\"年龄是：%s\"%(age))# %s --> str 简写 底层：21 -->'21'\n",
    "isMarry = False\n",
    "print(\"结婚否 %s\"%isMarry)# str(False) ---> 'False'\n",
    "str(age)"
   ]
  },
  {
   "cell_type": "code",
   "execution_count": 75,
   "metadata": {},
   "outputs": [
    {
     "name": "stdout",
     "output_type": "stream",
     "text": [
      "年龄是：21\n",
      "年龄是：21\n",
      "年龄是：21.200000\n",
      "年龄是：21.20\n",
      "我的月薪水是1000000.556\n"
     ]
    }
   ],
   "source": [
    "age = 21\n",
    "print(\"年龄是：%d\"%(age))\n",
    "age = 21.2\n",
    "print(\"年龄是：%d\"%(age))\n",
    "print(\"年龄是：%f\"%(age))\n",
    "print(\"年龄是：%.2f\"%(age))\n",
    "#.2f 指定小数点后面2位\n",
    "salary = 1000000.5555\n",
    "print('我的月薪水是%.3f'%salary)"
   ]
  },
  {
   "cell_type": "code",
   "execution_count": 55,
   "metadata": {},
   "outputs": [
    {
     "ename": "TypeError",
     "evalue": "%d format: a number is required, not str",
     "output_type": "error",
     "traceback": [
      "\u001b[0;31m---------------------------------------------------------------------------\u001b[0m",
      "\u001b[0;31mTypeError\u001b[0m                                 Traceback (most recent call last)",
      "\u001b[0;32m<ipython-input-55-54433dd6d6ee>\u001b[0m in \u001b[0;36m<module>\u001b[0;34m\u001b[0m\n\u001b[1;32m      1\u001b[0m \u001b[0mage\u001b[0m \u001b[0;34m=\u001b[0m \u001b[0;34m'18岁'\u001b[0m\u001b[0;34m\u001b[0m\u001b[0;34m\u001b[0m\u001b[0m\n\u001b[0;32m----> 2\u001b[0;31m \u001b[0mprint\u001b[0m\u001b[0;34m(\u001b[0m\u001b[0;34m\"年龄是：%d\"\u001b[0m\u001b[0;34m%\u001b[0m\u001b[0;34m(\u001b[0m\u001b[0mage\u001b[0m\u001b[0;34m)\u001b[0m\u001b[0;34m)\u001b[0m\u001b[0;34m\u001b[0m\u001b[0;34m\u001b[0m\u001b[0m\n\u001b[0m",
      "\u001b[0;31mTypeError\u001b[0m: %d format: a number is required, not str"
     ]
    }
   ],
   "source": [
    "age = '18岁'\n",
    "print(\"年龄是：%d\"%(age))#'18岁'没有办法转成整型了！"
   ]
  },
  {
   "cell_type": "code",
   "execution_count": 56,
   "metadata": {},
   "outputs": [
    {
     "ename": "TypeError",
     "evalue": "%d format: a number is required, not str",
     "output_type": "error",
     "traceback": [
      "\u001b[0;31m---------------------------------------------------------------------------\u001b[0m",
      "\u001b[0;31mTypeError\u001b[0m                                 Traceback (most recent call last)",
      "\u001b[0;32m<ipython-input-56-b168aa7dfe9e>\u001b[0m in \u001b[0;36m<module>\u001b[0;34m\u001b[0m\n\u001b[1;32m      1\u001b[0m \u001b[0mage\u001b[0m \u001b[0;34m=\u001b[0m \u001b[0;34m'18'\u001b[0m\u001b[0;34m\u001b[0m\u001b[0;34m\u001b[0m\u001b[0m\n\u001b[0;32m----> 2\u001b[0;31m \u001b[0mprint\u001b[0m\u001b[0;34m(\u001b[0m\u001b[0;34m\"年龄是：%d\"\u001b[0m\u001b[0;34m%\u001b[0m\u001b[0;34m(\u001b[0m\u001b[0mage\u001b[0m\u001b[0;34m)\u001b[0m\u001b[0;34m)\u001b[0m\u001b[0;31m#'18岁'没有办法转成整型了！\u001b[0m\u001b[0;34m\u001b[0m\u001b[0;34m\u001b[0m\u001b[0m\n\u001b[0m",
      "\u001b[0;31mTypeError\u001b[0m: %d format: a number is required, not str"
     ]
    }
   ],
   "source": [
    "age = '18'\n",
    "print(\"年龄是：%d\"%(age))#'18'仍然没有办法转成整型！"
   ]
  },
  {
   "cell_type": "code",
   "execution_count": 85,
   "metadata": {},
   "outputs": [
    {
     "name": "stdout",
     "output_type": "stream",
     "text": [
      "\n",
      "电影：大侦探皮卡丘\n",
      "人数：35\n",
      "单价：45.93\n",
      "\n",
      "\n",
      "            电影：大侦探皮卡丘\n",
      "            人数：35\n",
      "            单价：45.93\n",
      "\n"
     ]
    }
   ],
   "source": [
    "'''\n",
    "movie = '大侦探皮卡丘'\n",
    "ticket = 45.9\n",
    "count = 35\n",
    "'''\n",
    "movie = '大侦探皮卡丘'\n",
    "ticket = 45.93\n",
    "count = 35\n",
    "\n",
    "print(f'''\n",
    "电影：{movie}\n",
    "人数：{count}\n",
    "单价：{ticket}\n",
    "''')\n",
    "\n",
    "print(f'''\n",
    "            电影：%s\n",
    "            人数：%d\n",
    "            单价：%.2f\n",
    "'''%(movie,count,ticket))"
   ]
  },
  {
   "cell_type": "code",
   "execution_count": 87,
   "metadata": {},
   "outputs": [
    {
     "name": "stdout",
     "output_type": "stream",
     "text": [
      "乔治说：我今年2岁了\n",
      "乔治说：我今年2岁了，已经上幼儿园了\n"
     ]
    }
   ],
   "source": [
    "# 字符串的格式化输出\n",
    "# 方式1: 使用占位符  方式2：使用format\n",
    "\n",
    "#format 是一个字符串中的函数!!必须是字符串才有这么method\n",
    "age = 2\n",
    "message = '乔治说：我今年{}岁了'.format(age)\n",
    "print(message)\n",
    "s = \"已经上\"\n",
    "message = '乔治说：我今年{}岁了，{}幼儿园了'.format(age,s)\n",
    "print(message)"
   ]
  },
  {
   "cell_type": "code",
   "execution_count": 91,
   "metadata": {},
   "outputs": [
    {
     "name": "stdout",
     "output_type": "stream",
     "text": [
      "George is 3 years old, and his hobby is 玩恐龙！,他还有零花钱：5.89\n"
     ]
    }
   ],
   "source": [
    "name = \"George\"\n",
    "age = 3\n",
    "hobby = '玩恐龙！'\n",
    "money = 5.89\n",
    "message = '{} is {} years old, and his hobby is {},他还有零花钱：{}'.format(name,age,hobby,money)\n",
    "print(message)"
   ]
  },
  {
   "cell_type": "code",
   "execution_count": 94,
   "metadata": {},
   "outputs": [
    {
     "name": "stdout",
     "output_type": "stream",
     "text": [
      "告诉老子你啥名字？！钟浩文\n",
      "小崽子你几岁了？！21\n",
      "你小子干啥来的？！学Python来的！\n",
      "\n",
      "报告大王！，这个小东西21岁了，叫钟浩文,是学Python来的！\n",
      "\n"
     ]
    }
   ],
   "source": [
    "#输入\n",
    "'''\n",
    "input(prompt = None)--->标准的输入流（键盘）\n",
    "#阻塞\n",
    "admin 回车 ----->结束阻塞状态\n",
    "'''\n",
    "\n",
    "\n",
    "\n",
    "\n",
    "name= input(\"告诉老子你啥名字？！\")\n",
    "age = input(\"小崽子你几岁了？！\")\n",
    "reason = input(\"你小子干啥来的？！\")\n",
    "message = f'''\n",
    "报告大王！，这个小东西{age}岁了，叫{name},是{reason}\n",
    "'''\n",
    "print(message)"
   ]
  },
  {
   "cell_type": "code",
   "execution_count": 97,
   "metadata": {},
   "outputs": [
    {
     "name": "stdout",
     "output_type": "stream",
     "text": [
      "\n",
      "**************************\n",
      "        捕鱼达人\n",
      "**************************\n",
      "\n",
      "请输入用户名: 浩文哥\n",
      "输入密码: zgxzhw704\n",
      "浩文哥 请充值才能加入游戏\n",
      "请充值：50\n",
      "浩文哥 充值成功！当前游戏币是: 50\n"
     ]
    }
   ],
   "source": [
    "'''\n",
    "练习：\n",
    "游戏：捕鱼达人\n",
    "\n",
    "输入参与游戏者用户名：\n",
    "请输入密码：\n",
    "充值：500\n",
    "'''\n",
    "print(\n",
    "'''\n",
    "**************************\n",
    "        捕鱼达人\n",
    "**************************\n",
    "'''\n",
    ")\n",
    "username = input(\"请输入用户名: \")\n",
    "password = input(\"输入密码: \")\n",
    "\n",
    "print('%s 请充值才能加入游戏' % username)\n",
    "coins = input(\"请充值：\")\n",
    "coins = int(coins)\n",
    "print(\"%s 充值成功！当前游戏币是: %d\" %(username,int(coins)))"
   ]
  },
  {
   "cell_type": "markdown",
   "metadata": {},
   "source": [
    "# 运算符\n",
    "\n",
    "## 赋值运算符，算数运算符，关系运算符，逻辑运算符，位运算符"
   ]
  },
  {
   "cell_type": "code",
   "execution_count": 104,
   "metadata": {},
   "outputs": [
    {
     "name": "stdout",
     "output_type": "stream",
     "text": [
      "4459704480 admin\n",
      "4459704480 admin\n",
      "True\n",
      "4459704480 admin\n",
      "4459707504 wow\n",
      "False\n",
      "4459706608 admin2\n",
      "4459704480 admin\n"
     ]
    }
   ],
   "source": [
    "#1 赋值运算符\n",
    "\n",
    "#看来所谓赋值只是开辟空间和给地址的过程\n",
    "\n",
    "# 1.=\n",
    "#定义'admin'是真正地开辟了空间来存储，而等号相等于给了一个引用\n",
    "name = 'admin' #将'admin'的值赋给 变量name\n",
    "\n",
    "name1 = name \n",
    "#id()返回内存地址\n",
    "#name实际上存的是地址\n",
    "print(id(name),name)\n",
    "print(id(name1),name1)\n",
    "print(name == name1)\n",
    "name1 = 'wow'#这个用箭头图取思考真的很清晰\n",
    "'''\n",
    "name ----> 'admin'\n",
    "name1 ----> 'admin'\n",
    "name1 = 'wow' i.e. name1 ---->'wow' name --->'admin'\n",
    "'''\n",
    "print(id(name),name)\n",
    "print(id(name1),name1)\n",
    "print(name == name1)\n",
    "name = 'admin2'\n",
    "print(id(name),name)\n",
    "name = 'admin'\n",
    "print(id(name),name)#Python并没有把之前的 admin的地址回收，如果我们重新使用，仍然指向它\n"
   ]
  },
  {
   "cell_type": "code",
   "execution_count": 105,
   "metadata": {},
   "outputs": [
    {
     "name": "stdout",
     "output_type": "stream",
     "text": [
      "abcff\n"
     ]
    }
   ],
   "source": [
    "#见鬼了。。。Python这都看得懂\n",
    "a = 'abc'\n",
    "a += 'ff'\n",
    "print(a)"
   ]
  },
  {
   "cell_type": "code",
   "execution_count": 5,
   "metadata": {},
   "outputs": [
    {
     "name": "stdout",
     "output_type": "stream",
     "text": [
      "**************************************************\n",
      "\t\t Python学习联盟\n",
      "**************************************************\n"
     ]
    }
   ],
   "source": [
    "print(\"*\" * 50)\n",
    "print('\\t\\t Python学习联盟')\n",
    "print(\"*\" * 50)"
   ]
  },
  {
   "cell_type": "code",
   "execution_count": null,
   "metadata": {},
   "outputs": [],
   "source": []
  }
 ],
 "metadata": {
  "kernelspec": {
   "display_name": "Python 3",
   "language": "python",
   "name": "python3"
  },
  "language_info": {
   "codemirror_mode": {
    "name": "ipython",
    "version": 3
   },
   "file_extension": ".py",
   "mimetype": "text/x-python",
   "name": "python",
   "nbconvert_exporter": "python",
   "pygments_lexer": "ipython3",
   "version": "3.7.3"
  }
 },
 "nbformat": 4,
 "nbformat_minor": 2
}
