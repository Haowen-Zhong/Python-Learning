{
 "cells": [
  {
   "cell_type": "markdown",
   "metadata": {},
   "source": [
    "# 万丈高楼平地起\n",
    "# $$\\epsilon = \\int_0^t\\eta(t)dt$$"
   ]
  },
  {
   "cell_type": "code",
   "execution_count": 4,
   "metadata": {},
   "outputs": [
    {
     "name": "stdout",
     "output_type": "stream",
     "text": [
      "/Users/zhonghaowen/Python学习记录\n"
     ]
    },
    {
     "data": {
      "text/plain": [
       "True"
      ]
     },
     "execution_count": 4,
     "metadata": {},
     "output_type": "execute_result"
    }
   ],
   "source": [
    "import os\n",
    "print(os.getcwd())\n",
    "os.path.isabs('/Users/zhonghaowen/Python学习记录/4.26')"
   ]
  },
  {
   "cell_type": "code",
   "execution_count": 37,
   "metadata": {},
   "outputs": [
    {
     "name": "stdout",
     "output_type": "stream",
     "text": [
      "('/Users/zhonghaowen/Python学习记录', '4.26.ipynb')\n",
      "4.26.ipynb\n",
      "('/Users/zhonghaowen/Python学习记录/4.26', '.ipynb')\n",
      "112425\n",
      "/Users/zhonghaowen/Python学习记录/file/try1/try2\n"
     ]
    },
    {
     "data": {
      "text/plain": [
       "'\\nos.path 中的常用函数\\ndirname()\\njoin()\\nsplit()\\nsplitext()\\ngetsize()\\nisabs()\\nisfile()\\nisdir()\\n'"
      ]
     },
     "execution_count": 37,
     "metadata": {},
     "output_type": "execute_result"
    }
   ],
   "source": [
    "path = '/Users/zhonghaowen/Python学习记录/4.26.ipynb'\n",
    "result = os.path.split(path)\n",
    "print(result)\n",
    "filename = result[1]\n",
    "print(filename)\n",
    "\n",
    "result = os.path.splitext(path)#分割文件与扩展名\n",
    "print(result)\n",
    "size = os.path.getsize(path)#获取文件大小，单位是字节大小\n",
    "print(size)\n",
    "result = os.path.join(os.getcwd(),'file','try1','try2')#它可以跟多个，每多一个多一层\n",
    "print(result)\n",
    "'''\n",
    "os.path 中的常用函数\n",
    "dirname()\n",
    "join()\n",
    "split()\n",
    "splitext()\n",
    "getsize()\n",
    "isabs()\n",
    "isfile()\n",
    "isdir()\n",
    "'''"
   ]
  },
  {
   "cell_type": "code",
   "execution_count": 46,
   "metadata": {},
   "outputs": [
    {
     "name": "stdout",
     "output_type": "stream",
     "text": [
      "['.DS_Store', '测试', 'README.md', '4.22.ipynb', '4.20.ipynb', '4.19.ipynb', '4.24.ipynb', '4.26.ipynb', '4.21.ipynb', '.ipynb_checkpoints', '.git', '4.23.ipynb', '4.27.ipynb', '4.26', '4.25.ipynb', '4.18.ipynb']\n",
      "['.DS_Store', '测试', 'I wanna know', 'README.md', '4.22.ipynb', '4.20.ipynb', '4.19.ipynb', '4.24.ipynb', '4.26.ipynb', '4.21.ipynb', '.ipynb_checkpoints', '.git', '4.23.ipynb', '4.27.ipynb', '4.26', '4.25.ipynb', '4.18.ipynb']\n",
      "sorry 文件夹已经存在\n",
      "['.DS_Store', '测试', 'README.md', '4.22.ipynb', '4.20.ipynb', '4.19.ipynb', '4.24.ipynb', '4.26.ipynb', '4.21.ipynb', '.ipynb_checkpoints', '.git', '4.23.ipynb', '4.27.ipynb', '4.26', '4.25.ipynb', '4.18.ipynb']\n"
     ]
    }
   ],
   "source": [
    "'''\n",
    "os中的函数\n",
    "'''\n",
    "if os.path.exists('I wanna know'):\n",
    "    print(\"sorry 文件夹已经存在\")\n",
    "    f = os.rmdir('I wanna know')\n",
    "all = os.listdir()#返回指定目录下所有的文件和文件夹的名字\n",
    "print(all)\n",
    "os.mkdir(\"I wanna know\")\n",
    "all = os.listdir()#返回指定目录下所有的文件和文件夹的名字\n",
    "print(all)\n",
    "if os.path.exists('I wanna know'):\n",
    "    print(\"sorry 文件夹已经存在\")\n",
    "    f = os.rmdir('I wanna know')#rmdir 只能移除空文件夹\n",
    "all = os.listdir()#返回指定目录下所有的文件和文件夹的名字\n",
    "print(all)\n",
    "#如果我想删东西呢？"
   ]
  },
  {
   "cell_type": "code",
   "execution_count": 50,
   "metadata": {},
   "outputs": [
    {
     "name": "stdout",
     "output_type": "stream",
     "text": [
      "['.DS_Store', 'README.md', '4.22.ipynb', '4.20.ipynb', '4.19.ipynb', '4.24.ipynb', '4.26.ipynb', '4.21.ipynb', '4.23.ipynb', '4.27.ipynb', '4.25.ipynb', '4.18.ipynb']\n",
      ".DS_Store已删除\n",
      "README.md已删除\n",
      "4.22.ipynb已删除\n",
      "4.20.ipynb已删除\n",
      "4.19.ipynb已删除\n",
      "4.24.ipynb已删除\n",
      "4.26.ipynb已删除\n",
      "4.21.ipynb已删除\n",
      "4.23.ipynb已删除\n",
      "4.27.ipynb已删除\n",
      "4.25.ipynb已删除\n",
      "4.18.ipynb已删除\n",
      "文件夹已删除\n",
      "['.DS_Store', 'README.md', '4.22.ipynb', '4.20.ipynb', '4.19.ipynb', '4.24.ipynb', '4.26.ipynb', '4.21.ipynb', '.ipynb_checkpoints', '.git', '4.23.ipynb', '4.27.ipynb', '4.26', '4.25.ipynb', '4.18.ipynb']\n"
     ]
    }
   ],
   "source": [
    "#删除文件的一种方式\n",
    "#不过这个也不是万能的，总有失效的时候\n",
    "filelist = os.listdir(\"测试\")\n",
    "print(filelist)\n",
    "for file in filelist:\n",
    "    pathname = os.path.join(\"测试\",file)\n",
    "    os.remove(pathname)\n",
    "    print(f\"{file}已删除\")\n",
    "else:\n",
    "    os.rmdir(\"测试\")\n",
    "    print(\"文件夹已删除\")\n",
    "all = os.listdir()#返回指定目录下所有的文件和文件夹的名字\n",
    "print(all)"
   ]
  },
  {
   "cell_type": "code",
   "execution_count": 51,
   "metadata": {},
   "outputs": [
    {
     "name": "stdout",
     "output_type": "stream",
     "text": [
      "/Users/zhonghaowen/Python学习记录/4.26.ipynb\n",
      "/Users/zhonghaowen\n"
     ]
    }
   ],
   "source": [
    "print(path)\n",
    "os.chdir('/Users/zhonghaowen')\n",
    "path=os.getcwd()\n",
    "print(path)\n",
    "'''\n",
    "os.getcwd()#获取当前文件所在目录\n",
    "os.listdir()#浏览文件夹\n",
    "os.mkdir()#创建文件夹\n",
    "os.rmdir()#删除空文件夹\n",
    "os.remove()#删除文件\n",
    "os.chdir()#切换目录\n",
    "'''"
   ]
  },
  {
   "cell_type": "code",
   "execution_count": 13,
   "metadata": {},
   "outputs": [
    {
     "name": "stdout",
     "output_type": "stream",
     "text": [
      "复制完毕\n"
     ]
    }
   ],
   "source": [
    "import os\n",
    "#目标 复制文件夹\n",
    "src_path = '/Users/zhonghaowen/Python学习记录'\n",
    "target_path = '/Users/zhonghaowen/Python学习记录/测试'\n",
    "#定义文件夹复制函数\n",
    "def copy(src,target):\n",
    "    #判断目标和源是否是文件夹，如果是文件夹就把源文件夹里的文件名以列表形式传给filelist\n",
    "    if os.path.isdir(src) and os.path.isdir(target):\n",
    "        filelist = os.listdir(src)\n",
    "    #开始遍历filelist里的文件\n",
    "    for file in filelist:\n",
    "        #由于我放了一个文件夹，所以如果是文件夹就跳过\n",
    "        if os.path.isdir(file):\n",
    "            continue\n",
    "        else:\n",
    "            #如果是文件首先构建绝对路径，然乎打开源文件并且读出内容放进container里，然后再构建\n",
    "            #要复制的地方的路径名，并且写进去。\n",
    "            path = os.path.join(src,file)\n",
    "            with open(path,'rb') as rstream:\n",
    "                container = rstream.read()\n",
    "                path1 = os.path.join(target,file)\n",
    "                with open(path1,'wb') as wstream:\n",
    "                    wstream.write(container)\n",
    "    else:\n",
    "        print(\"复制完毕\")\n",
    "copy(src_path,target_path)"
   ]
  },
  {
   "cell_type": "code",
   "execution_count": 28,
   "metadata": {},
   "outputs": [
    {
     "name": "stdout",
     "output_type": "stream",
     "text": [
      "['.DS_Store', '测试', 'README.md', '4.22.ipynb', '4.20.ipynb', '4.19.ipynb', '4.24.ipynb', '4.26.ipynb', '4.21.ipynb', '.ipynb_checkpoints', '.git', '4.23.ipynb', '4.27.ipynb', '4.26', '4.25.ipynb', '4.18.ipynb']\n",
      "加强版复制成功！\n"
     ]
    }
   ],
   "source": [
    "#那如果我源文件里文件夹呢？就是我刚才避免的情况\n",
    "src_path = '/Users/zhonghaowen/Python学习记录'\n",
    "target_path = '/Users/zhonghaowen/Python学习记录/测试'\n",
    "filelist = os.listdir(src_path)\n",
    "print(filelist)\n",
    "#这里代码不能跑，可能是因为我的这个文件夹是git文件夹。\n",
    "def copy_2(src_path,target_path):\n",
    "    for file in filelist:\n",
    "        if file ==\"测试\":\n",
    "            continue\n",
    "        path = os.path.join(src_path,file)\n",
    "        if os.path.isdir(path):\n",
    "           # copy_2(path,target_path)\n",
    "            continue\n",
    "        else:\n",
    "            with open(path,'rb') as rstream:\n",
    "                container = rstream.read()\n",
    "                path1 = os.path.join(target_path,file)\n",
    "                with open(path1,'wb') as wstream:\n",
    "                    wstream.write(container)\n",
    "    else:\n",
    "        print(\"加强版复制成功！\")\n",
    "copy_2(src_path,target_path)"
   ]
  },
  {
   "cell_type": "code",
   "execution_count": 55,
   "metadata": {},
   "outputs": [
    {
     "name": "stdout",
     "output_type": "stream",
     "text": [
      "请输入用户名haowenge\n",
      "请输入确认密码123456\n",
      "输出确认密码123456\n",
      "用户注册成功!\n"
     ]
    }
   ],
   "source": [
    "# 持久化保存：关机也没事儿～\n",
    "# list 元组： 字典-------->内存\n",
    "def register():\n",
    "    username = input(\"请输入用户名\")\n",
    "    password = input(\"请输入确认密码\")\n",
    "    repassword = input(\"输出确认密码\")\n",
    "    \n",
    "    if password == repassword:\n",
    "        #保存信息\n",
    "        with open(\"/Users/zhonghaowen/Python学习记录/记录.txt\",'a') as wstream:\n",
    "            wstream.write(f'username:{username} password:{password}\\n')\n",
    "            print(\"用户注册成功!\")\n",
    "    else:\n",
    "        print(\"对不起，用户名或者密码错，注册失败\")\n",
    "register()"
   ]
  },
  {
   "cell_type": "code",
   "execution_count": 61,
   "metadata": {},
   "outputs": [
    {
     "name": "stdout",
     "output_type": "stream",
     "text": [
      "对不起，你这小学没毕业啊！除数怎么为0呢！\n",
      "这是无论如何都会执行的代码\n"
     ]
    }
   ],
   "source": [
    "#语法错误和异常\n",
    "#语法错误是可以避免的\n",
    "#异常是正常情况下不会出错，但是有可能有逻辑的漏洞，会碰巧出错。\n",
    "def chu(a,b):\n",
    "    try:\n",
    "        result = a/b\n",
    "        print(result)\n",
    "    except:\n",
    "        print(\"对不起，你这小学没毕业啊！除数怎么为0呢！\")\n",
    "    #finally 可有可无\n",
    "    finally:\n",
    "        print(\"这是无论如何都会执行的代码\")\n",
    "chu(1,0)"
   ]
  },
  {
   "cell_type": "code",
   "execution_count": 73,
   "metadata": {},
   "outputs": [
    {
     "name": "stdout",
     "output_type": "stream",
     "text": [
      "第一个数字哦～1\n",
      "The second one~2\n",
      "+ - * /\n",
      "/\n"
     ]
    },
    {
     "data": {
      "text/plain": [
       "0.5"
      ]
     },
     "execution_count": 73,
     "metadata": {},
     "output_type": "execute_result"
    }
   ],
   "source": [
    "def func():\n",
    "    try:\n",
    "        n1 = int(input(\"第一个数字哦～\"))\n",
    "        n2 = int(input(\"The second one~\"))\n",
    "        # + 加法\n",
    "        per = input(\"+ - * /\\n\")\n",
    "        if per == \"+\":\n",
    "            return n1 + n2\n",
    "        elif per == \"-\":\n",
    "            return n1 - n2\n",
    "        elif per == \"*\":\n",
    "            return n1 * n2\n",
    "        elif per == \"/\":\n",
    "            return n1/n2\n",
    "        else:\n",
    "            print(\"你能不能好好输入？！\")\n",
    "    except ZeroDivisionError:\n",
    "        print(\"兄弟。。。你除数为0了\")    \n",
    "    except ValueError:\n",
    "        print(\"你怎么能不好好按提示输入数字呢？乖哦～\")\n",
    "func()"
   ]
  },
  {
   "cell_type": "markdown",
   "metadata": {},
   "source": [
    "# "
   ]
  }
 ],
 "metadata": {
  "kernelspec": {
   "display_name": "Python 3",
   "language": "python",
   "name": "python3"
  },
  "language_info": {
   "codemirror_mode": {
    "name": "ipython",
    "version": 3
   },
   "file_extension": ".py",
   "mimetype": "text/x-python",
   "name": "python",
   "nbconvert_exporter": "python",
   "pygments_lexer": "ipython3",
   "version": "3.7.3"
  }
 },
 "nbformat": 4,
 "nbformat_minor": 2
}
