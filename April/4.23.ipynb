{
 "cells": [
  {
   "cell_type": "markdown",
   "metadata": {},
   "source": [
    "# 万丈高楼平地起\n",
    "# 成功的公式 $$\\epsilon = \\int_0^t\\eta(t)dt$$"
   ]
  },
  {
   "cell_type": "code",
   "execution_count": 13,
   "metadata": {},
   "outputs": [
    {
     "name": "stdout",
     "output_type": "stream",
     "text": [
      "99.75\n",
      "赵飞\n",
      "赵瑞\n",
      "张全\n",
      "浩文哥\n",
      "100\n",
      "50\n",
      "99\n",
      "150\n",
      "('赵飞', 100)\n",
      "('赵瑞', 50)\n",
      "('张全', 99)\n",
      "('浩文哥', 150)\n",
      "True\n",
      "False\n"
     ]
    }
   ],
   "source": [
    "dict2 = {'赵飞':100,'赵瑞':50,'张全':99,'浩文哥':150}\n",
    "result = dict2.values()\n",
    "score = sum(result)\n",
    "mean = score/len(result)\n",
    "print(mean)\n",
    "for keys in dict2.keys():\n",
    "    print(keys)\n",
    "for values in dict2.values():\n",
    "    print(values)\n",
    "for items in dict2.items():\n",
    "    print(items)\n",
    "#找人:in！in可以用于字典的操作，用于判断元素是否在字典的key中出现\n",
    "result = '赵飞' in dict2#找的是key\n",
    "print(result)\n",
    "result = '昭武' in dict2\n",
    "print(result)"
   ]
  },
  {
   "cell_type": "code",
   "execution_count": 22,
   "metadata": {},
   "outputs": [
    {
     "name": "stdout",
     "output_type": "stream",
     "text": [
      "100\n",
      "None\n",
      "99\n"
     ]
    }
   ],
   "source": [
    "'''\n",
    "1.根据key获取值\n",
    "dict[key] 若key不存在在字典中就报error。\n",
    "2.字典的内置函数：get()\n",
    "'''\n",
    "#dict2.get () Return the value for key if key is in the dictionary, else default.\n",
    "print(dict2.get('赵飞'))\n",
    "print(dict2.get('露露'))#取不到不会报错而是None\n",
    "print(dict2.get('露露',99))#取不到的话返回default的值，不设置就返回None#get 在开发里用的比较多。"
   ]
  },
  {
   "cell_type": "code",
   "execution_count": 30,
   "metadata": {},
   "outputs": [
    {
     "name": "stdout",
     "output_type": "stream",
     "text": [
      "{'赵飞': 100, '赵瑞': 50, '张全': 99}\n",
      "{}\n",
      "{'赵飞': 100, '张全': 99, '浩文哥': 150}\n"
     ]
    },
    {
     "ename": "KeyError",
     "evalue": "'??'",
     "output_type": "error",
     "traceback": [
      "\u001b[0;31m---------------------------------------------------------------------------\u001b[0m",
      "\u001b[0;31mKeyError\u001b[0m                                  Traceback (most recent call last)",
      "\u001b[0;32m<ipython-input-30-986a7f0c6a16>\u001b[0m in \u001b[0;36m<module>\u001b[0;34m\u001b[0m\n\u001b[1;32m      9\u001b[0m \u001b[0;32mdel\u001b[0m \u001b[0mdict2\u001b[0m\u001b[0;34m[\u001b[0m\u001b[0;34m'赵瑞'\u001b[0m\u001b[0;34m]\u001b[0m\u001b[0;34m\u001b[0m\u001b[0;34m\u001b[0m\u001b[0m\n\u001b[1;32m     10\u001b[0m \u001b[0mprint\u001b[0m\u001b[0;34m(\u001b[0m\u001b[0mdict2\u001b[0m\u001b[0;34m)\u001b[0m\u001b[0;34m\u001b[0m\u001b[0;34m\u001b[0m\u001b[0m\n\u001b[0;32m---> 11\u001b[0;31m \u001b[0;32mdel\u001b[0m \u001b[0mdict2\u001b[0m\u001b[0;34m[\u001b[0m\u001b[0;34m'??'\u001b[0m\u001b[0;34m]\u001b[0m\u001b[0;34m\u001b[0m\u001b[0;34m\u001b[0m\u001b[0m\n\u001b[0m",
      "\u001b[0;31mKeyError\u001b[0m: '??'"
     ]
    }
   ],
   "source": [
    "# 增加 改 查(key)\n",
    "# 删除：\n",
    "dict2 = {'赵飞':100,'赵瑞':50,'张全':99,'浩文哥':150}\n",
    "dict2.popitem()\n",
    "print(dict2)\n",
    "dict2.clear()\n",
    "print(dict2)\n",
    "dict2 = {'赵飞':100,'赵瑞':50,'张全':99,'浩文哥':150}\n",
    "del dict2['赵瑞']\n",
    "print(dict2)\n",
    "del dict2['??']#keyerror"
   ]
  },
  {
   "cell_type": "code",
   "execution_count": 42,
   "metadata": {},
   "outputs": [
    {
     "name": "stdout",
     "output_type": "stream",
     "text": [
      "100\n",
      "{'赵瑞': 50, '张全': 99, '浩文哥': 150}\n"
     ]
    }
   ],
   "source": [
    "dict2 = {'赵飞':100,'赵瑞':50,'张全':99,'浩文哥':150}\n",
    "print(dict2.pop('赵飞'))#两个效果，一个是把key的value pop出来同时把这条信息给删掉\n",
    "print(dict2)\n"
   ]
  },
  {
   "cell_type": "code",
   "execution_count": 51,
   "metadata": {},
   "outputs": [
    {
     "name": "stdout",
     "output_type": "stream",
     "text": [
      "字典中未找到该词条\n"
     ]
    }
   ],
   "source": [
    "dict2 = {'赵飞':100,'赵瑞':50,'张全':99,'浩文哥':150}\n",
    "result = dict2.pop('李四','字典中未找到该词条')#80同样是默认值\n",
    "print(result)"
   ]
  },
  {
   "cell_type": "code",
   "execution_count": 54,
   "metadata": {},
   "outputs": [
    {
     "name": "stdout",
     "output_type": "stream",
     "text": [
      "{'赵飞': 100, '赵瑞': 50, '张全': 99, '浩文哥': 150}\n"
     ]
    }
   ],
   "source": [
    "dict1 = {'赵飞':0,'赵瑞':50,'张全':99,'浩文哥':150}\n",
    "dict2 = {'赵飞':100,'赵瑞':50,'浩文哥':150}\n",
    "result = dict1.update(dict2)\n",
    "print(dict1)#覆盖+增加"
   ]
  },
  {
   "cell_type": "code",
   "execution_count": 62,
   "metadata": {},
   "outputs": [
    {
     "name": "stdout",
     "output_type": "stream",
     "text": [
      "{'a': 10, 'b': 10, 'c': 10}\n"
     ]
    }
   ],
   "source": [
    "list1 = ['a','b','c']\n",
    "new_dict = dict.fromkeys(list1,10)#相当于把list变成了dict\n",
    "print(new_dict)"
   ]
  },
  {
   "cell_type": "code",
   "execution_count": 73,
   "metadata": {},
   "outputs": [
    {
     "name": "stdout",
     "output_type": "stream",
     "text": [
      "{1, 2, 3, 5}\n",
      "set()\n",
      "{3, 5, 6, 7, 8}\n",
      "[3, 5, 6, 7, 8]\n"
     ]
    }
   ],
   "source": [
    "#集合\n",
    "#关键字 set. 无序的，不重复的元素集合\n",
    "s1 = {2,3,4}\n",
    "s2 = {1,2,3}\n",
    "s2.add(5)\n",
    "print(s2)\n",
    "s2.clear()\n",
    "print(s2)\n",
    "list1 = [3,5,6,7,8,8,8,3,3,5,6]\n",
    "s3 = set(list1)\n",
    "print(s3)#去除了重复的东西！太好用了！\n",
    "list1 = list(set(s3))\n",
    "print(list1)"
   ]
  },
  {
   "cell_type": "code",
   "execution_count": 80,
   "metadata": {},
   "outputs": [
    {
     "name": "stdout",
     "output_type": "stream",
     "text": [
      "{'hello', 'linzhiling', 'yanchengxu', 'caixukun'}\n",
      "{('linzhiling', 'yanchengxu'), 'linzhiling', 'yanchengxu', 'caixukun', 'hello'}\n"
     ]
    }
   ],
   "source": [
    "s1 = set()\n",
    "s1.add('hello')\n",
    "s1.add('caixukun')\n",
    "t1 = ('linzhiling','yanchengxu')\n",
    "s1.update(t1)#把t1给拆开成分立元素添加到s1里面\n",
    "print(s1)\n",
    "s1.add(t1)#add是很笨的直接放进去\n",
    "print(s1)"
   ]
  },
  {
   "cell_type": "code",
   "execution_count": 86,
   "metadata": {},
   "outputs": [
    {
     "name": "stdout",
     "output_type": "stream",
     "text": [
      "{('linzhiling', 'yanchengxu'), 'linzhiling', 'yanchengxu', 'hello'}\n",
      "{'linzhiling', 'yanchengxu', 'hello'}\n",
      "{'yanchengxu', 'hello'}\n",
      "set()\n"
     ]
    }
   ],
   "source": [
    "s1={('linzhiling', 'yanchengxu'), 'caixukun','linzhiling', 'yanchengxu', 'hello'}\n",
    "s1.remove('caixukun')#存在就删除，不存在就报错\n",
    "print(s1)\n",
    "s1.pop()\n",
    "print(s1)\n",
    "s1.pop()\n",
    "print(s1)#虽然随机但是事实上删除第一个\n",
    "s1.clear()\n",
    "print(s1)"
   ]
  },
  {
   "cell_type": "code",
   "execution_count": 88,
   "metadata": {},
   "outputs": [
    {
     "ename": "TypeError",
     "evalue": "discard() takes exactly one argument (2 given)",
     "output_type": "error",
     "traceback": [
      "\u001b[0;31m---------------------------------------------------------------------------\u001b[0m",
      "\u001b[0;31mTypeError\u001b[0m                                 Traceback (most recent call last)",
      "\u001b[0;32m<ipython-input-88-792987354192>\u001b[0m in \u001b[0;36m<module>\u001b[0;34m\u001b[0m\n\u001b[1;32m      1\u001b[0m \u001b[0ms1\u001b[0m\u001b[0;34m=\u001b[0m\u001b[0;34m{\u001b[0m\u001b[0;34m(\u001b[0m\u001b[0;34m'linzhiling'\u001b[0m\u001b[0;34m,\u001b[0m \u001b[0;34m'yanchengxu'\u001b[0m\u001b[0;34m)\u001b[0m\u001b[0;34m,\u001b[0m \u001b[0;34m'caixukun'\u001b[0m\u001b[0;34m,\u001b[0m\u001b[0;34m'linzhiling'\u001b[0m\u001b[0;34m,\u001b[0m \u001b[0;34m'yanchengxu'\u001b[0m\u001b[0;34m,\u001b[0m \u001b[0;34m'hello'\u001b[0m\u001b[0;34m}\u001b[0m\u001b[0;34m\u001b[0m\u001b[0;34m\u001b[0m\u001b[0m\n\u001b[0;32m----> 2\u001b[0;31m \u001b[0ms1\u001b[0m\u001b[0;34m.\u001b[0m\u001b[0mdiscard\u001b[0m\u001b[0;34m(\u001b[0m\u001b[0;34m'haowen'\u001b[0m\u001b[0;34m,\u001b[0m\u001b[0;36m10\u001b[0m\u001b[0;34m)\u001b[0m\u001b[0;34m\u001b[0m\u001b[0;34m\u001b[0m\u001b[0m\n\u001b[0m",
      "\u001b[0;31mTypeError\u001b[0m: discard() takes exactly one argument (2 given)"
     ]
    }
   ],
   "source": [
    "s1={('linzhiling', 'yanchengxu'), 'caixukun','linzhiling', 'yanchengxu', 'hello'}\n",
    "s1.discard('haowen')#若不存在不会报错。"
   ]
  },
  {
   "cell_type": "code",
   "execution_count": 93,
   "metadata": {},
   "outputs": [
    {
     "name": "stdout",
     "output_type": "stream",
     "text": [
      "{1, 2, 8, 11, 12, 13, 14}\n",
      "输入一个数字1\n",
      "{2, 8, 11, 12, 13, 14}\n"
     ]
    }
   ],
   "source": [
    "import random\n",
    "list1 = []\n",
    "set1 = {}\n",
    "for i in range(10):\n",
    "    ran = random.randint(1,20)\n",
    "    list1.append(ran)\n",
    "set1 = set(list1)\n",
    "print(set1)\n",
    "num = int(input('输入一个数字'))\n",
    "set1.discard(num)\n",
    "print(set1)"
   ]
  },
  {
   "cell_type": "code",
   "execution_count": 96,
   "metadata": {},
   "outputs": [
    {
     "name": "stdout",
     "output_type": "stream",
     "text": [
      "{1, 2, 8, 9, 10, 12, 13, 14, 16, 17}\n"
     ]
    }
   ],
   "source": [
    "set1 = set()\n",
    "while True:\n",
    "    ran = random.randint(1,20)\n",
    "    set1.add(ran)\n",
    "    if len(set1) == 10:\n",
    "        break\n",
    "print(set1)"
   ]
  },
  {
   "cell_type": "code",
   "execution_count": 100,
   "metadata": {},
   "outputs": [
    {
     "name": "stdout",
     "output_type": "stream",
     "text": [
      "False\n",
      "True\n",
      "False 4522008872 4522011784\n"
     ]
    }
   ],
   "source": [
    "#其他运算\n",
    "print(6 in set1)\n",
    "set2 = {2,3,4,5,6}\n",
    "set3 = {2,3,4,5,6}\n",
    "print(set2 == set3)\n",
    "print(set2 is set3,id(set2),id(set3))"
   ]
  },
  {
   "cell_type": "code",
   "execution_count": 101,
   "metadata": {},
   "outputs": [
    {
     "ename": "TypeError",
     "evalue": "unsupported operand type(s) for +: 'set' and 'set'",
     "output_type": "error",
     "traceback": [
      "\u001b[0;31m---------------------------------------------------------------------------\u001b[0m",
      "\u001b[0;31mTypeError\u001b[0m                                 Traceback (most recent call last)",
      "\u001b[0;32m<ipython-input-101-899ff0de726d>\u001b[0m in \u001b[0;36m<module>\u001b[0;34m\u001b[0m\n\u001b[1;32m      1\u001b[0m \u001b[0;31m# + - * & |\u001b[0m\u001b[0;34m\u001b[0m\u001b[0;34m\u001b[0m\u001b[0;34m\u001b[0m\u001b[0m\n\u001b[0;32m----> 2\u001b[0;31m \u001b[0mset4\u001b[0m \u001b[0;34m=\u001b[0m \u001b[0mset2\u001b[0m \u001b[0;34m+\u001b[0m \u001b[0mset3\u001b[0m\u001b[0;34m\u001b[0m\u001b[0;34m\u001b[0m\u001b[0m\n\u001b[0m",
      "\u001b[0;31mTypeError\u001b[0m: unsupported operand type(s) for +: 'set' and 'set'"
     ]
    }
   ],
   "source": [
    "# + - * & |\n",
    "set4 = set2 + set3#不支持！"
   ]
  },
  {
   "cell_type": "code",
   "execution_count": 103,
   "metadata": {},
   "outputs": [
    {
     "ename": "TypeError",
     "evalue": "unsupported operand type(s) for *: 'set' and 'int'",
     "output_type": "error",
     "traceback": [
      "\u001b[0;31m---------------------------------------------------------------------------\u001b[0m",
      "\u001b[0;31mTypeError\u001b[0m                                 Traceback (most recent call last)",
      "\u001b[0;32m<ipython-input-103-6b7065ff00c2>\u001b[0m in \u001b[0;36m<module>\u001b[0;34m\u001b[0m\n\u001b[0;32m----> 1\u001b[0;31m \u001b[0mset5\u001b[0m \u001b[0;34m=\u001b[0m \u001b[0mset2\u001b[0m\u001b[0;34m*\u001b[0m\u001b[0;36m2\u001b[0m\u001b[0;31m#不支持！\u001b[0m\u001b[0;34m\u001b[0m\u001b[0;34m\u001b[0m\u001b[0m\n\u001b[0m",
      "\u001b[0;31mTypeError\u001b[0m: unsupported operand type(s) for *: 'set' and 'int'"
     ]
    }
   ],
   "source": [
    "set5 = set2*2#不支持！"
   ]
  },
  {
   "cell_type": "code",
   "execution_count": 113,
   "metadata": {},
   "outputs": [
    {
     "name": "stdout",
     "output_type": "stream",
     "text": [
      "{7}\n",
      "{7}\n",
      "set()\n",
      "{6}\n",
      "set()\n"
     ]
    }
   ],
   "source": [
    "#差集\n",
    "set2 = {2,3,4,5,6,7}\n",
    "set3 = {2,3,4,5,6}\n",
    "set4 = set2-set3\n",
    "print(set2.difference(set3))#difference = -\n",
    "print(set4)\n",
    "set2 = {2,3,4,5}\n",
    "set3 = {2,3,4,5,6}\n",
    "set4 = set2-set3\n",
    "print(set4)\n",
    "print(set3.difference(set2))\n",
    "print(set2.difference(set3))"
   ]
  },
  {
   "cell_type": "code",
   "execution_count": 118,
   "metadata": {},
   "outputs": [
    {
     "name": "stdout",
     "output_type": "stream",
     "text": [
      "{2, 3, 4, 5, 6}\n",
      "{2, 3, 4, 5, 6}\n",
      "{2, 3, 4, 5, 6, 7}\n",
      "{2, 3, 4, 5, 6, 7}\n"
     ]
    }
   ],
   "source": [
    "set2 = {2,3,4,5,6,7}\n",
    "set3 = {2,3,4,5,6}\n",
    "set4 = set2 & set3\n",
    "print(set4)\n",
    "set4 = set2.intersection(set3)\n",
    "print(set4)\n",
    "set5 = set2 | set3\n",
    "print(set5)\n",
    "set5 = set2.union(set3)\n",
    "print(set5)"
   ]
  },
  {
   "cell_type": "code",
   "execution_count": 126,
   "metadata": {},
   "outputs": [
    {
     "name": "stdout",
     "output_type": "stream",
     "text": [
      "{7}\n",
      "{2, 3, 4, 5, 6}\n",
      "{7}\n"
     ]
    }
   ],
   "source": [
    "set2 = {2,3,4,5,6,7}\n",
    "set3 = {2,3,4,5,6}\n",
    "set2.difference_update(set3)#差集并赋值\n",
    "print(set2)\n",
    "set2 = {2,3,4,5,6,7}\n",
    "set3 = {2,3,4,5,6}\n",
    "set2.intersection_update(set3)#交集并赋值\n",
    "print(set2)\n",
    "set2 = {2,3,4,5,6,7}\n",
    "set3 = {2,3,4,5,6}"
   ]
  },
  {
   "cell_type": "code",
   "execution_count": 137,
   "metadata": {},
   "outputs": [
    {
     "name": "stdout",
     "output_type": "stream",
     "text": [
      "{9, 2, 5}\n",
      "{0, 1, 3}\n",
      "共同的元素有:{9, 2, 5}\n",
      "不同的元素有:{0, 1, 3, 7}\n",
      "不同的元素有:{0, 1, 3, 7}\n",
      "不同的元素有:{0, 1, 3, 7}\n"
     ]
    }
   ],
   "source": [
    "'''\n",
    "已知两个列表：\n",
    "l1 = [5,1,2,9,0,3]\n",
    "l2 = [7,2,5,7,9]\n",
    "找出两个列表不同和共同的元素。\n",
    "'''\n",
    "l1 = [5,1,2,9,0,3]\n",
    "l2 = [7,2,5,7,9]\n",
    "\n",
    "s1 = set(l1)\n",
    "s2 = set(l2)\n",
    "common = s1.intersection(s2)\n",
    "diff = s1.difference(s2)\n",
    "print(common)\n",
    "print(diff)\n",
    "print(f\"共同的元素有:{s1&s2}\")\n",
    "print(f\"不同的元素有:{(s1-s2) | (s2-s1) }\")\n",
    "print(f\"不同的元素有:{s1.symmetric_difference(s2)}\")\n",
    "#对称差集合！\n",
    "print(f\"不同的元素有:{s1^s2}\")#异或 ^ 同样是对称差集 1^2 = 1|2 - 1&2 "
   ]
  },
  {
   "cell_type": "code",
   "execution_count": 143,
   "metadata": {},
   "outputs": [
    {
     "name": "stdout",
     "output_type": "stream",
     "text": [
      "4463081544\n",
      "4522303248\n",
      "4463081544\n",
      "4522008224\n",
      "4522237640\n"
     ]
    }
   ],
   "source": [
    "'''\n",
    "可变和不可变\n",
    "不可变：对象所指向的内存中的值是不可改变的: int  str float tuple \n",
    "可变：字典，列表,集合\n",
    "'''\n",
    "#不可变的类型 int\n",
    "#我们改变的是指向的地址，而不是改变内存里的内容！\n",
    "a = 10\n",
    "a = 12\n",
    "\n",
    "s1 = 'abc'\n",
    "print(id(s1))\n",
    "s1 = 'abcd'\n",
    "print(id(s1))\n",
    "s2 = 'abc'\n",
    "print(id(s2))\n",
    "\n",
    "t1 = (3,5,6)\n",
    "print(id(t1))\n",
    "t1 = (3,5)\n",
    "print(id(t1))"
   ]
  },
  {
   "cell_type": "code",
   "execution_count": 148,
   "metadata": {},
   "outputs": [
    {
     "name": "stdout",
     "output_type": "stream",
     "text": [
      "4522637064\n",
      "4522637064\n",
      "{'1': 'aa', '2': 'bb'} 4522309528\n",
      "{'2': 'bb'} 4522309528\n",
      "{1, 2, 3, 45} 4522941352\n",
      "{2, 3, 45} 4522941352\n"
     ]
    }
   ],
   "source": [
    "list1 = [1,2,3,45]\n",
    "print(id(list1))\n",
    "list1.pop()\n",
    "print(id(list1))\n",
    "\n",
    "dict1= {'1':'aa','2':'bb'}\n",
    "print(dict1,id(dict1))\n",
    "dict1.pop('1')\n",
    "print(dict1,id(dict1))\n",
    "\n",
    "list1 = [1,2,3,45]\n",
    "s1 = set(list1)\n",
    "print(s1,id(s1))\n",
    "s1.pop()\n",
    "print(s1,id(s1))"
   ]
  },
  {
   "cell_type": "code",
   "execution_count": 164,
   "metadata": {},
   "outputs": [
    {
     "name": "stdout",
     "output_type": "stream",
     "text": [
      "8\n",
      "['a', 'b', 'c']\n",
      "{'b', 'c', 'a'}\n",
      "('a', 'b', 'c')\n",
      "['a', 'b'] <class 'str'>\n",
      "0.12\n"
     ]
    },
    {
     "data": {
      "text/plain": [
       "'.'"
      ]
     },
     "execution_count": 164,
     "metadata": {},
     "output_type": "execute_result"
    }
   ],
   "source": [
    "#类型转换\n",
    "#str() in() list() dict() set() tuple()\n",
    "\n",
    "#str ----> int,list,set,tuple\n",
    "i = 8\n",
    "i = int(i)\n",
    "print(i)\n",
    "s = 'abc'\n",
    "l = list(s)\n",
    "print(l)\n",
    "s1 = set(s)\n",
    "print(s1)\n",
    "t = tuple(s)\n",
    "print(t)\n",
    "#反过来:str <------- int,list,set,tuple,float\n",
    "i = 8\n",
    "s = str(i)\n",
    "l = str(['a','b'])\n",
    "print(l,type(l))\n",
    "f = 0.12\n",
    "f = str(f)\n",
    "print(f)\n",
    "f[1]"
   ]
  },
  {
   "cell_type": "code",
   "execution_count": 165,
   "metadata": {},
   "outputs": [
    {
     "name": "stdout",
     "output_type": "stream",
     "text": [
      "{'a': 'b', '1': '2'}\n"
     ]
    }
   ],
   "source": [
    "#list ----> set(),tuple(),可以转成字典\n",
    "l1 = [('a','b'),('1','2')]\n",
    "d = dict(l1)\n",
    "print(d)"
   ]
  },
  {
   "cell_type": "code",
   "execution_count": 167,
   "metadata": {},
   "outputs": [
    {
     "name": "stdout",
     "output_type": "stream",
     "text": [
      "[1, 2, 3]\n",
      "['a', '1']\n"
     ]
    }
   ],
   "source": [
    "#tuple ----->list set---->list\n",
    "tuple1 = (1,2,3)\n",
    "l1 = list(tuple1)\n",
    "print(l1)\n",
    "dict1 = {'a': 'b', '1': '2'}\n",
    "print(list(dict1))#只是将key保存在list中"
   ]
  },
  {
   "cell_type": "code",
   "execution_count": 170,
   "metadata": {},
   "outputs": [
    {
     "name": "stdout",
     "output_type": "stream",
     "text": [
      "8\n",
      "18\n",
      "8\n",
      "2\n",
      "11\n",
      "18\n",
      "3\n",
      "4\n",
      "13\n",
      "1\n",
      "<function generate_random at 0x10e2fd158>\n"
     ]
    }
   ],
   "source": [
    "import random\n",
    "\n",
    "\n",
    "def generate_random():\n",
    "    for i in range(10):\n",
    "        ran = random.randint(1,20)\n",
    "        print(ran)\n",
    "generate_random()\n",
    "print(generate_random)#<function generate_random at 0x10e2fd158>函数在这个地址"
   ]
  },
  {
   "cell_type": "code",
   "execution_count": 174,
   "metadata": {},
   "outputs": [
    {
     "name": "stdout",
     "output_type": "stream",
     "text": [
      "0\n",
      "1\n",
      "3\n"
     ]
    }
   ],
   "source": [
    "#这个就牛逼了\n",
    "def add(*args):# *起到了装的作用。 *args=1，2，3，4 就把1，2，3，4装进去了！\n",
    "    #只要用到*args表示系统底层提前给我准备好了[]\n",
    "    s1 = sum(args)\n",
    "    print(s1)\n",
    "add()\n",
    "add(1)\n",
    "add(1,2)"
   ]
  },
  {
   "cell_type": "code",
   "execution_count": 179,
   "metadata": {},
   "outputs": [
    {
     "name": "stdout",
     "output_type": "stream",
     "text": [
      "[2, 3, 4]\n",
      "\n"
     ]
    }
   ],
   "source": [
    "def add(*args):\n",
    "    print(args)\n",
    "a,*args = [1,2,3,4]\n",
    "print(args)#是吧 你看有[]"
   ]
  },
  {
   "cell_type": "code",
   "execution_count": 195,
   "metadata": {},
   "outputs": [
    {
     "name": "stdout",
     "output_type": "stream",
     "text": [
      "累加和为5和飞飞\n"
     ]
    }
   ],
   "source": [
    "###可变参数一定要放到后面，不能放到前面\n",
    "def add(name,*args):#类比于a,*b = 1,3,4,5)\n",
    "    sum1 = 0\n",
    "    if len(args)>0:\n",
    "        for i in args:\n",
    "            sum1 += i\n",
    "        print(f\"累加和为{sum1}和{name}\")\n",
    "    else:\n",
    "        print(\"没有元素\")\n",
    "add('飞飞',2,3)"
   ]
  },
  {
   "cell_type": "code",
   "execution_count": 196,
   "metadata": {},
   "outputs": [
    {
     "ename": "SyntaxError",
     "evalue": "invalid character in identifier (<ipython-input-196-c07b5789213e>, line 2)",
     "output_type": "error",
     "traceback": [
      "\u001b[0;36m  File \u001b[0;32m\"<ipython-input-196-c07b5789213e>\"\u001b[0;36m, line \u001b[0;32m2\u001b[0m\n\u001b[0;31m    add(4,6,8，'飞飞')\u001b[0m\n\u001b[0m             ^\u001b[0m\n\u001b[0;31mSyntaxError\u001b[0m\u001b[0;31m:\u001b[0m invalid character in identifier\n"
     ]
    }
   ],
   "source": [
    "add('飞飞',4,6,8)\n",
    "add(4,6,8，'飞飞'"
   ]
  },
  {
   "cell_type": "code",
   "execution_count": 198,
   "metadata": {},
   "outputs": [
    {
     "name": "stdout",
     "output_type": "stream",
     "text": [
      "飞飞2岁了，已经能算出和了16\n",
      "没有元素供计算\n"
     ]
    }
   ],
   "source": [
    "def add(name,age,*args):#类比于a,*b = 1,3,4,5)\n",
    "    sum1 = 0\n",
    "    if len(args)>0:\n",
    "        for i in args:\n",
    "            sum1 += i\n",
    "        print(f\"{name}{age}岁了，已经能算出和了{sum1}\")\n",
    "    else:\n",
    "        print(\"没有元素供计算\")\n",
    "add('飞飞',2,3,5,8)\n",
    "add('飞飞',2)\n"
   ]
  },
  {
   "cell_type": "code",
   "execution_count": 200,
   "metadata": {},
   "outputs": [
    {
     "name": "stdout",
     "output_type": "stream",
     "text": [
      "11\n",
      "12\n"
     ]
    }
   ],
   "source": [
    "#可变参数 + 关键字参数\n",
    "#关键字参数：key =value 说白了就是不一定要传的参数\n",
    "\n",
    "def add(a,b=10):\n",
    "    result = a + b\n",
    "    return(result)\n",
    "print(add(1))\n",
    "print(add(4,8))"
   ]
  },
  {
   "cell_type": "code",
   "execution_count": 203,
   "metadata": {},
   "outputs": [
    {
     "name": "stdout",
     "output_type": "stream",
     "text": [
      "15\n",
      "16\n",
      "18\n"
     ]
    }
   ],
   "source": [
    "def add(a,b=10,c=4):\n",
    "    result = a + b + c\n",
    "    return(result)\n",
    "print(add(1))\n",
    "print(add(4,8))#覆盖的是b的值\n",
    "print(add(2,c=6))"
   ]
  },
  {
   "cell_type": "code",
   "execution_count": 210,
   "metadata": {},
   "outputs": [
    {
     "name": "stdout",
     "output_type": "stream",
     "text": [
      "蔡徐坤 21\n",
      "王源 19\n",
      "王俊凯 20\n",
      "易洋千玺 19\n"
     ]
    }
   ],
   "source": [
    "# 函数：计算每位同学的年龄：\n",
    "def print_boy(persons):\n",
    "    if isinstance(persons,dict):#如果是字典类型就....\n",
    "        values = persons.values()\n",
    "        for name,age in values:\n",
    "            print(name,age)\n",
    "    else:\n",
    "        print(\"您的输入类型出错咯，再检查检查～\")\n",
    "students={'001':('蔡徐坤',21),'002':('王源',19),'003':('王俊凯',20),'004':('易洋千玺',19)}\n",
    "print_boy(students)"
   ]
  },
  {
   "cell_type": "markdown",
   "metadata": {},
   "source": [
    "# 这里的**需要记忆，理解！"
   ]
  },
  {
   "cell_type": "code",
   "execution_count": 216,
   "metadata": {},
   "outputs": [
    {
     "name": "stdout",
     "output_type": "stream",
     "text": [
      "{'a': 1, 'b': 2, 'c': 3}\n",
      "{'a': 1}\n",
      "{}\n"
     ]
    }
   ],
   "source": [
    "#底层用了装包的机制：**kwargs 只要外面给函数送值，并且符合key = value 的特点就要，*->() **->{}\n",
    "#a=1,b=2,c=3 ----->{'a':1,'b':2,'c':3}\n",
    "def func(**kwargs):#key word argument   \n",
    "    print(kwargs)\n",
    "func(a=1,b=2,c=3)#关键字参数 输出的就是一个字典！\n",
    "func(a=1)\n",
    "func()"
   ]
  },
  {
   "cell_type": "code",
   "execution_count": 219,
   "metadata": {},
   "outputs": [
    {
     "name": "stdout",
     "output_type": "stream",
     "text": [
      "{'001': 'Python', '002': 'java', '003': 'C', '004': 'Fortran'}\n"
     ]
    }
   ],
   "source": [
    "dict1 = {'001':'Python','002':'java','003':'C','004':'Fortran'}\n",
    "func(**dict1)\n",
    "#传递实参:**字典名。就会将字典拆包成关键字参数的形式。\n",
    "#func('001'='Python',‘002’='java'，‘003’='C'...)\n",
    "\n"
   ]
  },
  {
   "cell_type": "code",
   "execution_count": 221,
   "metadata": {},
   "outputs": [
    {
     "name": "stdout",
     "output_type": "stream",
     "text": [
      "蕾蕾喜欢的小鲜肉有：\n",
      "蔡徐坤 21\n",
      "王源 19\n",
      "王俊凯 20\n",
      "易洋千玺 19\n"
     ]
    }
   ],
   "source": [
    "def print_boy(name,**persons):\n",
    "    print(f'{name}喜欢的小鲜肉有：')\n",
    "    if isinstance(persons,dict):#如果是字典类型就....\n",
    "        values = persons.values()\n",
    "        for name,age in values:\n",
    "            print(name,age)\n",
    "    else:\n",
    "        print(\"您的输入类型出错咯，再检查检查～\")\n",
    "students={'001':('蔡徐坤',21),'002':('王源',19),'003':('王俊凯',20),'004':('易洋千玺',19)}\n",
    "print_boy('蕾蕾',**students)#这里有一点点绕，首先把students解包成关键字参数，然后传进去的时候又被装包成字典"
   ]
  },
  {
   "cell_type": "code",
   "execution_count": 222,
   "metadata": {},
   "outputs": [
    {
     "name": "stdout",
     "output_type": "stream",
     "text": [
      "{'a': 1, 'b': 2}\n"
     ]
    }
   ],
   "source": [
    "def aa(**mantou):#这是装包\n",
    "    print(mantou)\n",
    "baozi = {'a':1,'b':2}\n",
    "aa(**baozi)#这是拆包"
   ]
  },
  {
   "cell_type": "code",
   "execution_count": 235,
   "metadata": {},
   "outputs": [
    {
     "ename": "SyntaxError",
     "evalue": "positional argument follows keyword argument (<ipython-input-235-70d418e3d6f4>, line 8)",
     "output_type": "error",
     "traceback": [
      "\u001b[0;36m  File \u001b[0;32m\"<ipython-input-235-70d418e3d6f4>\"\u001b[0;36m, line \u001b[0;32m8\u001b[0m\n\u001b[0;31m    bb(1,2,x=100,5,6)\u001b[0m\n\u001b[0m                ^\u001b[0m\n\u001b[0;31mSyntaxError\u001b[0m\u001b[0;31m:\u001b[0m positional argument follows keyword argument\n"
     ]
    }
   ],
   "source": [
    "def bb(a,b,*c,**d):\n",
    "    print(a,b,c,d)\n",
    "#这个就要好好体会一袭\n",
    "bb(1,2)\n",
    "bb(1,2,3,4)\n",
    "bb(1,2,x=100,y=200)\n",
    "bb(1,2,3,x=4)\n",
    "#bb(1,2,x=4,5,6)是不行的，因为c已经跳过了，之后都给d就应该都是关键字！"
   ]
  },
  {
   "cell_type": "code",
   "execution_count": 233,
   "metadata": {},
   "outputs": [
    {
     "name": "stdout",
     "output_type": "stream",
     "text": [
      "(1, 2, 3)\n"
     ]
    }
   ],
   "source": [
    "def cc(*c):\n",
    "    print(c)\n",
    "cc(1,2,3)"
   ]
  },
  {
   "cell_type": "code",
   "execution_count": null,
   "metadata": {},
   "outputs": [],
   "source": []
  }
 ],
 "metadata": {
  "kernelspec": {
   "display_name": "Python 3",
   "language": "python",
   "name": "python3"
  },
  "language_info": {
   "codemirror_mode": {
    "name": "ipython",
    "version": 3
   },
   "file_extension": ".py",
   "mimetype": "text/x-python",
   "name": "python",
   "nbconvert_exporter": "python",
   "pygments_lexer": "ipython3",
   "version": "3.7.3"
  }
 },
 "nbformat": 4,
 "nbformat_minor": 2
}
