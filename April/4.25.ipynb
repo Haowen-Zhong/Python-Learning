{
 "cells": [
  {
   "cell_type": "markdown",
   "metadata": {},
   "source": [
    "# 万丈高楼平地起\n"
   ]
  },
  {
   "cell_type": "markdown",
   "metadata": {},
   "source": [
    "# 装饰器带参数就是三层！第一层负责接收参数。"
   ]
  },
  {
   "cell_type": "code",
   "execution_count": 21,
   "metadata": {},
   "outputs": [
    {
     "name": "stdout",
     "output_type": "stream",
     "text": [
      "--------->1 start\n",
      "------->1 end\n",
      "--------->2 start\n",
      "------->2 end\n",
      "我是毛坯房\n",
      "刷漆\n",
      "铺地板，装门\n"
     ]
    }
   ],
   "source": [
    "#装饰器\n",
    "#zhuang1首先接收func 并且打印出\"--------->1 start\"\n",
    "#加载wrapper的代码，打印出\"------->1 end\"并且将zhaung1的wrapper返回给house。此时装2再次接收house，\n",
    "#但是此时的house已经是wrapper里，打印出\"--------->2 start\"，并且“加载”wrapper，并且打出\"------->2 end\"。\n",
    "#开始往下走！把2的wrapper给house，因此house=wrapper（2）。我开始调用house（），这是就相当于进入2的wrapper。\n",
    "#而这里的func是第一层的wrapper，而1的wrapper的func就是house。于是打印刷漆，所以2的wrapper里的func完事儿了。\n",
    "#之后再铺地板装门。\n",
    "\n",
    "#house----->wrapper1----->wrapper2\n",
    "#zhuang1的func是house，zhuang2的func是wrapper1\n",
    "#zhuang2(zhuang1(func))\n",
    "def zhuang1(func):\n",
    "    print(\"--------->1 start\")\n",
    "    def wrapper(*args,**kwargs):\n",
    "        func()\n",
    "        print(\"刷漆\")\n",
    "    print(\"------->1 end\")\n",
    "    return wrapper\n",
    "\n",
    "def zhuang2(func):\n",
    "    print(\"--------->2 start\")\n",
    "    def wrapper(*args,**kwargs):\n",
    "        func()\n",
    "        print(\"铺地板，装门\")\n",
    "    print(\"------->2 end\")\n",
    "    return wrapper\n",
    "\n",
    "#就近原则，谁离我近就先装谁\n",
    "@zhuang2\n",
    "@zhuang1\n",
    "def house():\n",
    "    print(\"我是毛坯房\")\n",
    "house()"
   ]
  },
  {
   "cell_type": "code",
   "execution_count": 11,
   "metadata": {},
   "outputs": [
    {
     "name": "stdout",
     "output_type": "stream",
     "text": [
      "我4月25日拿到了房钥匙，是毛坯房.....\n",
      "-------->铺了10块地砖\n"
     ]
    }
   ],
   "source": [
    "def outer(a):#负责接收参数\n",
    "    def decorate(func):#负责接收函数\n",
    "        def wrapper(*args,**kwargs):#负责接收函数的参数\n",
    "            func(*args)\n",
    "            print(f\"-------->铺了{a}块地砖\")\n",
    "        return wrapper#返出来第三层\n",
    "    return decorate #返出第二层\n",
    "        \n",
    "@outer(a=10)\n",
    "def house(time):\n",
    "    print(f\"我{time}拿到了房钥匙，是毛坯房.....\")\n",
    "house('4月25日')"
   ]
  },
  {
   "cell_type": "markdown",
   "metadata": {},
   "source": [
    "我来理一下整个底层的逻辑。首先第一步100--->outer,outer接收了，然后开始运行进入decorate，进入wrapper，然后开始运行输出，然后返回wrapper的地址给decorate，再返回decorate的地址其实就是wrapper。那么现在的street其实就是decorate也其实就是wrapper，我street()=decorate(),就是开始运行了然后就开始跑decorate里面的wrapper。（我不确定这是不是正确）"
   ]
  },
  {
   "cell_type": "code",
   "execution_count": 9,
   "metadata": {},
   "outputs": [
    {
     "name": "stdout",
     "output_type": "stream",
     "text": [
      "新修的街道，名字是沿港西路\n",
      "-------->铺了100块地砖\n"
     ]
    }
   ],
   "source": [
    "@outer(100)\n",
    "def street():\n",
    "    print(\"新修的街道，名字是沿港西路\")\n",
    "street()"
   ]
  },
  {
   "cell_type": "code",
   "execution_count": 22,
   "metadata": {},
   "outputs": [
    {
     "name": "stdout",
     "output_type": "stream",
     "text": [
      "------付款-------\n",
      "用户未登陆，不能付款\n",
      "输入用户名：1\n",
      "输入密码2\n",
      "result: False\n",
      "------付款-------\n",
      "用户未登陆，不能付款\n",
      "输入用户名：1\n",
      "输入密码2\n",
      "result: False\n"
     ]
    }
   ],
   "source": [
    "#登录验证：\n",
    "import time\n",
    "\n",
    "islogin = False\n",
    "#定义一个登陆函数\n",
    "def login():\n",
    "    username = input(\"输入用户名：\")\n",
    "    password = input(\"输入密码\")\n",
    "    if username == \"admin\" and password == \"123456\":\n",
    "        return True\n",
    "    else:\n",
    "        return False\n",
    "    \n",
    "def login_required(func):\n",
    "    def wrapper(*args,**kwargs):\n",
    "        #验证用户是否登陆\n",
    "        global islogin\n",
    "        print(\"------付款-------\")\n",
    "        if islogin == True:\n",
    "            func(*args,**kwargs)\n",
    "        else:\n",
    "            #跳转到登陆页面进行登陆\n",
    "            print(\"用户未登陆，不能付款\")\n",
    "            islogin = login()#调用login函数\n",
    "            print(\"result:\",islogin)\n",
    "    return wrapper\n",
    "\n",
    "@login_required\n",
    "def pay(money):\n",
    "    print(f\"正在付款,付款金额是{money}元\")\n",
    "    print(\"付款中...\")\n",
    "    time.sleep(2)\n",
    "    print(\"付款完成!\")\n",
    "    \n",
    "#调用付款\n",
    "pay(10000)   \n",
    "#wrapper(10000) 10000->args 调用login函数 如果输入正确islogin就True了。wrapper就执行完毕了\n",
    "#第二次调用，我已经登陆了，因此就走了func(*args,**kwargs)这条路，很舒服！\n",
    "pay(10000)"
   ]
  },
  {
   "cell_type": "code",
   "execution_count": 29,
   "metadata": {},
   "outputs": [
    {
     "name": "stdout",
     "output_type": "stream",
     "text": [
      "1\n",
      "10\n",
      "100\n"
     ]
    }
   ],
   "source": [
    "'''\n",
    "复习:\n",
    "函数作用域:LEGB L:local 局部变量 E:enclosing 嵌套的外层变量 Global:全局变量 Built-in: 内置的\n",
    "\n",
    "嵌套函数 如果想在外面使用就利用闭包！return inner_func 记住是返回函数名，其实就是返回地址.\n",
    "装饰器：开发过程中遵循开放，封闭原则，因此产生了装饰器。函数作为外层函数的参数！两层装饰器也是可以的。\n",
    "带参数的装饰器就是三层了！\n",
    "'''\n",
    "a = 100\n",
    "def func():\n",
    "    a = 10\n",
    "    def inner_func():\n",
    "        a = 1\n",
    "        print(a)\n",
    "    inner_func()\n",
    "func()    \n",
    "\n",
    "a = 100\n",
    "def func():\n",
    "    a = 10\n",
    "    def inner_func():\n",
    "        #a = 1\n",
    "        print(a)\n",
    "    inner_func()\n",
    "func()  \n",
    "\n",
    "a = 100\n",
    "def func():\n",
    "    #a = 10\n",
    "    def inner_func():\n",
    "     #   a = 1\n",
    "        print(a)\n",
    "    inner_func()\n",
    "func()    "
   ]
  },
  {
   "cell_type": "code",
   "execution_count": 30,
   "metadata": {},
   "outputs": [
    {
     "name": "stdout",
     "output_type": "stream",
     "text": [
      "10\n"
     ]
    }
   ],
   "source": [
    "#匿名函数\n",
    "#简化函数的写法，不用这么麻烦。\n",
    "def func():\n",
    "    print(\"aaaa\")\n",
    "def add(*args):\n",
    "    print(sum(*args))\n",
    "add([1,2,3,4])"
   ]
  },
  {
   "cell_type": "markdown",
   "metadata": {},
   "source": [
    "# 格式：\n",
    "# lambda 参数1,参数2,...:运算"
   ]
  },
  {
   "cell_type": "code",
   "execution_count": 33,
   "metadata": {},
   "outputs": [
    {
     "name": "stdout",
     "output_type": "stream",
     "text": [
      "<function <lambda> at 0x112fd3d08>\n",
      "3\n"
     ]
    }
   ],
   "source": [
    "s = lambda a,b : a+b#我个人感觉就是通过一个简单的方式开辟一个空间来存储函数的运算法则，然后我需要一个容器装\n",
    "#这个地址，就让s去装它。a+b相当于返回值.s是接盘侠，老王不愿意透露姓名！\n",
    "print(s)#s就是一个函数function\n",
    "print(s(1,2))"
   ]
  },
  {
   "cell_type": "code",
   "execution_count": 34,
   "metadata": {},
   "outputs": [
    {
     "name": "stdout",
     "output_type": "stream",
     "text": [
      "我试试看\n"
     ]
    }
   ],
   "source": [
    "s1 = lambda :print(\"我试试看\")\n",
    "s1()"
   ]
  },
  {
   "cell_type": "code",
   "execution_count": 39,
   "metadata": {},
   "outputs": [
    {
     "data": {
      "text/plain": [
       "[(1, 2), (2, 3), (3, 4)]"
      ]
     },
     "execution_count": 39,
     "metadata": {},
     "output_type": "execute_result"
    }
   ],
   "source": [
    "a = [1,2,3]\n",
    "b = [2,3,4]\n",
    "c = zip(a,b)#这个是zip类型的\n",
    "list(c)#通过转化为list可以发现，zip函数将两个list里的元素一一配对以元组形式。"
   ]
  },
  {
   "cell_type": "code",
   "execution_count": 45,
   "metadata": {},
   "outputs": [
    {
     "name": "stdout",
     "output_type": "stream",
     "text": [
      "1 2\n",
      "<function <lambda> at 0x1129cbb70>\n",
      "3\n"
     ]
    }
   ],
   "source": [
    "def function(x,y,func):\n",
    "    print(x,y)\n",
    "    print(func)\n",
    "    s = func(x,y)\n",
    "    print(s)\n",
    "    \n",
    "function(1,2,lambda a,b:a+b)"
   ]
  },
  {
   "cell_type": "code",
   "execution_count": 52,
   "metadata": {},
   "outputs": [
    {
     "name": "stdout",
     "output_type": "stream",
     "text": [
      "列表的最大值: 9\n",
      "25\n"
     ]
    }
   ],
   "source": [
    "list1 = [3,5,8,9,0]\n",
    "m = max(list1)\n",
    "print(\"列表的最大值:\",m)\n",
    "list2=[{'a':10,'b':20},{'a':13,'b':20},{'a':9,'b':20},{'a':25,'b':20}]\n",
    "#这是我想到的方法\n",
    "M = max(list2[i]['a'] for i in range(len(list2)))\n",
    "print(M)\n",
    "#老师讲的，max(*args,key=None)key是一个func"
   ]
  },
  {
   "cell_type": "code",
   "execution_count": 56,
   "metadata": {},
   "outputs": [
    {
     "name": "stdout",
     "output_type": "stream",
     "text": [
      "列表的最大值: {'a': 25, 'b': 20}\n",
      "25\n",
      "20\n"
     ]
    }
   ],
   "source": [
    "m = max(list2,key=lambda x:x['a'])\n",
    "print(\"列表的最大值:\",m)\n",
    "print(m['a'])\n",
    "print(m['b'])"
   ]
  },
  {
   "cell_type": "code",
   "execution_count": 58,
   "metadata": {},
   "outputs": [
    {
     "name": "stdout",
     "output_type": "stream",
     "text": [
      "<map object at 0x112d0a320>\n",
      "[3, 4, 5, 6, 7, 8, 3, 12]\n"
     ]
    }
   ],
   "source": [
    "#map 函数 第一个参数是一个func，第二个参数是一个可迭代的变量。map嘛，映射嘛，和名字非常符合。\n",
    "list1 = [1,2,3,4,5,6,1,10]\n",
    "result = map(lambda x:x+2,list1)\n",
    "print(result)\n",
    "print(list(result))"
   ]
  },
  {
   "cell_type": "markdown",
   "metadata": {},
   "source": [
    "# map 函数"
   ]
  },
  {
   "cell_type": "code",
   "execution_count": 63,
   "metadata": {},
   "outputs": [
    {
     "name": "stdout",
     "output_type": "stream",
     "text": [
      "6\n",
      "[2, 2, 4, 4, 6, 6, 2, 10]\n",
      "[2, 2, 4, 4, 6, 6, 2, 10]\n"
     ]
    }
   ],
   "source": [
    "list1 = [1,2,3,4,5,6,1,10]\n",
    "func = lambda x: x if x%2 ==0 else x+1\n",
    "print(func(5))\n",
    "#map十分方便，因此常被用来处理list！\n",
    "result = map(lambda x: x if x%2 ==0 else x+1, list1)\n",
    "print(list(result))\n",
    "\n",
    "#循环麻烦！\n",
    "list1 = [1,2,3,4,5,6,1,10]\n",
    "for index,i in enumerate(list1):\n",
    "    if i %2 != 0:\n",
    "        list1[index] = i+1\n",
    "    else:\n",
    "        pass\n",
    "print(list1)"
   ]
  },
  {
   "cell_type": "markdown",
   "metadata": {},
   "source": [
    "# reduce函数 对可迭代的元素进行加减乘除的运算"
   ]
  },
  {
   "cell_type": "code",
   "execution_count": 64,
   "metadata": {},
   "outputs": [
    {
     "name": "stdout",
     "output_type": "stream",
     "text": [
      "32\n"
     ]
    }
   ],
   "source": [
    "from functools import reduce\n",
    "#reduce (funcitons, sequence, initial = None)\n",
    "tuple1 = (3,5,7,8,9)\n",
    "result = reduce(lambda a,b:a+b,tuple1)\n",
    "# 3,5->8; 8,7->15; 15,8->23; 23,9->32\n",
    "print(result)"
   ]
  },
  {
   "cell_type": "code",
   "execution_count": 67,
   "metadata": {},
   "outputs": [
    {
     "ename": "TypeError",
     "evalue": "reduce() arg 2 must support iteration",
     "output_type": "error",
     "traceback": [
      "\u001b[0;31m---------------------------------------------------------------------------\u001b[0m",
      "\u001b[0;31mTypeError\u001b[0m                                 Traceback (most recent call last)",
      "\u001b[0;32m<ipython-input-67-deae0c2a550e>\u001b[0m in \u001b[0;36m<module>\u001b[0;34m\u001b[0m\n\u001b[1;32m      1\u001b[0m \u001b[0mtuple2\u001b[0m \u001b[0;34m=\u001b[0m \u001b[0;34m(\u001b[0m\u001b[0;36m1\u001b[0m\u001b[0;34m)\u001b[0m\u001b[0;34m\u001b[0m\u001b[0;34m\u001b[0m\u001b[0m\n\u001b[0;32m----> 2\u001b[0;31m \u001b[0mresult\u001b[0m \u001b[0;34m=\u001b[0m \u001b[0mreduce\u001b[0m\u001b[0;34m(\u001b[0m\u001b[0;32mlambda\u001b[0m \u001b[0ma\u001b[0m\u001b[0;34m,\u001b[0m\u001b[0mb\u001b[0m\u001b[0;34m:\u001b[0m\u001b[0ma\u001b[0m\u001b[0;34m+\u001b[0m\u001b[0mb\u001b[0m\u001b[0;34m,\u001b[0m\u001b[0mtuple2\u001b[0m\u001b[0;34m)\u001b[0m\u001b[0;34m\u001b[0m\u001b[0;34m\u001b[0m\u001b[0m\n\u001b[0m\u001b[1;32m      3\u001b[0m \u001b[0mprint\u001b[0m\u001b[0;34m(\u001b[0m\u001b[0mresult\u001b[0m\u001b[0;34m)\u001b[0m\u001b[0;34m\u001b[0m\u001b[0;34m\u001b[0m\u001b[0m\n",
      "\u001b[0;31mTypeError\u001b[0m: reduce() arg 2 must support iteration"
     ]
    }
   ],
   "source": [
    "tuple2 = (1)\n",
    "result = reduce(lambda a,b:a+b,tuple2)\n",
    "print(result)"
   ]
  },
  {
   "cell_type": "code",
   "execution_count": 73,
   "metadata": {},
   "outputs": [
    {
     "name": "stdout",
     "output_type": "stream",
     "text": [
      "3\n"
     ]
    }
   ],
   "source": [
    "tuple2 = (1,)\n",
    "result = reduce(lambda a,b:a+b,tuple2,2)#这里不能写initial=2，只能直接指定。因为不是关键字型？不太清楚\n",
    "print(result)"
   ]
  },
  {
   "cell_type": "markdown",
   "metadata": {},
   "source": [
    "# filter(func,interable)"
   ]
  },
  {
   "cell_type": "code",
   "execution_count": 79,
   "metadata": {},
   "outputs": [
    {
     "name": "stdout",
     "output_type": "stream",
     "text": [
      "[123, 6, 8, 1, 23, 23, 1, 2, 20, 0]\n",
      "[123, 23, 23]\n"
     ]
    }
   ],
   "source": [
    "list1 = [123,6,8,1,23,23,1,2,20,0]\n",
    "result = filter(lambda x:x>20,list1)\n",
    "list2 = list(result)\n",
    "print(list1)\n",
    "print(list2)\n",
    "#底层相当于是这样的！\n",
    "def func(list1):\n",
    "    list2 = []\n",
    "    for i in list1:\n",
    "        if i >10:\n",
    "            list2.append[list1[i]]\n",
    "    return list2"
   ]
  },
  {
   "cell_type": "code",
   "execution_count": 83,
   "metadata": {},
   "outputs": [
    {
     "name": "stdout",
     "output_type": "stream",
     "text": [
      "[{'name': 'tom', 'age': 20}, {'name': 'gm', 'age': 23}]\n"
     ]
    }
   ],
   "source": [
    "students = [{'name':'tom','age':20}, {'name':'judy','age':15},{'name':'gm','age':23}]\n",
    "result = list(filter(lambda x: x['age']>=20,students))\n",
    "print(result)"
   ]
  },
  {
   "cell_type": "markdown",
   "metadata": {},
   "source": [
    "# sorted(iterable,key,reverse)"
   ]
  },
  {
   "cell_type": "code",
   "execution_count": 89,
   "metadata": {},
   "outputs": [
    {
     "name": "stdout",
     "output_type": "stream",
     "text": [
      "[2, 7, 9, 10, 11, 12, 20, 30]\n",
      "[{'name': 'gm', 'age': 23}, {'name': 'tom', 'age': 20}, {'name': 'judy', 'age': 15}]\n",
      "[{'name': 'judy', 'age': 15}, {'name': 'tom', 'age': 20}, {'name': 'gm', 'age': 23}]\n"
     ]
    }
   ],
   "source": [
    "age = [10,20,30,11,9,2,7,12]\n",
    "newage = sorted(age)\n",
    "print(newage)\n",
    "students = [{'name':'tom','age':20}, {'name':'judy','age':15},{'name':'gm','age':23}]\n",
    "newstudents = sorted(students,key = lambda x: x['age'],reverse=True)\n",
    "print(newstudents)\n",
    "newstudents = sorted(students,key = lambda x: x['age'],reverse=False)\n",
    "print(newstudents)"
   ]
  },
  {
   "cell_type": "markdown",
   "metadata": {},
   "source": [
    "# 递归函数"
   ]
  },
  {
   "cell_type": "code",
   "execution_count": 99,
   "metadata": {},
   "outputs": [
    {
     "name": "stdout",
     "output_type": "stream",
     "text": [
      "55\n",
      "----> 5\n",
      "----> 4\n",
      "----> 3\n",
      "----> 2\n",
      "----> 1\n",
      "----> 0\n",
      "我真的迭代不动了\n"
     ]
    }
   ],
   "source": [
    "#函数自己调用自己\n",
    "'''\n",
    "普通： def func():pass\n",
    "匿名函数：lambda 参数：返回结果\n",
    "递归函数：普通函数的一种表现形式\n",
    "'''\n",
    "\n",
    "def sum1(n):\n",
    "    if n==0 :\n",
    "        return 0\n",
    "    else:\n",
    "        return n+sum1(n-1)\n",
    "    \n",
    "result = sum1(10)\n",
    "print(result)\n",
    "#递归一定要定义好入口和出口！这是非常重要的！\n",
    "def f1(n):\n",
    "    print('---->',n)\n",
    "    if n>=1:\n",
    "        f1(n-1)\n",
    "    else:\n",
    "        print(\"我真的迭代不动了\")\n",
    "f1(5)"
   ]
  },
  {
   "cell_type": "code",
   "execution_count": 101,
   "metadata": {},
   "outputs": [
    {
     "name": "stdout",
     "output_type": "stream",
     "text": [
      "结束啦～\n"
     ]
    },
    {
     "data": {
      "text/plain": [
       "4860"
      ]
     },
     "execution_count": 101,
     "metadata": {},
     "output_type": "execute_result"
    }
   ],
   "source": [
    "def sum1(n):\n",
    "    if n == 100:\n",
    "        print(\"结束啦～\")\n",
    "        return n\n",
    "    else:\n",
    "        return n + sum1(n+1)\n",
    "sum1(20)"
   ]
  },
  {
   "cell_type": "code",
   "execution_count": null,
   "metadata": {},
   "outputs": [],
   "source": []
  }
 ],
 "metadata": {
  "kernelspec": {
   "display_name": "Python 3",
   "language": "python",
   "name": "python3"
  },
  "language_info": {
   "codemirror_mode": {
    "name": "ipython",
    "version": 3
   },
   "file_extension": ".py",
   "mimetype": "text/x-python",
   "name": "python",
   "nbconvert_exporter": "python",
   "pygments_lexer": "ipython3",
   "version": "3.7.3"
  }
 },
 "nbformat": 4,
 "nbformat_minor": 2
}
