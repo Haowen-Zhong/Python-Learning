{
 "cells": [
  {
   "cell_type": "markdown",
   "metadata": {},
   "source": [
    "# 万丈高楼平地起\n",
    "# 成功的公式：\n",
    "$$\\epsilon=\\int_0^\\tau\\eta(t)dt\\ \\ \\ \\ \\ \\eta(t)>0$$\n",
    "如何提高$\\epsilon$？增加$\\tau$，提高$\\eta$\n"
   ]
  },
  {
   "cell_type": "code",
   "execution_count": 10,
   "metadata": {},
   "outputs": [
    {
     "name": "stdout",
     "output_type": "stream",
     "text": [
      "4402423648 15\n",
      "4402423808 20\n",
      "4402423648 15\n"
     ]
    }
   ],
   "source": [
    "# +=可以应用在字符串和数字上\n",
    "# -= *= /= 只能应用在数字上\n",
    "#实验发现其实是开了新的空间了！\n",
    "a = 15\n",
    "print(id(a),a)\n",
    "a += 5\n",
    "print(id(a),a)\n",
    "a = 15\n",
    "print(id(a),a)"
   ]
  },
  {
   "cell_type": "code",
   "execution_count": 11,
   "metadata": {},
   "outputs": [
    {
     "name": "stdout",
     "output_type": "stream",
     "text": [
      "2\n",
      "2.5\n",
      "1\n",
      "9\n",
      "1.4422495703074083\n"
     ]
    }
   ],
   "source": [
    "print(5//2) #整除\n",
    "print(5/2)  #除\n",
    "print(5%2)  #取模 5 mod 2\n",
    "print(3**2)\n",
    "print(3**(1./3))"
   ]
  },
  {
   "cell_type": "code",
   "execution_count": null,
   "metadata": {},
   "outputs": [],
   "source": [
    "print(\"12323\",\"12323\",\"2323\",sep=\" \",end='\\n')"
   ]
  },
  {
   "cell_type": "code",
   "execution_count": 7,
   "metadata": {},
   "outputs": [
    {
     "name": "stdout",
     "output_type": "stream",
     "text": [
      "True\n",
      "False\n",
      "True\n",
      "False\n"
     ]
    }
   ],
   "source": [
    "#比较  > < == <= >=  is    is not\n",
    "a = 1\n",
    "b = 2\n",
    "print(a!=b)\n",
    "print(a == b)\n",
    "print(a is not b )\n",
    "print(a is b)"
   ]
  },
  {
   "cell_type": "code",
   "execution_count": 9,
   "metadata": {},
   "outputs": [
    {
     "name": "stdout",
     "output_type": "stream",
     "text": [
      "第一个数10\n",
      "第二个数8\n",
      "True\n"
     ]
    }
   ],
   "source": [
    "a = int(input(\"第一个数\"))\n",
    "b = int(input(\"第二个数\"))\n",
    "print(a>=b)"
   ]
  },
  {
   "cell_type": "code",
   "execution_count": 13,
   "metadata": {},
   "outputs": [
    {
     "name": "stdout",
     "output_type": "stream",
     "text": [
      "False\n",
      "True\n"
     ]
    }
   ],
   "source": [
    "n1 = 1\n",
    "n2 = 3\n",
    "result = n1 == n2\n",
    "print(result)\n",
    "n1 = 'hello'\n",
    "n2 = 'hello'\n",
    "result = n1 == n2\n",
    "print(result)"
   ]
  },
  {
   "cell_type": "code",
   "execution_count": 15,
   "metadata": {},
   "outputs": [
    {
     "name": "stdout",
     "output_type": "stream",
     "text": [
      "请输入用户名：admin123\n",
      "用户名验证结果： True\n"
     ]
    }
   ],
   "source": [
    "username = input(\"请输入用户名：\")\n",
    "uname = \"admin123\"\n",
    "result = username ==uname\n",
    "print(\"用户名验证结果：\",result)"
   ]
  },
  {
   "cell_type": "code",
   "execution_count": 19,
   "metadata": {},
   "outputs": [
    {
     "name": "stdout",
     "output_type": "stream",
     "text": [
      "4402423808\n",
      "4402423808\n",
      "True\n",
      "4441440976\n",
      "4441440752\n",
      "False\n"
     ]
    }
   ],
   "source": [
    "# is 用于对象的比较\n",
    "age = 20\n",
    "age1 = 20\n",
    "print(id(age))\n",
    "print(id(age1))\n",
    "print(age is age1)\n",
    "\n",
    "money = 100000\n",
    "\n",
    "salary = 600000\n",
    "print(id(salary))\n",
    "print(id(money))\n",
    "print(money is salary)"
   ]
  },
  {
   "cell_type": "code",
   "execution_count": 20,
   "metadata": {},
   "outputs": [],
   "source": [
    "#要注意区分命令行交互式环境和源文件编译的区别\n",
    "#对于源文件而言是批量处理批量解释批量释放空间的\n",
    "#但是对于交互式环境而言如果是[-5,256]的数就是小数不需要开辟空间的。但是对于大整数而言中终端没执行一次大整数都重新\n",
    "#创建，但是对于Pycharm而言，每次运行所有代码都在内存中。\n",
    "#小整数对象池的概念要建立。"
   ]
  },
  {
   "cell_type": "markdown",
   "metadata": {},
   "source": [
    "# and or not"
   ]
  },
  {
   "cell_type": "code",
   "execution_count": 22,
   "metadata": {},
   "outputs": [
    {
     "name": "stdout",
     "output_type": "stream",
     "text": [
      "False\n",
      "False\n"
     ]
    }
   ],
   "source": [
    "'''\n",
    "True and True ---> True\n",
    "True and False ---> False\n",
    "False and True --->False\n",
    "False and False ---> False\n",
    "'''\n",
    "\n",
    "print(8>10 and 6<5)\n",
    "print(\"admin\" == \"admin123\" and \"123456\" == \"123456\")"
   ]
  },
  {
   "cell_type": "code",
   "execution_count": 28,
   "metadata": {},
   "outputs": [
    {
     "name": "stdout",
     "output_type": "stream",
     "text": [
      "0b11\n",
      "23\n",
      "-0b1000\n",
      "-0b1010\n"
     ]
    }
   ],
   "source": [
    "#位运算\n",
    "a = 3\n",
    "print(bin(a))#输出二进制码\n",
    "b = 0b10111 # 0b 二进制表示\n",
    "print(b)\n",
    "c = -8  # 对于-5而言0000 0101---->1111 1010---->1111 1011    -8 00001000---->1111 0111---->1111 1000\n",
    "print(bin(c))\n",
    "d = -10\n",
    "print(bin(d))\n",
    "#但是这输出的结果并不是-8的二进制表示"
   ]
  },
  {
   "cell_type": "code",
   "execution_count": 31,
   "metadata": {},
   "outputs": [
    {
     "name": "stdout",
     "output_type": "stream",
     "text": [
      "3352\n",
      "43981\n"
     ]
    }
   ],
   "source": [
    "c = 0o6430 #0o开头的都是8进制\n",
    "print(int(c))\n",
    "d = 0xABCD\n",
    "print(int(d))"
   ]
  },
  {
   "cell_type": "code",
   "execution_count": 35,
   "metadata": {},
   "outputs": [
    {
     "name": "stdout",
     "output_type": "stream",
     "text": [
      "2\n",
      "7\n",
      "-6\n",
      "6\n"
     ]
    }
   ],
   "source": [
    "#要转换为2进制按位判断\n",
    "print(3 & 2)\n",
    "print(5 | 3)\n",
    "print(~5)\n",
    "print(3^5)"
   ]
  },
  {
   "cell_type": "code",
   "execution_count": 43,
   "metadata": {},
   "outputs": [
    {
     "name": "stdout",
     "output_type": "stream",
     "text": [
      "4\n",
      "1\n",
      "64\n",
      "4\n",
      "0\n"
     ]
    }
   ],
   "source": [
    "print(2<<1)\n",
    "print(2>>1)\n",
    "'''\n",
    "2的二进制：\n",
    "2<<1:\n",
    "0000 0010 -----> 0000 0100 i.e. 4\n",
    "2>>1:\n",
    "0000 0010 -----> 0000 0001 i.e. 1\n",
    "'''\n",
    "'''\n",
    "16<<2:\n",
    "0001 0000 ------> 0100 0000 i.e. 64\n",
    "'''\n",
    "print(16<<2)\n",
    "print(16>>2)\n",
    "# 其实左移就是乘2的n次方，右移乘二分之一的n次方\n",
    "print(16>>5)"
   ]
  },
  {
   "cell_type": "markdown",
   "metadata": {},
   "source": [
    "# 3目运算符\n"
   ]
  },
  {
   "cell_type": "code",
   "execution_count": 45,
   "metadata": {},
   "outputs": [
    {
     "ename": "SyntaxError",
     "evalue": "invalid syntax (<ipython-input-45-8f2cc6aeb53d>, line 2)",
     "output_type": "error",
     "traceback": [
      "\u001b[0;36m  File \u001b[0;32m\"<ipython-input-45-8f2cc6aeb53d>\"\u001b[0;36m, line \u001b[0;32m2\u001b[0m\n\u001b[0;31m    result = (8>10) ? \"真\":\"假\"\u001b[0m\n\u001b[0m                    ^\u001b[0m\n\u001b[0;31mSyntaxError\u001b[0m\u001b[0;31m:\u001b[0m invalid syntax\n"
     ]
    }
   ],
   "source": [
    "#格式:表达式 ?真 : 假这种格式在Python里是不支持的\n",
    "result = (8>10) ? \"真\":\"假\"\n",
    "print(result)\n"
   ]
  },
  {
   "cell_type": "code",
   "execution_count": 46,
   "metadata": {},
   "outputs": [
    {
     "name": "stdout",
     "output_type": "stream",
     "text": [
      "11\n"
     ]
    }
   ],
   "source": [
    "a = 6\n",
    "b = 5\n",
    "#这样的语句应该是比较方便好用的，之后可以有意识地使用\n",
    "result = (a+b) if a>b else (b-a)   #如果a>b成立就(a+b) 否则就(b-a)\n",
    "print(result)"
   ]
  },
  {
   "cell_type": "code",
   "execution_count": 59,
   "metadata": {},
   "outputs": [
    {
     "name": "stdout",
     "output_type": "stream",
     "text": [
      "嘿嘿我登陆啦！\n",
      "----------\n",
      "----------\n",
      "嘿嘿我登陆啦！\n",
      "----------\n",
      "You are smart\n",
      "You are a stupid guy!\n"
     ]
    }
   ],
   "source": [
    "username = 'admin'\n",
    "\n",
    "if username :\n",
    "    print(\"嘿嘿我登陆啦！\")\n",
    "print(\"-\"*10)\n",
    "username = ''\n",
    "if username :#若变量是\"\" 0 None 默认是False 如果是空格就不是了！\n",
    "    print(\"嘿嘿我登陆啦！\")\n",
    "print(\"-\"*10)\n",
    "username = ' '\n",
    "if username :#若变量是\"\" 0 None 默认是False 如果是空格就不是了！\n",
    "    print(\"嘿嘿我登陆啦！\")\n",
    "print(\"-\"*10)\n",
    "num = 0\n",
    "if num:\n",
    "    print(\"You are a stupid guy!\")\n",
    "else:\n",
    "    print(\"You are smart\")\n",
    "num = 1\n",
    "if num:\n",
    "    print(\"You are a stupid guy!\")\n",
    "else:\n",
    "    print(\"You are smart\")"
   ]
  },
  {
   "cell_type": "code",
   "execution_count": 1,
   "metadata": {},
   "outputs": [
    {
     "name": "stdout",
     "output_type": "stream",
     "text": [
      "********** 欢迎来到消消乐 **********\n",
      "请输入您的级别(lv1,lv2):lv1\n",
      "免费玩，随便玩\n"
     ]
    }
   ],
   "source": [
    "print(\"*\" * 10,\"欢迎来到消消乐\",\"*\" * 10)\n",
    "level = input(\"请输入您的级别(lv1,lv2):\")\n",
    "if level == 'lv1':\n",
    "    print(\"免费玩，随便玩\")\n",
    "else:\n",
    "    print(\"已经进入付费模式，请充值购买道具继续玩\")\n",
    "    money = input('请充值(必须是100的倍数)')\n",
    "    print('充值金额是:',money)\n"
   ]
  },
  {
   "cell_type": "code",
   "execution_count": 5,
   "metadata": {},
   "outputs": [
    {
     "name": "stdout",
     "output_type": "stream",
     "text": [
      "********** 欢迎来到消消乐 **********\n",
      "请输入您的级别(lv1,lv2):lv2\n",
      "已经进入付费模式，请充值购买道具继续玩\n",
      "请充值(必须是100的倍数)300\n",
      "充值成功了！\n",
      "充值金额是: 300\n",
      "你太抠门了！再给我充！\n"
     ]
    }
   ],
   "source": [
    "print(\"*\" * 10,\"欢迎来到消消乐\",\"*\" * 10)\n",
    "level = input(\"请输入您的级别(lv1,lv2):\")\n",
    "if level == 'lv1':\n",
    "    print(\"免费玩，随便玩\")\n",
    "else:\n",
    "    print(\"已经进入付费模式，请充值购买道具继续玩\")\n",
    "    money = int(input('请充值(必须是100的倍数)'))\n",
    "    if money % 100 == 0 and money >0 :\n",
    "        print(\"充值成功了！\")\n",
    "        print('充值金额是:',money)\n",
    "        if money<500:\n",
    "            print(\"你太抠门了！再给我充！\")\n",
    "    else:\n",
    "        print(\"你个傻逼，不认识中文字？再给我充！狠命充！\")"
   ]
  },
  {
   "cell_type": "code",
   "execution_count": 18,
   "metadata": {},
   "outputs": [
    {
     "name": "stdout",
     "output_type": "stream",
     "text": [
      "14\n"
     ]
    }
   ],
   "source": [
    "import random\n",
    "\n",
    "print(random.randint(-5,20))"
   ]
  }
 ],
 "metadata": {
  "kernelspec": {
   "display_name": "Python 3",
   "language": "python",
   "name": "python3"
  },
  "language_info": {
   "codemirror_mode": {
    "name": "ipython",
    "version": 3
   },
   "file_extension": ".py",
   "mimetype": "text/x-python",
   "name": "python",
   "nbconvert_exporter": "python",
   "pygments_lexer": "ipython3",
   "version": "3.7.3"
  }
 },
 "nbformat": 4,
 "nbformat_minor": 2
}
