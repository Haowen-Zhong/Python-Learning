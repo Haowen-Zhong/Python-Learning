{
 "cells": [
  {
   "cell_type": "markdown",
   "metadata": {},
   "source": [
    "# 万丈高楼平地起\n",
    "# 成功的公式\n",
    "$$\\epsilon = \\int_0^t \\eta(t)dt$$"
   ]
  },
  {
   "cell_type": "markdown",
   "metadata": {},
   "source": [
    "# 选择排序"
   ]
  },
  {
   "cell_type": "code",
   "execution_count": 5,
   "metadata": {},
   "outputs": [
    {
     "name": "stdout",
     "output_type": "stream",
     "text": [
      "[5, 8, 7, 9]\n",
      "-----------------> 1\n",
      "[5, 7, 8, 9]\n",
      "-----------------> 2\n",
      "-----------------> 3\n"
     ]
    }
   ],
   "source": [
    "#升序排列\n",
    "numbers = [8,5,7,9]\n",
    "for i in range(len(numbers)-1):#k个数顶多排k-1轮\n",
    "    #第一轮确保把最小的放在第一位，第i轮确保将第i小的放在第i位\n",
    "    for j in range(i+1,len(numbers)):\n",
    "        if numbers[i] > numbers[j]:\n",
    "            #快速交换\n",
    "            numbers[i],numbers[j] = numbers[j],numbers[i]\n",
    "            print(numbers)\n",
    "    print('----------------->',i+1)"
   ]
  },
  {
   "cell_type": "code",
   "execution_count": 7,
   "metadata": {},
   "outputs": [
    {
     "name": "stdout",
     "output_type": "stream",
     "text": [
      "[9, 5, 7, 8]\n",
      "-----------------> 1\n",
      "[9, 7, 5, 8]\n",
      "[9, 8, 5, 7]\n",
      "-----------------> 2\n",
      "[9, 8, 7, 5]\n",
      "-----------------> 3\n"
     ]
    }
   ],
   "source": [
    "#选择排序#降序排列\n",
    "numbers = [8,5,7,9]\n",
    "for i in range(len(numbers)-1):#k个数顶多排k-1轮\n",
    "    #第一轮确保把最小的放在第一位，第i轮确保将第i小的放在第i位\n",
    "    for j in range(i+1,len(numbers)):\n",
    "        if numbers[i] < numbers[j]:\n",
    "            #快速交换\n",
    "            numbers[i],numbers[j] = numbers[j],numbers[i]\n",
    "            print(numbers)\n",
    "    print('----------------->',i+1)"
   ]
  },
  {
   "cell_type": "markdown",
   "metadata": {},
   "source": [
    "# 冒泡排序"
   ]
  },
  {
   "cell_type": "code",
   "execution_count": 8,
   "metadata": {},
   "outputs": [
    {
     "name": "stdout",
     "output_type": "stream",
     "text": [
      "-----------------> 1\n",
      "[1, 7, 4, 0]\n",
      "-----------------> 1\n",
      "[1, 4, 7, 0]\n",
      "-----------------> 1\n",
      "[1, 4, 0, 7]\n",
      "-----------------> 2\n",
      "[1, 4, 0, 7]\n",
      "-----------------> 2\n",
      "[1, 0, 4, 7]\n",
      "-----------------> 3\n",
      "[0, 1, 4, 7]\n"
     ]
    }
   ],
   "source": [
    "#分成两个循环，第一个循环是取index\n",
    "#第二个循环是一轮一轮跑，把最大的或者最小的冒上去\n",
    "#和选择排序最大的区别在于相邻比较\n",
    "mylist = [1,7,4,0]\n",
    "for i in range(0,len(mylist)-1):\n",
    "    for j in range(0,len(mylist)-i-1):\n",
    "        if mylist[j] > mylist[j+1]:\n",
    "            mylist[j],mylist[j+1] = mylist[j+1],mylist[j]\n",
    "        print('----------------->',i+1)\n",
    "        print(mylist)"
   ]
  },
  {
   "cell_type": "markdown",
   "metadata": {},
   "source": [
    "# 列表总结：\n",
    "'+' ---> 合并[]+[]\n",
    "\n",
    "'*' ---> [] * n\n",
    "\n",
    "in ---> a in [] False True\n",
    "\n",
    "not in --->\n",
    "\n",
    "is 比较列表地址是否相等\n",
    "\n",
    "## 系统中给列表使用的函数:\n",
    "len() sorted() max() min() list() enumerate()\n",
    "## 列表自身作为类对象的Method:\n",
    "append()末尾添加 extend() 末尾添加一组元素 insert() 指定位置插入 del list[index] 删除要的元素 \n",
    "\n",
    "reverse()    remove(obj)删除指定元素 pop（）count() copy()就是复制一个而已\n"
   ]
  },
  {
   "cell_type": "code",
   "execution_count": 12,
   "metadata": {},
   "outputs": [
    {
     "data": {
      "text/plain": [
       "'a_s_d'"
      ]
     },
     "execution_count": 12,
     "metadata": {},
     "output_type": "execute_result"
    }
   ],
   "source": [
    "'_'.join([\"as\",\"bcd\"])\n",
    "'_'.join(\"asd\")"
   ]
  },
  {
   "cell_type": "code",
   "execution_count": 20,
   "metadata": {},
   "outputs": [
    {
     "name": "stdout",
     "output_type": "stream",
     "text": [
      "<class 'tuple'>\n",
      "<class 'int'>\n",
      "<class 'tuple'>\n",
      "<class 'str'>\n",
      "<class 'tuple'>\n",
      "<class 'tuple'>\n",
      "<class 'tuple'>\n"
     ]
    }
   ],
   "source": [
    "#元组 tuple 只能眼巴巴地看着他活着查询\n",
    "#(obj1,obj2,...,objn )元素是不可以修改的\n",
    "# 关键字 tuple()\n",
    "\n",
    "#如果只有一个元素的话！有没有括号都是元素的类型，因此一定要加逗号！\n",
    "t1 = ()\n",
    "print(type(t1))\n",
    "\n",
    "t2 = (1)\n",
    "print(type(t2))\n",
    "t2 = (1,)\n",
    "print(type(t2))\n",
    "\n",
    "t3 = (\"str\")\n",
    "print(type(t3))\n",
    "t3 = (\"str\",)\n",
    "print(type(t3))\n",
    "\n",
    "t4 = ('aa','bb')\n",
    "print(type(t4))\n",
    "\n",
    "t5 = 1,2,3\n",
    "print(type(t5))#我感觉...加不加括号都行\n",
    "\n",
    "#直接看Method 发现只有index和count"
   ]
  },
  {
   "cell_type": "code",
   "execution_count": 36,
   "metadata": {},
   "outputs": [
    {
     "name": "stdout",
     "output_type": "stream",
     "text": [
      "[5, 7, 7, 10, 10, 8, 8, 6, 6, 6]\n",
      "(7, 10, 10, 8, 8, 6, 6, 6)\n",
      "5\n",
      "6\n",
      "(6, 6, 6, 8, 8, 10, 10, 7, 7, 5)\n",
      "最大值是10\n",
      "最大值是5\n",
      "和是73\n",
      "长是10\n"
     ]
    }
   ],
   "source": [
    "import random\n",
    "list1 = []\n",
    "for i in range(10):\n",
    "    num = random.randint(5,10)\n",
    "    list1.append(num)\n",
    "print(list1)\n",
    "#虽然不能增删改但是我可以直接通过强转产生\n",
    "t1 = tuple(list1)\n",
    "#可以通过下标和切片来实现\n",
    "print(t1[2:])\n",
    "print(t1[0])\n",
    "print(t1[-1])\n",
    "print(t1[::-1])\n",
    "print(f'最大值是{max(t1)}')\n",
    "print(f'最大值是{min(t1)}')\n",
    "print(f'和是{sum(t1)}')\n",
    "print(f'长是{len(t1)}')"
   ]
  },
  {
   "cell_type": "code",
   "execution_count": 42,
   "metadata": {},
   "outputs": [
    {
     "name": "stdout",
     "output_type": "stream",
     "text": [
      "3\n",
      "1\n"
     ]
    }
   ],
   "source": [
    "print(t1.count(6))\n",
    "print(t1.index(7))"
   ]
  },
  {
   "cell_type": "code",
   "execution_count": 54,
   "metadata": {},
   "outputs": [
    {
     "name": "stdout",
     "output_type": "stream",
     "text": [
      "4 7 3\n",
      "2 [5, 7, 8] 9\n",
      "2 5 [7, 8, 9]\n",
      "2 5 [7, 8, 9]\n",
      "9 []\n",
      "2 [5, 7, 8] 9\n"
     ]
    }
   ],
   "source": [
    "t1 = (4,7,3)\n",
    "a,b,c = t1\n",
    "print(a,b,c)\n",
    "#——————————————————————————————\n",
    "t1 = (2,5,7,8,9)\n",
    "a,*_,c=t1\n",
    "print(a,_,c)#诶，这个太有意思了，可以跳过！\n",
    "#——————————————————————————————\n",
    "a,c,*_ = t1\n",
    "print(a,c,_)#可以换地方\n",
    "#——————————————————————————————\n",
    "a,c,*b = t1\n",
    "print(a,c,b)#关键在于_而不在于名字\n",
    "#——————————————————————————————\n",
    "t1 = (9,)\n",
    "a,*b = t1#总之*b表示未知个数，可以从0-多个元素\n",
    "print(a,b)\n",
    "#——————————————————————————————\n",
    "#那我来尝试一下list可以这样吗？\n",
    "#非常amazing啊！确实可以\n",
    "t2 = [2,5,7,8,9]\n",
    "a,*_,c = t2\n",
    "print(a,_,c)"
   ]
  },
  {
   "cell_type": "code",
   "execution_count": 57,
   "metadata": {},
   "outputs": [
    {
     "name": "stdout",
     "output_type": "stream",
     "text": [
      "4 [8, 6]\n",
      "[8, 6]\n",
      "8 6\n"
     ]
    }
   ],
   "source": [
    "t1 = (4,8,6)\n",
    "a,*b = t1#底层首先把(4,8,6)->4,8,6。然后把4给a,把8,6给*b。Python解释器看到*就把8,6装到一个列表里面了！\n",
    "print(a,b)\n",
    "print(b)\n",
    "print(*b)#手动在列表前面加*,系统认为我想把b给拆了。于是就产生了8 6"
   ]
  },
  {
   "cell_type": "code",
   "execution_count": 59,
   "metadata": {},
   "outputs": [
    {
     "name": "stdout",
     "output_type": "stream",
     "text": [
      "[1, 2, 3]\n",
      "1 2 3\n"
     ]
    }
   ],
   "source": [
    "a = [1,2,3]\n",
    "print(a)\n",
    "print(*a)#这个*不仅仅可以用于之前的情形，似乎是一种扒皮的功能"
   ]
  },
  {
   "cell_type": "code",
   "execution_count": 70,
   "metadata": {},
   "outputs": [
    {
     "name": "stdout",
     "output_type": "stream",
     "text": [
      "woshiyishi <class 'str'>\n",
      "w o s h i y i s h i\n"
     ]
    }
   ],
   "source": [
    "s = \"woshiyishi\"\n",
    "print(s,type(s))\n",
    "print(*s)"
   ]
  },
  {
   "cell_type": "code",
   "execution_count": 71,
   "metadata": {},
   "outputs": [
    {
     "ename": "SyntaxError",
     "evalue": "two starred expressions in assignment (<ipython-input-71-9fe232df89bf>, line 5)",
     "output_type": "error",
     "traceback": [
      "\u001b[0;36m  File \u001b[0;32m\"<ipython-input-71-9fe232df89bf>\"\u001b[0;36m, line \u001b[0;32m5\u001b[0m\n\u001b[0;31mSyntaxError\u001b[0m\u001b[0;31m:\u001b[0m two starred expressions in assignment\n"
     ]
    }
   ],
   "source": [
    "t = (4,8,9,1,2,3,5,2)\n",
    "a,*b,c,*d=t\n",
    "print(a,b,c,d)#two starred expressions in assignment!这就不行咯,因为这个人也读不懂哈哈哈"
   ]
  },
  {
   "cell_type": "code",
   "execution_count": 74,
   "metadata": {},
   "outputs": [
    {
     "ename": "SyntaxError",
     "evalue": "starred assignment target must be in a list or tuple (<ipython-input-74-db8bb1a6804f>, line 16)",
     "output_type": "error",
     "traceback": [
      "\u001b[0;36m  File \u001b[0;32m\"<ipython-input-74-db8bb1a6804f>\"\u001b[0;36m, line \u001b[0;32m16\u001b[0m\n\u001b[0;31mSyntaxError\u001b[0m\u001b[0;31m:\u001b[0m starred assignment target must be in a list or tuple\n"
     ]
    }
   ],
   "source": [
    "'''\n",
    "这个赋值的语句好像不能用啊。\n",
    "赋值：\n",
    "*y = 4,6,8\n",
    "系统看到你给我一堆散列的元素，就给我准备了一个list[],把4,6,8---->[4,6,8]\n",
    "装好元素给我放到y里面\n",
    "\n",
    "打印：\n",
    "print(*[4,8,6])\n",
    "系统看到我本来就是组合好的那么就知道我要把他拆开！\n",
    "\n",
    "总之散装整拆！\n",
    "'''"
   ]
  },
  {
   "cell_type": "code",
   "execution_count": 82,
   "metadata": {
    "scrolled": true
   },
   "outputs": [
    {
     "name": "stdout",
     "output_type": "stream",
     "text": [
      "(1, 2, 3)\n",
      "4460491224 (4, 5, 4, 5)\n",
      "4460494024 (4, 5, 4, 5)\n",
      "False\n"
     ]
    }
   ],
   "source": [
    "a = 1,2,3\n",
    "print(a)\n",
    "\n",
    "t2 = (4,5) + (4,5)\n",
    "print(id(t2),t2)\n",
    "t3 = (4,5)*2\n",
    "print(id(t3),t3)\n",
    "\n",
    "print(t2 is t3)"
   ]
  },
  {
   "cell_type": "code",
   "execution_count": 86,
   "metadata": {},
   "outputs": [
    {
     "name": "stdout",
     "output_type": "stream",
     "text": [
      "[1, 2, 3, 4, 5, 10]\n",
      "(1, 2, 3, 4, 5, 10)\n"
     ]
    }
   ],
   "source": [
    "t = (4,5,1,2,3,10)\n",
    "print(sorted(t))#发现可以用但是变成了list！所以\n",
    "t = tuple(sorted(t))\n",
    "print(t)"
   ]
  },
  {
   "cell_type": "code",
   "execution_count": 87,
   "metadata": {},
   "outputs": [
    {
     "data": {
      "text/plain": [
       "\"\\n应用：貂蝉---['屠龙刀'，'手榴弹'] 800\\n诸葛亮 ---['鹅毛扇','碧血剑','98K抢'] 300\\n\\n字典：\\n特点\\n1.符号{}\\n2.关键字：dict\\n3.保存的元素是: key:value\\n\""
      ]
     },
     "execution_count": 87,
     "metadata": {},
     "output_type": "execute_result"
    }
   ],
   "source": [
    "#dictionary 字典\n",
    "'''\n",
    "应用：貂蝉---['屠龙刀'，'手榴弹'] 800\n",
    "诸葛亮 ---['鹅毛扇','碧血剑','98K抢'] 300\n",
    "\n",
    "字典：\n",
    "特点\n",
    "1.符号{}\n",
    "2.关键字：dict\n",
    "3.保存的元素是: key:value\n",
    "'''\n",
    "#定义\n",
    "dict1= {}\n",
    "dict2 = dict()#空字典。或者说把这个理解成强制转换！"
   ]
  },
  {
   "cell_type": "code",
   "execution_count": 94,
   "metadata": {},
   "outputs": [
    {
     "name": "stdout",
     "output_type": "stream",
     "text": [
      "{'貂蝉': {'武器': ['屠龙刀', '手榴弹'], '金币': 800}, 'emm': 'fuckyou'}\n"
     ]
    }
   ],
   "source": [
    "d1 = {\"貂蝉\":{\"武器\":[\"屠龙刀\",\"手榴弹\"],\"金币\":800},\"emm\":\"fuckyou\"}\n",
    "print(d1)"
   ]
  },
  {
   "cell_type": "code",
   "execution_count": 98,
   "metadata": {},
   "outputs": [
    {
     "name": "stdout",
     "output_type": "stream",
     "text": [
      "{'ID': '3309123123213123', 'name': 'lucky', 'age': 18}\n"
     ]
    }
   ],
   "source": [
    "dict1 = {'ID':'3309123123213123','name':'lucky','age':18}\n",
    "print(dict1)"
   ]
  },
  {
   "cell_type": "code",
   "execution_count": 101,
   "metadata": {},
   "outputs": [
    {
     "ename": "ValueError",
     "evalue": "dictionary update sequence element #0 has length 1; 2 is required",
     "output_type": "error",
     "traceback": [
      "\u001b[0;31m---------------------------------------------------------------------------\u001b[0m",
      "\u001b[0;31mValueError\u001b[0m                                Traceback (most recent call last)",
      "\u001b[0;32m<ipython-input-101-f6e2d82eec3d>\u001b[0m in \u001b[0;36m<module>\u001b[0;34m\u001b[0m\n\u001b[0;32m----> 1\u001b[0;31m \u001b[0mdict4\u001b[0m \u001b[0;34m=\u001b[0m \u001b[0mdict\u001b[0m\u001b[0;34m(\u001b[0m\u001b[0;34m(\u001b[0m\u001b[0;34m'name'\u001b[0m\u001b[0;34m)\u001b[0m\u001b[0;34m)\u001b[0m\u001b[0;34m\u001b[0m\u001b[0;34m\u001b[0m\u001b[0m\n\u001b[0m\u001b[1;32m      2\u001b[0m \u001b[0mprint\u001b[0m\u001b[0;34m(\u001b[0m\u001b[0mdict4\u001b[0m\u001b[0;34m)\u001b[0m\u001b[0;34m\u001b[0m\u001b[0;34m\u001b[0m\u001b[0m\n",
      "\u001b[0;31mValueError\u001b[0m: dictionary update sequence element #0 has length 1; 2 is required"
     ]
    }
   ],
   "source": [
    "dict4 = dict(('name','lucky')) #{'name':'xxx','lucky':xxx}他把这个当成关键词了\n",
    "#希望把('name','lucky')转成字典，这是不可能的\n",
    "#那么同理['name','lucky']也不行\n",
    "print(dict4)"
   ]
  },
  {
   "cell_type": "code",
   "execution_count": 105,
   "metadata": {},
   "outputs": [
    {
     "name": "stdout",
     "output_type": "stream",
     "text": [
      "{'name': 'lucky', 'age': 18, 'size': 'B'}\n"
     ]
    }
   ],
   "source": [
    "#对于[('name','lucky'),('age',18),('size','B')]这样的list 那就符合dict的语法规则，可以强制转换\n",
    "dict4 = dict([('name','lucky'),('age',18),('size','B')])#列表里面放元组\n",
    "print(dict4)"
   ]
  },
  {
   "cell_type": "code",
   "execution_count": 109,
   "metadata": {},
   "outputs": [
    {
     "name": "stdout",
     "output_type": "stream",
     "text": [
      "{1: 3, 2: 3, 4: 5}\n"
     ]
    }
   ],
   "source": [
    "#果然只要满足要求就可以转换咯\n",
    "d1 = ((1,2),(2,3),(4,5),(1,3))#可以重复，但是之后的会覆盖之前的\n",
    "d1 = dict(d1)\n",
    "print(d1)"
   ]
  },
  {
   "cell_type": "code",
   "execution_count": 110,
   "metadata": {},
   "outputs": [],
   "source": [
    "#字典的增删改查。\n",
    "#事实上一个对象的信息就是一个字典"
   ]
  },
  {
   "cell_type": "code",
   "execution_count": 116,
   "metadata": {},
   "outputs": [
    {
     "name": "stdout",
     "output_type": "stream",
     "text": [
      "{'brand': 'huawei'}\n",
      "{'brand': 'xiaomi'}\n",
      "{'brand': 'xiaomi', 'price': '10000', 'color': 'black'}\n"
     ]
    }
   ],
   "source": [
    "#增加\n",
    "dict1 = {}\n",
    "#格式 dict1[key] = value\n",
    "dict1['brand'] = 'huawei'\n",
    "print(dict1)\n",
    "dict1['brand'] = 'xiaomi'\n",
    "print(dict1)#同名覆盖！\n",
    "#如果没有的话就添加\n",
    "dict1['price'] = '10000'\n",
    "dict1['color'] = 'black'\n",
    "print(dict1)"
   ]
  },
  {
   "cell_type": "code",
   "execution_count": null,
   "metadata": {},
   "outputs": [],
   "source": []
  }
 ],
 "metadata": {
  "kernelspec": {
   "display_name": "Python 3",
   "language": "python",
   "name": "python3"
  },
  "language_info": {
   "codemirror_mode": {
    "name": "ipython",
    "version": 3
   },
   "file_extension": ".py",
   "mimetype": "text/x-python",
   "name": "python",
   "nbconvert_exporter": "python",
   "pygments_lexer": "ipython3",
   "version": "3.7.3"
  }
 },
 "nbformat": 4,
 "nbformat_minor": 2
}
