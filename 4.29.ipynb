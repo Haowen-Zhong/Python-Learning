{
 "cells": [
  {
   "cell_type": "markdown",
   "metadata": {},
   "source": [
    "# 万丈高楼平地起"
   ]
  },
  {
   "cell_type": "code",
   "execution_count": 8,
   "metadata": {},
   "outputs": [
    {
     "name": "stdout",
     "output_type": "stream",
     "text": [
      "{8, 6, 7}\n",
      "{'A': 'a', 'B': 'b', 'C': 'd'}\n"
     ]
    }
   ],
   "source": [
    "#集合推导式\n",
    "#类似于列表推导式，但是在列表推导式的基础上添加了去除重复项的功能\n",
    "list1 = [1,2,1,3,5,2,1,8,9,7]\n",
    "set1 = {x-1 for x in list1 if x > 5}\n",
    "print(set1)\n",
    "#字典推导式\n",
    "dict1 = {'a':'A','b':'B','c':'C','d':'C'}\n",
    "#希望进行键值对颠倒操作\n",
    "#这真的太妙了！注意到了出现同名的时候是拿后面的覆盖前面的。\n",
    "#value:key 是字典的一个特征。\n",
    "newdict = {value:key for key,value in dict1.items()}\n",
    "print(newdict)"
   ]
  },
  {
   "cell_type": "code",
   "execution_count": 13,
   "metadata": {},
   "outputs": [
    {
     "name": "stdout",
     "output_type": "stream",
     "text": [
      "[{'name': 'tom', 'salary': 5200}, {'name': 'judy', 'salary': 1500}, {'name': 'Jack', 'salary': 50200}]\n"
     ]
    }
   ],
   "source": [
    "dict1 = {'name':'tom','salary':5000}\n",
    "dict2 = {'name':'judy','salary':1000}\n",
    "dict3 = {'name':'Jack','salary':50000}\n",
    "#如果薪资大于5000就涨工资涨200，如果低于5000就加500\n",
    "list1 = [dict1,dict2,dict3]\n",
    "#突发奇想，解决了昨天的问题。\n",
    "list1 = [{'name':person['name'],'salary':person['salary'] + 500} if person['salary']<5000 else {'name':person['name'],'salary':person['salary']+ 200} for person in list1]\n",
    "print(list1)"
   ]
  },
  {
   "cell_type": "markdown",
   "metadata": {},
   "source": [
    "# generator 生成器"
   ]
  },
  {
   "cell_type": "code",
   "execution_count": 18,
   "metadata": {},
   "outputs": [
    {
     "name": "stdout",
     "output_type": "stream",
     "text": [
      "<class 'list'>\n",
      "[0, 3, 6, 9, 12, 15, 18, 21, 24, 27, 30, 33, 36, 39, 42, 45, 48, 51, 54, 57]\n",
      "<class 'generator'>\n"
     ]
    }
   ],
   "source": [
    "#可能我们只会用到前10个元素，但是这玩意儿就是占着我们内存的，只要执行就分配了存储空间，很浪费\n",
    "#[x for x in range(10000000000)]\n",
    "#因此考虑一种边用边生成的东西，就不需要完整地构建列表来占着内存空间。\n",
    "'''\n",
    "1. 得到生成器方式：通过列表推导式来得到生成器\n",
    "2. \n",
    "'''\n",
    "newlist = [x*3 for x in range(20)]\n",
    "print(type(newlist))\n",
    "print(newlist)\n",
    "#得到生成器，把方括号改成小括号。\n",
    "g = (x*3 for x in range(20))#注意这不是什么元组推导式，因为本来tuple就是不可变的。而是生成器\n",
    "print(type(g))"
   ]
  },
  {
   "cell_type": "code",
   "execution_count": 37,
   "metadata": {},
   "outputs": [
    {
     "name": "stdout",
     "output_type": "stream",
     "text": [
      "<generator object <genexpr> at 0x1093e40c0>\n",
      "0\n"
     ]
    },
    {
     "ename": "StopIteration",
     "evalue": "",
     "output_type": "error",
     "traceback": [
      "\u001b[0;31m---------------------------------------------------------------------------\u001b[0m",
      "\u001b[0;31mStopIteration\u001b[0m                             Traceback (most recent call last)",
      "\u001b[0;32m<ipython-input-37-d38efb7ed65b>\u001b[0m in \u001b[0;36m<module>\u001b[0;34m\u001b[0m\n\u001b[1;32m     14\u001b[0m \u001b[0mnext\u001b[0m\u001b[0;34m(\u001b[0m\u001b[0mg\u001b[0m\u001b[0;34m)\u001b[0m\u001b[0;34m\u001b[0m\u001b[0;34m\u001b[0m\u001b[0m\n\u001b[1;32m     15\u001b[0m \u001b[0mnext\u001b[0m\u001b[0;34m(\u001b[0m\u001b[0mg\u001b[0m\u001b[0;34m)\u001b[0m\u001b[0;34m\u001b[0m\u001b[0;34m\u001b[0m\u001b[0m\n\u001b[0;32m---> 16\u001b[0;31m \u001b[0mnext\u001b[0m\u001b[0;34m(\u001b[0m\u001b[0mg\u001b[0m\u001b[0;34m)\u001b[0m\u001b[0;34m\u001b[0m\u001b[0;34m\u001b[0m\u001b[0m\n\u001b[0m",
      "\u001b[0;31mStopIteration\u001b[0m: "
     ]
    }
   ],
   "source": [
    "g = (x*3 for x in range(10))#注意这不是什么元组推导式，因为本来tuple就是不可变的。而是生成器\n",
    "print(g)\n",
    "#方式1\n",
    "print(g.__next__())#每次调用产生一个。依此类推产生的。通过调用__next__()得到元素\n",
    "#方式2\n",
    "next(g)#牛逼，next是系统自带的函数和print本质一样\n",
    "#每调用一次next就会产生一个元素。\n",
    "next(g)\n",
    "next(g)\n",
    "next(g)\n",
    "next(g)\n",
    "next(g)\n",
    "next(g)\n",
    "next(g)\n",
    "next(g)\n",
    "next(g)#报错了，因为超过了最大的元素。"
   ]
  },
  {
   "cell_type": "code",
   "execution_count": 38,
   "metadata": {},
   "outputs": [
    {
     "name": "stdout",
     "output_type": "stream",
     "text": [
      "0\n",
      "3\n",
      "6\n",
      "9\n",
      "12\n",
      "15\n",
      "18\n",
      "21\n",
      "24\n",
      "27\n",
      "没有更多的元素啦！\n"
     ]
    }
   ],
   "source": [
    "g = (x*3 for x in range(10))\n",
    "while True:\n",
    "    try:\n",
    "        e = next(g)\n",
    "        print(e)\n",
    "    except:\n",
    "        print(\"没有更多的元素啦！\")\n",
    "        break"
   ]
  },
  {
   "cell_type": "code",
   "execution_count": 44,
   "metadata": {},
   "outputs": [
    {
     "name": "stdout",
     "output_type": "stream",
     "text": [
      "<function func at 0x1092fec80>\n",
      "<generator object func at 0x1093e4390>\n",
      "1\n",
      "2\n",
      "3\n",
      "4\n"
     ]
    }
   ],
   "source": [
    "#斐波那契数列：\n",
    "#一旦用了yield 函数就不是函数了而是生成器！\n",
    "'''\n",
    "1.定义一个函数，函数中使用field这个关键字\n",
    "2.调用函数，接收调用结果\n",
    "3.得到的结果就是生成器。\n",
    "\n",
    "简直就是可控的单步循环！\n",
    "'''\n",
    "def func():\n",
    "    n = 0 \n",
    "    while True:\n",
    "        n += 1\n",
    "        yield n#yield很类似于return但是还多了一个暂停功能：return + 暂停\n",
    "print(func)#怎么还是func？！\n",
    "g = func()#啊！出现了。\n",
    "print(g)\n",
    "print(next(g))\n",
    "print(next(g))\n",
    "print(next(g))\n",
    "print(next(g))"
   ]
  },
  {
   "cell_type": "code",
   "execution_count": 68,
   "metadata": {},
   "outputs": [
    {
     "name": "stdout",
     "output_type": "stream",
     "text": [
      "1\n",
      "1\n",
      "2\n",
      "3\n",
      "5\n",
      "8\n",
      "13\n",
      "21\n",
      "34\n",
      "55\n"
     ]
    },
    {
     "ename": "StopIteration",
     "evalue": "abc",
     "output_type": "error",
     "traceback": [
      "\u001b[0;31m---------------------------------------------------------------------------\u001b[0m",
      "\u001b[0;31mStopIteration\u001b[0m                             Traceback (most recent call last)",
      "\u001b[0;32m<ipython-input-68-a81997e36057>\u001b[0m in \u001b[0;36m<module>\u001b[0;34m\u001b[0m\n\u001b[1;32m     20\u001b[0m \u001b[0mprint\u001b[0m\u001b[0;34m(\u001b[0m\u001b[0mnext\u001b[0m\u001b[0;34m(\u001b[0m\u001b[0mg\u001b[0m\u001b[0;34m)\u001b[0m\u001b[0;34m)\u001b[0m\u001b[0;34m\u001b[0m\u001b[0;34m\u001b[0m\u001b[0m\n\u001b[1;32m     21\u001b[0m \u001b[0mprint\u001b[0m\u001b[0;34m(\u001b[0m\u001b[0mnext\u001b[0m\u001b[0;34m(\u001b[0m\u001b[0mg\u001b[0m\u001b[0;34m)\u001b[0m\u001b[0;34m)\u001b[0m\u001b[0;34m\u001b[0m\u001b[0;34m\u001b[0m\u001b[0m\n\u001b[0;32m---> 22\u001b[0;31m \u001b[0mprint\u001b[0m\u001b[0;34m(\u001b[0m\u001b[0mnext\u001b[0m\u001b[0;34m(\u001b[0m\u001b[0mg\u001b[0m\u001b[0;34m)\u001b[0m\u001b[0;34m)\u001b[0m\u001b[0;34m\u001b[0m\u001b[0;34m\u001b[0m\u001b[0m\n\u001b[0m",
      "\u001b[0;31mStopIteration\u001b[0m: abc"
     ]
    }
   ],
   "source": [
    "def fib(length):\n",
    "    a,b = 0, 1\n",
    "    n = 0\n",
    "    while n<length:\n",
    "        yield b\n",
    "        a,b = b,a+b\n",
    "        n += 1\n",
    "        #print(b)\n",
    "    return 'abc'#return 是以报错信息的形式扔出来的。\n",
    "g = fib(10)\n",
    "#这里单步执行是值得推敲琢磨的。\n",
    "print(next(g))\n",
    "print(next(g))\n",
    "print(next(g))\n",
    "print(next(g))\n",
    "print(next(g))\n",
    "print(next(g))\n",
    "print(next(g))\n",
    "print(next(g))\n",
    "print(next(g))\n",
    "print(next(g))\n",
    "print(next(g))"
   ]
  },
  {
   "cell_type": "code",
   "execution_count": 71,
   "metadata": {},
   "outputs": [
    {
     "name": "stdout",
     "output_type": "stream",
     "text": [
      "0\n",
      "temp: None\n",
      "1\n",
      "temp: None\n",
      "2\n"
     ]
    }
   ],
   "source": [
    "def gen():\n",
    "    i = 0\n",
    "    while i<5:\n",
    "        temp = yield i\n",
    "        print(\"temp:\",temp)\n",
    "        i += 1\n",
    "    return '没有更多数据了'\n",
    "g = gen()\n",
    "print(next(g))\n",
    "print(next(g))\n",
    "print(next(g))"
   ]
  },
  {
   "cell_type": "code",
   "execution_count": 74,
   "metadata": {},
   "outputs": [
    {
     "ename": "TypeError",
     "evalue": "can't send non-None value to a just-started generator",
     "output_type": "error",
     "traceback": [
      "\u001b[0;31m---------------------------------------------------------------------------\u001b[0m",
      "\u001b[0;31mTypeError\u001b[0m                                 Traceback (most recent call last)",
      "\u001b[0;32m<ipython-input-74-daa83598b421>\u001b[0m in \u001b[0;36m<module>\u001b[0;34m\u001b[0m\n\u001b[1;32m      7\u001b[0m     \u001b[0;32mreturn\u001b[0m \u001b[0;34m'没有更多数据了'\u001b[0m\u001b[0;34m\u001b[0m\u001b[0;34m\u001b[0m\u001b[0m\n\u001b[1;32m      8\u001b[0m \u001b[0mg\u001b[0m \u001b[0;34m=\u001b[0m \u001b[0mgen\u001b[0m\u001b[0;34m(\u001b[0m\u001b[0;34m)\u001b[0m\u001b[0;34m\u001b[0m\u001b[0;34m\u001b[0m\u001b[0m\n\u001b[0;32m----> 9\u001b[0;31m \u001b[0mn1\u001b[0m \u001b[0;34m=\u001b[0m \u001b[0mg\u001b[0m\u001b[0;34m.\u001b[0m\u001b[0msend\u001b[0m\u001b[0;34m(\u001b[0m\u001b[0;34m'呵呵'\u001b[0m\u001b[0;34m)\u001b[0m\u001b[0;34m\u001b[0m\u001b[0;34m\u001b[0m\u001b[0m\n\u001b[0m\u001b[1;32m     10\u001b[0m \u001b[0mprint\u001b[0m\u001b[0;34m(\u001b[0m\u001b[0;34m'n1'\u001b[0m\u001b[0;34m,\u001b[0m\u001b[0mn1\u001b[0m\u001b[0;34m)\u001b[0m\u001b[0;34m\u001b[0m\u001b[0;34m\u001b[0m\u001b[0m\n\u001b[1;32m     11\u001b[0m \u001b[0mn2\u001b[0m \u001b[0;34m=\u001b[0m \u001b[0mg\u001b[0m\u001b[0;34m.\u001b[0m\u001b[0msend\u001b[0m\u001b[0;34m(\u001b[0m\u001b[0;34m'哈哈'\u001b[0m\u001b[0;34m)\u001b[0m\u001b[0;34m\u001b[0m\u001b[0;34m\u001b[0m\u001b[0m\n",
      "\u001b[0;31mTypeError\u001b[0m: can't send non-None value to a just-started generator"
     ]
    }
   ],
   "source": [
    "def gen():\n",
    "    i = 0\n",
    "    while i<5:\n",
    "        temp = yield i\n",
    "        print(\"temp:\",temp)\n",
    "        i += 1\n",
    "    return '没有更多数据了'\n",
    "g = gen()\n",
    "n1 = g.send('呵呵')\n",
    "print('n1',n1)\n",
    "n2 = g.send('哈哈')\n",
    "print('n2',n2)"
   ]
  },
  {
   "cell_type": "code",
   "execution_count": 76,
   "metadata": {},
   "outputs": [
    {
     "name": "stdout",
     "output_type": "stream",
     "text": [
      "0\n",
      "temp: 3\n",
      "-------\n",
      "-------\n",
      "-------\n",
      "n1 1\n",
      "temp: 4\n",
      "-------\n",
      "-------\n",
      "-------\n",
      "-------\n",
      "n2 2\n"
     ]
    }
   ],
   "source": [
    "'''\n",
    "生成器方法：\n",
    "    __next__():获取下一个元素\n",
    "    send(value):向每次生成器调用中传值用。第一次调用必须要先传一个空值。\n",
    "\n",
    "'''\n",
    "def gen():\n",
    "    i = 0\n",
    "    while i<5:\n",
    "        temp = yield i#每次我们其实可以送一个元素进去\n",
    "        print(\"temp:\",temp)\n",
    "        for j in range(temp):\n",
    "            print('-------')\n",
    "        i += 1\n",
    "    return '没有更多数据了'\n",
    "g = gen()\n",
    "print(g.send(None))\n",
    "n1 = g.send(3)\n",
    "print('n1',n1)\n",
    "n2 = g.send(4)\n",
    "print('n2',n2)"
   ]
  },
  {
   "cell_type": "code",
   "execution_count": null,
   "metadata": {},
   "outputs": [],
   "source": [
    "#看完了133"
   ]
  }
 ],
 "metadata": {
  "kernelspec": {
   "display_name": "Python 3",
   "language": "python",
   "name": "python3"
  },
  "language_info": {
   "codemirror_mode": {
    "name": "ipython",
    "version": 3
   },
   "file_extension": ".py",
   "mimetype": "text/x-python",
   "name": "python",
   "nbconvert_exporter": "python",
   "pygments_lexer": "ipython3",
   "version": "3.7.3"
  }
 },
 "nbformat": 4,
 "nbformat_minor": 2
}
