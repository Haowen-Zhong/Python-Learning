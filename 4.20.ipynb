{
 "cells": [
  {
   "cell_type": "markdown",
   "metadata": {},
   "source": [
    "# 今天主要是对字符串做一些处理:in; not in; find; captilize等等等等"
   ]
  },
  {
   "cell_type": "code",
   "execution_count": 15,
   "metadata": {},
   "outputs": [
    {
     "name": "stdout",
     "output_type": "stream",
     "text": [
      "01\n",
      "01\n",
      "0\n",
      "hello 0\n",
      "hello 1\n",
      "hello 2\n"
     ]
    }
   ],
   "source": [
    "'''\n",
    "range(stop) -> range object\n",
    "range(start, stop[, step]) -> range object\n",
    "\n",
    "Return an object that produces a sequence of integers from start (inclusive)\n",
    "to stop (exclusive) by step.  range(i, j) produces i, i+1, i+2, ..., j-1.\n",
    "start defaults to 0, and stop is omitted!  range(4) produces 0, 1, 2, 3.\n",
    "These are exactly the valid indices for a list of 4 elements.\n",
    "When step is given, it specifies the increment (or decrement).\n",
    "Type:           type\n",
    "Subclasses:     \n",
    "''' \n",
    "for i in range(2):#默认从0到n，不包含n\n",
    "    print(i,end=\"\")\n",
    "print(\"\")\n",
    "for i in range(0,2):\n",
    "    print(i,end=\"\")\n",
    "print(\"\")   \n",
    "for i in range(0,2,2):\n",
    "    print(i,end=\"\")\n",
    "print(\"\")\n",
    "for i in range(3):\n",
    "    print(\"hello\",i)#很清楚就是从0->1->2虽然也是打印出了3但是事实是0-2"
   ]
  },
  {
   "cell_type": "code",
   "execution_count": 24,
   "metadata": {},
   "outputs": [
    {
     "name": "stdout",
     "output_type": "stream",
     "text": [
      "浩文哥很饿,正在吃第1个馒头\n",
      "浩文哥很饿,正在吃第2个馒头\n",
      "浩文哥赶快扔掉这个馒头，有剧毒：'鹤顶红！'\n",
      "浩文哥很饿,正在吃第4个馒头\n",
      "浩文哥很饿,正在吃第5个馒头\n"
     ]
    }
   ],
   "source": [
    "name = \"浩文哥\"\n",
    "\n",
    "for i in range(5):\n",
    "    if i==2:\n",
    "        print(f\"{name}赶快扔掉这个馒头，有剧毒：'鹤顶红！'\")\n",
    "    else:\n",
    "        print(f\"{name}很饿,正在吃第{i+1}个馒头\")"
   ]
  },
  {
   "cell_type": "code",
   "execution_count": 25,
   "metadata": {},
   "outputs": [
    {
     "name": "stdout",
     "output_type": "stream",
     "text": [
      "10是大的\n",
      "——————————判断结束——————————\n"
     ]
    }
   ],
   "source": [
    "if 10>7:\n",
    "    print(\"10是大的\")\n",
    "else:\n",
    "    pass\n",
    "print(\"——————————判断结束——————————\")"
   ]
  },
  {
   "cell_type": "code",
   "execution_count": 2,
   "metadata": {},
   "outputs": [
    {
     "name": "stdout",
     "output_type": "stream",
     "text": [
      "请输入您的用户名傻逼\n",
      "请输入您的密码123\n",
      "傻逼，用户名和密码不匹配！\n",
      "请输入您的用户名傻逼\n",
      "请输入您的密码123\n",
      "傻逼，用户名和密码不匹配！\n",
      "请输入您的用户名admin\n",
      "请输入您的密码123456\n",
      "欢迎登陆\n"
     ]
    }
   ],
   "source": [
    "counts = 0\n",
    "name = \"admin\"\n",
    "password = \"123456\"\n",
    "while True:\n",
    "    if counts == 3:\n",
    "        print(\"傻逼你的账号被冻结了！\")\n",
    "        break\n",
    "    name_yours = input(\"请输入您的用户名\")\n",
    "    password_yours = input(\"请输入您的密码\")\n",
    "    if name_yours == name and password_yours == password:\n",
    "        print(\"欢迎登陆\")\n",
    "        break\n",
    "    else:\n",
    "        counts += 1\n",
    "        print(\"傻逼，用户名和密码不匹配！\")\n",
    "        continue\n",
    "        "
   ]
  },
  {
   "cell_type": "code",
   "execution_count": 7,
   "metadata": {},
   "outputs": [
    {
     "ename": "NameError",
     "evalue": "name 'what' is not defined",
     "output_type": "error",
     "traceback": [
      "\u001b[0;31m---------------------------------------------------------------------------\u001b[0m",
      "\u001b[0;31mNameError\u001b[0m                                 Traceback (most recent call last)",
      "\u001b[0;32m<ipython-input-7-a1283b3082b4>\u001b[0m in \u001b[0;36m<module>\u001b[0;34m\u001b[0m\n\u001b[0;32m----> 1\u001b[0;31m \u001b[0;32mwhile\u001b[0m \u001b[0mwhat\u001b[0m\u001b[0;34m<=\u001b[0m \u001b[0;36m10\u001b[0m\u001b[0;34m:\u001b[0m\u001b[0;34m\u001b[0m\u001b[0;34m\u001b[0m\u001b[0m\n\u001b[0m\u001b[1;32m      2\u001b[0m     \u001b[0mprint\u001b[0m\u001b[0;34m(\u001b[0m\u001b[0mwhat\u001b[0m\u001b[0;34m)\u001b[0m\u001b[0;34m\u001b[0m\u001b[0;34m\u001b[0m\u001b[0m\n",
      "\u001b[0;31mNameError\u001b[0m: name 'what' is not defined"
     ]
    }
   ],
   "source": [
    "# 可见对于while语句而言必须先声明变量才行。\n",
    "while what<= 10:\n",
    "    print(what)"
   ]
  },
  {
   "cell_type": "code",
   "execution_count": 12,
   "metadata": {},
   "outputs": [
    {
     "name": "stdout",
     "output_type": "stream",
     "text": [
      "0\n",
      "3\n",
      "6\n",
      "9\n",
      "12\n",
      "15\n",
      "18\n",
      "21\n",
      "24\n",
      "27\n",
      "\n",
      "0\n",
      "3\n",
      "6\n",
      "9\n",
      "12\n",
      "15\n",
      "18\n",
      "21\n",
      "24\n",
      "27\n",
      "30\n",
      "0\n"
     ]
    }
   ],
   "source": [
    "for i in range(0,30,3):\n",
    "    print(i)\n",
    "i = 0\n",
    "print(\"\")\n",
    "while i<=30:\n",
    "    if i%3 ==0:\n",
    "        print(i)\n",
    "    i += 1\n",
    "\n",
    "i = 0\n"
   ]
  },
  {
   "cell_type": "markdown",
   "metadata": {},
   "source": [
    "# 字符串运算符"
   ]
  },
  {
   "cell_type": "code",
   "execution_count": 17,
   "metadata": {},
   "outputs": [
    {
     "name": "stdout",
     "output_type": "stream",
     "text": [
      "4508575816 4508575816 4545635976 4508575816\n",
      "abc\n",
      "\n",
      "abc\n",
      "\n",
      "abc\n"
     ]
    }
   ],
   "source": [
    "s1 = \"abc\"\n",
    "s2 = 'abc'\n",
    "s3 = '''\n",
    "abc\n",
    "'''\n",
    "s4='''abc'''\n",
    "print(id(s1),id(s2),id(s3),id(s4))#单引号和双引号占的内存相同，但是三引号占用的内存空间与单双引号可能会不同。\n",
    "print(s2)\n",
    "print(s3)\n",
    "print(s4)"
   ]
  },
  {
   "cell_type": "code",
   "execution_count": 19,
   "metadata": {},
   "outputs": [
    {
     "name": "stdout",
     "output_type": "stream",
     "text": [
      "请输入：123\n",
      "请输入：123\n",
      "s1的地址是4545694160,s2的地址是4545694216\n",
      "True\n",
      "False\n"
     ]
    }
   ],
   "source": [
    "s1 = input(\"请输入：\")\n",
    "s2 = input(\"请输入：\")\n",
    "\n",
    "print(f\"s1的地址是{id(s1)},s2的地址是{id(s2)}\")\n",
    "print(s1 == s2)#== 比较的是内容\n",
    "print(s1 is s2)#is 比较的是地址    对于常量赋值就是True，如果是键盘输入则是底层做了处理所以是False。"
   ]
  },
  {
   "cell_type": "code",
   "execution_count": 23,
   "metadata": {},
   "outputs": [
    {
     "name": "stdout",
     "output_type": "stream",
     "text": [
      "True\n",
      "True\n",
      "False\n",
      "True\n"
     ]
    }
   ],
   "source": [
    "name = 'steven'\n",
    "result = 't' in name\n",
    "print(result)\n",
    "name = 'steven'\n",
    "result = 'st' in name\n",
    "print(result)\n",
    "name = 'steven'\n",
    "result = 'tv' in name\n",
    "print(result)\n",
    "result = 't' in name and 'v' in name\n",
    "print(result)"
   ]
  },
  {
   "cell_type": "code",
   "execution_count": 26,
   "metadata": {},
   "outputs": [
    {
     "name": "stdout",
     "output_type": "stream",
     "text": [
      "True\n"
     ]
    }
   ],
   "source": [
    "name = 'joe'\n",
    "result = 'q' not in name\n",
    "print(result)"
   ]
  },
  {
   "cell_type": "code",
   "execution_count": 27,
   "metadata": {},
   "outputs": [
    {
     "data": {
      "text/plain": [
       "['picture', 'png']"
      ]
     },
     "execution_count": 27,
     "metadata": {},
     "output_type": "execute_result"
    }
   ],
   "source": [
    "filename = 'picture.png'\n",
    "filename.split(\".\")\n",
    "#我开挂了，不好意思"
   ]
  },
  {
   "cell_type": "code",
   "execution_count": 43,
   "metadata": {},
   "outputs": [
    {
     "name": "stdout",
     "output_type": "stream",
     "text": [
      "picture png\n",
      "gnp.erutcip\n",
      "gnp.erutcip\n",
      "np.erutcip\n",
      "\n"
     ]
    }
   ],
   "source": [
    "name1 = filename[:7]#包前不包后\n",
    "name2 = filename[8:]\n",
    "print(name1,name2)\n",
    "#[a:b:c]a表示开始的index，b表示结束的index，c表示步长\n",
    "#这个之前见过没有注意\n",
    "print(filename[len(filename)::-1])\n",
    "print(filename[-1::-1])\n",
    "print(filename[-2::-1])\n",
    "print(filename[0:5:-1])#这个就不行了，虽然它不报错"
   ]
  },
  {
   "cell_type": "code",
   "execution_count": 48,
   "metadata": {},
   "outputs": [
    {
     "name": "stdout",
     "output_type": "stream",
     "text": [
      "pten\n",
      "gpeucp\n"
     ]
    }
   ],
   "source": [
    "print(filename[::3])\n",
    "print(filename[::-2])"
   ]
  },
  {
   "cell_type": "code",
   "execution_count": 50,
   "metadata": {},
   "outputs": [
    {
     "name": "stdout",
     "output_type": "stream",
     "text": [
      "hello\n",
      "dlrow\n",
      "dlrowolleh\n"
     ]
    }
   ],
   "source": [
    "str = \"hello world\"\n",
    "str1,str2 = str.split(\" \")\n",
    "print(str1[:])\n",
    "print(str2[::-1])\n",
    "print(str2[::-1]+str1[::-1])"
   ]
  },
  {
   "cell_type": "code",
   "execution_count": 59,
   "metadata": {},
   "outputs": [
    {
     "name": "stdout",
     "output_type": "stream",
     "text": [
      "Hello world\n",
      "Hello World\n",
      "HELLO WORLD\n",
      "hello world\n",
      "False\n",
      "True\n"
     ]
    }
   ],
   "source": [
    "#字符串的内置函数。其实从调用函数的方式来看，字符串显然是一个类的对象！不然怎么能.xxx()呢？对吧！一切都是对象！\n",
    "a = \"hello world\"\n",
    "b= \"Hello World\"\n",
    "print(a.capitalize())#首字母大写,其他全小写\n",
    "print(a.title())#所有单词的首字母大写\n",
    "print(a.istitle())#判断是否title\n",
    "print(b.istitle())\n",
    "print(a.upper())#全大写\n",
    "print(a.lower())#全小写"
   ]
  },
  {
   "cell_type": "code",
   "execution_count": 70,
   "metadata": {},
   "outputs": [
    {
     "name": "stdout",
     "output_type": "stream",
     "text": [
      "sWgd\n",
      "验证码为sWgd：请输入验证码sWGd\n",
      "你真棒\n"
     ]
    }
   ],
   "source": [
    "#产生随机验证码：\n",
    "import random\n",
    "s='QWERTYUIOPASDFGHJKLZXCVBMqwertyuiopasdfghjklzxcvbnm1234567890'\n",
    "code = ''\n",
    "length = len(s)\n",
    "for i in range(4):\n",
    "    index = random.randint(0,length-1)#一定要注意index是从0->len(s)-1\n",
    "    code += s[index]\n",
    "print(code)\n",
    "user = input(f\"验证码为{code}：请输入验证码\")\n",
    "if user.lower() == code.lower():\n",
    "    print(\"你真棒\")"
   ]
  },
  {
   "cell_type": "markdown",
   "metadata": {},
   "source": [
    "# 查找相关的，替换\n",
    "\n",
    "# find()   rfind()  lfind()   index()   rindex()   lindex()   replace()"
   ]
  },
  {
   "cell_type": "code",
   "execution_count": 24,
   "metadata": {},
   "outputs": [
    {
     "name": "stdout",
     "output_type": "stream",
     "text": [
      "False\n",
      "6\n",
      "11\n",
      "-1\n",
      "21\n"
     ]
    }
   ],
   "source": [
    "s1 = 'index lucy lucky goods'\n",
    "result = 'R' in s1\n",
    "print(result)\n",
    "#find可以找到位置\n",
    "position = s1.find(\"l\")#它很笨，值返回第一个l\n",
    "print(position)\n",
    "position2 = s1.find(\"l\",position+1,-1)#这里直接传值就可以不需要写keyword\n",
    "print(position2)\n",
    "position = s1.find(\"R\")\n",
    "print(position)#返回-1表示没有找到\n",
    "print(s1.find(\"s\"))#你看，它输出的是最乎一个但是不是-1而是21"
   ]
  },
  {
   "cell_type": "code",
   "execution_count": 33,
   "metadata": {},
   "outputs": [
    {
     "name": "stdout",
     "output_type": "stream",
     "text": [
      "42\n",
      "4.20.ipynb\n"
     ]
    }
   ],
   "source": [
    "url = \"http://localhost:8888/notebooks/Python学习记录/4.20.ipynb\"\n",
    "list=url.split(\"/\")\n",
    "list\n",
    "p = url.rfind('/')#rightfind 从右侧开始检索，不过返回的index仍然是正常顺序\n",
    "print(p)\n",
    "filename = url[p+1:]\n",
    "print(filename)"
   ]
  },
  {
   "cell_type": "code",
   "execution_count": 34,
   "metadata": {},
   "outputs": [
    {
     "name": "stdout",
     "output_type": "stream",
     "text": [
      "-1\n"
     ]
    },
    {
     "ename": "ValueError",
     "evalue": "substring not found",
     "output_type": "error",
     "traceback": [
      "\u001b[0;31m---------------------------------------------------------------------------\u001b[0m",
      "\u001b[0;31mValueError\u001b[0m                                Traceback (most recent call last)",
      "\u001b[0;32m<ipython-input-34-e67e9533f75e>\u001b[0m in \u001b[0;36m<module>\u001b[0;34m\u001b[0m\n\u001b[1;32m      1\u001b[0m \u001b[0;31m#index和find的唯一区别在于如果找不到就报错\u001b[0m\u001b[0;34m\u001b[0m\u001b[0;34m\u001b[0m\u001b[0;34m\u001b[0m\u001b[0m\n\u001b[1;32m      2\u001b[0m \u001b[0mprint\u001b[0m\u001b[0;34m(\u001b[0m\u001b[0;34m\"hello\"\u001b[0m\u001b[0;34m.\u001b[0m\u001b[0mfind\u001b[0m\u001b[0;34m(\u001b[0m\u001b[0;34m\"g\"\u001b[0m\u001b[0;34m)\u001b[0m\u001b[0;34m)\u001b[0m\u001b[0;34m\u001b[0m\u001b[0;34m\u001b[0m\u001b[0m\n\u001b[0;32m----> 3\u001b[0;31m \u001b[0mprint\u001b[0m\u001b[0;34m(\u001b[0m\u001b[0;34m\"hello\"\u001b[0m\u001b[0;34m.\u001b[0m\u001b[0mindex\u001b[0m\u001b[0;34m(\u001b[0m\u001b[0;34m\"g\"\u001b[0m\u001b[0;34m)\u001b[0m\u001b[0;34m)\u001b[0m\u001b[0;34m\u001b[0m\u001b[0;34m\u001b[0m\u001b[0m\n\u001b[0m",
      "\u001b[0;31mValueError\u001b[0m: substring not found"
     ]
    }
   ],
   "source": [
    "#index和find的唯一区别在于如果找不到就报错\n",
    "print(\"hello\".find(\"g\"))\n",
    "print(\"hello\".index(\"g\"))"
   ]
  },
  {
   "cell_type": "markdown",
   "metadata": {},
   "source": [
    "# replace(替换)"
   ]
  },
  {
   "cell_type": "code",
   "execution_count": 47,
   "metadata": {},
   "outputs": [
    {
     "name": "stdout",
     "output_type": "stream",
     "text": [
      "index#lucy#lucky#goods\n",
      "indexlucyluckygoods\n",
      "indexlucyluckygoods\n"
     ]
    }
   ],
   "source": [
    "str = \"abcbbbaseaewewe\"\n",
    "str.replace(\"b\",\"d\",2)#将出现过的全部替换！old,new,max（最多替换几个）\n",
    "s1 = \"index lucy lucky goods\"\n",
    "s2 = s1.replace(\" \",\"#\")\n",
    "print(s2)\n",
    "\n",
    "s2 = s1.replace(\" \",\"\")\n",
    "print(s2)\n",
    "\n",
    "s2=s1.replace(\" \",\"\")\n",
    "print(s2)"
   ]
  },
  {
   "cell_type": "markdown",
   "metadata": {},
   "source": [
    "# encode   decode\n",
    "# encode(encoding='UTF-8')\n",
    "# gbk 中文 gb2312简体中文  unicode utf-8是unicode的升级版\n",
    "# 编码： 网络应用  （中文一般会涉及编码问题）"
   ]
  },
  {
   "cell_type": "code",
   "execution_count": 58,
   "metadata": {},
   "outputs": [
    {
     "name": "stdout",
     "output_type": "stream",
     "text": [
      "b'\\xe4\\xb8\\x8a\\xe8\\xaf\\xbe\\xe5\\x95\\xa6\\xef\\xbc\\x81\\xe8\\xae\\xa4\\xe7\\x9c\\x9f\\xe5\\x90\\xac\\xe8\\xaf\\xbe\\xef\\xbc\\x81\\xef\\xbc\\x81'\n",
      "上课啦！认真听课！！\n"
     ]
    }
   ],
   "source": [
    "\n",
    "msg = \"上课啦！认真听课！！\"#中文的\n",
    "result = msg.encode('utf-8')\n",
    "print(result)\n",
    "back = result.decode('utf-8')\n",
    "print(back)"
   ]
  },
  {
   "cell_type": "markdown",
   "metadata": {},
   "source": [
    "# 字符串内建函数：startswith() endswith() bool型 判断是否是以。。。\n",
    "# 可用于文件上传功能，比如判断jpg，png,bmp"
   ]
  },
  {
   "cell_type": "code",
   "execution_count": 62,
   "metadata": {},
   "outputs": [
    {
     "name": "stdout",
     "output_type": "stream",
     "text": [
      "True\n",
      "不错不错，可以啦～\n",
      "False\n"
     ]
    }
   ],
   "source": [
    "\n",
    "a = \"wow\"\n",
    "file1 = \"crap.png\"\n",
    "result1 = a.startswith(\"w\")\n",
    "print(result1)\n",
    "result2 = file1.endswith(\".png\")\n",
    "if result2 == True:\n",
    "    print(\"不错不错，可以啦～\")\n",
    "s = \"Hello\"\n",
    "result3 = s.startswith(\"h\")\n",
    "print(result3)"
   ]
  },
  {
   "cell_type": "code",
   "execution_count": 5,
   "metadata": {},
   "outputs": [
    {
     "name": "stdout",
     "output_type": "stream",
     "text": [
      "请选择文件：http://localhost:8888/notebooks/Python学习记录/4.20.ipynb\n",
      "4.20.ipynb\n",
      "小伙子不错哦！\n"
     ]
    }
   ],
   "source": [
    "#完成文件上传的功能：\n",
    "file = input(\"请选择文件：\")\n",
    "\n",
    "path= file.rfind(\"/\")\n",
    "filename = file[path+1:]\n",
    "print(filename)\n",
    "if filename.endswith(\".ipynb\")==True:\n",
    "    print(\"小伙子不错哦！今天也学Python啦！\")"
   ]
  },
  {
   "cell_type": "code",
   "execution_count": 6,
   "metadata": {},
   "outputs": [
    {
     "name": "stdout",
     "output_type": "stream",
     "text": [
      "请选择文件：file = input(\"请选择文件：\")  path= file.rfind(\"/\") filename = file[path+1:] print(filename) if filename.endswith(\".ipynb\")==True:     print(\"小伙子不错哦！今天也学Python啦！\")\n",
      "\") filename = file[path+1:] print(filename) if filename.endswith(\".ipynb\")==True:     print(\"小伙子不错哦！今天也学Python啦！\")\n",
      "傻逼，重新传！\n",
      "请选择文件：file = input(\"请选择文件：\")  path= file.rfind(\"/\") filename = file[path+1:] print(filename) if filename.endswith(\".ipynb\")==True:     print(\"小伙子不错哦！今天也学Python啦！\")\n",
      "\") filename = file[path+1:] print(filename) if filename.endswith(\".ipynb\")==True:     print(\"小伙子不错哦！今天也学Python啦！\")\n",
      "傻逼，重新传！\n",
      "请选择文件：http://localhost:8888/notebooks/Python学习记录/4.20.ipynb\n",
      "4.20.ipynb\n",
      "小伙子不错哦！今天也学Python啦！\n"
     ]
    }
   ],
   "source": [
    "#这里如果是windows路径的话是用的\\\\而不是mac的/ 因此会碰到转义的问题\n",
    "#因此如果我们要使用.endswith('\\')是不行的，需要.endswith('\\\\')\n",
    "while True:\n",
    "    file = input(\"请选择文件：\")\n",
    "\n",
    "    path= file.rfind(\"/\")\n",
    "    filename = file[path+1:]\n",
    "    if filename.endswith(\".ipynb\")==True:\n",
    "        print(\"小伙子不错哦！今天也学Python啦！\")\n",
    "        break\n",
    "    else:\n",
    "        print(\"傻逼，重新传！\")\n",
    "    "
   ]
  },
  {
   "cell_type": "markdown",
   "metadata": {},
   "source": [
    "# isalpha()是否完全是字母和中文       isdigit()"
   ]
  },
  {
   "cell_type": "code",
   "execution_count": 14,
   "metadata": {},
   "outputs": [
    {
     "name": "stdout",
     "output_type": "stream",
     "text": [
      "True False\n",
      "0\n",
      "请输入数字l\n",
      "重新给我输，你输的不是数字！\n",
      "1\n",
      "请输入数字l\n",
      "重新给我输，你输的不是数字！\n",
      "2\n",
      "请输入数字l\n",
      "重新给我输，你输的不是数字！\n",
      "sum=0\n"
     ]
    }
   ],
   "source": [
    "\n",
    "\n",
    "s = 'abcd6'\n",
    "s2 = \"我试试中文x\"\n",
    "result1 = s.isalpha()\n",
    "result2 = s.isdigit()\n",
    "result3 = s2.isalpha()\n",
    "print(result3,result2)\n",
    "sum = 0\n",
    "for i in range(3):\n",
    "    print(i)\n",
    "    num = input(\"请输入数字\")\n",
    "    if num.isdigit():\n",
    "        num = int(num)\n",
    "        sum += num\n",
    "    else:\n",
    "        print(\"重新给我输，你输的不是数字！\")\n",
    "        i -= 1#哈哈哈哈 for循环的变量是没办法修改的！转战while循环\n",
    "print(f\"sum={sum}\")"
   ]
  },
  {
   "cell_type": "code",
   "execution_count": 22,
   "metadata": {},
   "outputs": [
    {
     "name": "stdout",
     "output_type": "stream",
     "text": [
      "请输入数字l\n",
      "重新给我输，你输的不是数字！\n",
      "请输入数字l\n",
      "重新给我输，你输的不是数字！\n",
      "请输入数字l\n",
      "重新给我输，你输的不是数字！\n",
      "请输入数字l\n",
      "重新给我输，你输的不是数字！\n",
      "请输入数字1\n",
      "第1个数字累加成功\n",
      "请输入数字2\n",
      "第2个数字累加成功\n",
      "请输入数字3\n",
      "第3个数字累加成功\n",
      "sum=6\n"
     ]
    }
   ],
   "source": [
    "i=1\n",
    "sum = 0\n",
    "while i <=3:\n",
    "    num = input(\"请输入数字\")\n",
    "    if num.isdigit():\n",
    "        print(f\"第{i}个数字累加成功\")\n",
    "        num = int(num)\n",
    "        sum += num\n",
    "    else:\n",
    "        print(\"重新给我输，你输的不是数字！\")\n",
    "        i -= 1#哈哈哈哈 for循环的变量是没办法修改的！转战while循环\n",
    "    i += 1\n",
    "print(f\"sum={sum}\")"
   ]
  },
  {
   "cell_type": "markdown",
   "metadata": {},
   "source": [
    "# join() 这个函数很重要！"
   ]
  },
  {
   "cell_type": "code",
   "execution_count": 29,
   "metadata": {},
   "outputs": [
    {
     "name": "stdout",
     "output_type": "stream",
     "text": [
      "a_b_c\n",
      "a_b_c\n",
      "abc\n",
      "['a', 'b', 'c']\n"
     ]
    }
   ],
   "source": [
    "new = '_'.join(\"abc\")#把字符串用'_'链接起来，这是什么傻逼功能？！\n",
    "print(new)\n",
    "#这么看来这个函数就有意义多了   用join()将list里面的元素用指定元素连接，这忒好用了！实测发现dict和tuple都没这个函数\n",
    "l1 = ['a','b','c']\n",
    "l2 = '_'.join(l1)\n",
    "print(l2)\n",
    "print(l2.replace('_',''))\n",
    "l3 = l2.split('_')\n",
    "print(l3)"
   ]
  },
  {
   "cell_type": "markdown",
   "metadata": {},
   "source": [
    "# strip()截掉空格！lstrip，rstrip 这个也非常好用！\n",
    "strip() = .lstrip().rstrip()"
   ]
  },
  {
   "cell_type": "code",
   "execution_count": 37,
   "metadata": {},
   "outputs": [
    {
     "name": "stdout",
     "output_type": "stream",
     "text": [
      "wow！浩文哥加油！你很棒。8\n",
      "wow！浩文哥加油！你很棒。    8\n",
      "     wow！浩文哥加油！你很棒。8\n"
     ]
    }
   ],
   "source": [
    "s = '     wow！浩文哥加油！你很棒。    '\n",
    "s1 = s.strip()\n",
    "s2 = s.lstrip()\n",
    "s3 = s.rstrip()\n",
    "print(s1+'8')\n",
    "print(s2+'8')\n",
    "print(s3+'8')"
   ]
  },
  {
   "cell_type": "markdown",
   "metadata": {},
   "source": [
    "# split 非常好用！！！"
   ]
  },
  {
   "cell_type": "code",
   "execution_count": 43,
   "metadata": {},
   "outputs": [
    {
     "name": "stdout",
     "output_type": "stream",
     "text": [
      "['hello', 'world', 'hello', 'kitty']\n",
      "['hello', 'world', 'hello kitty']\n"
     ]
    }
   ],
   "source": [
    "s = \"hello world hello kitty\"\n",
    "word = s.split(' ')\n",
    "print(word)\n",
    "word = s.split(' ',2)#只切两刀\n",
    "print(word)"
   ]
  },
  {
   "cell_type": "markdown",
   "metadata": {},
   "source": [
    "# count()"
   ]
  },
  {
   "cell_type": "code",
   "execution_count": 42,
   "metadata": {},
   "outputs": [
    {
     "name": "stdout",
     "output_type": "stream",
     "text": [
      "3\n"
     ]
    }
   ],
   "source": [
    "s = \"hello world hello kitty\"\n",
    "n = s.count(\" \")\n",
    "print(n)"
   ]
  },
  {
   "cell_type": "code",
   "execution_count": null,
   "metadata": {},
   "outputs": [],
   "source": []
  }
 ],
 "metadata": {
  "kernelspec": {
   "display_name": "Python 3",
   "language": "python",
   "name": "python3"
  },
  "language_info": {
   "codemirror_mode": {
    "name": "ipython",
    "version": 3
   },
   "file_extension": ".py",
   "mimetype": "text/x-python",
   "name": "python",
   "nbconvert_exporter": "python",
   "pygments_lexer": "ipython3",
   "version": "3.7.3"
  }
 },
 "nbformat": 4,
 "nbformat_minor": 2
}
