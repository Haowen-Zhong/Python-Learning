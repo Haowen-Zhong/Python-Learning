{
 "cells": [
  {
   "cell_type": "code",
   "execution_count": 15,
   "metadata": {},
   "outputs": [
    {
     "name": "stdout",
     "output_type": "stream",
     "text": [
      "01\n",
      "01\n",
      "0\n",
      "hello 0\n",
      "hello 1\n",
      "hello 2\n"
     ]
    }
   ],
   "source": [
    "'''\n",
    "range(stop) -> range object\n",
    "range(start, stop[, step]) -> range object\n",
    "\n",
    "Return an object that produces a sequence of integers from start (inclusive)\n",
    "to stop (exclusive) by step.  range(i, j) produces i, i+1, i+2, ..., j-1.\n",
    "start defaults to 0, and stop is omitted!  range(4) produces 0, 1, 2, 3.\n",
    "These are exactly the valid indices for a list of 4 elements.\n",
    "When step is given, it specifies the increment (or decrement).\n",
    "Type:           type\n",
    "Subclasses:     \n",
    "''' \n",
    "for i in range(2):#默认从0到n，不包含n\n",
    "    print(i,end=\"\")\n",
    "print(\"\")\n",
    "for i in range(0,2):\n",
    "    print(i,end=\"\")\n",
    "print(\"\")   \n",
    "for i in range(0,2,2):\n",
    "    print(i,end=\"\")\n",
    "print(\"\")\n",
    "for i in range(3):\n",
    "    print(\"hello\",i)#很清楚就是从0->1->2虽然也是打印出了3但是事实是0-2"
   ]
  },
  {
   "cell_type": "code",
   "execution_count": 24,
   "metadata": {},
   "outputs": [
    {
     "name": "stdout",
     "output_type": "stream",
     "text": [
      "浩文哥很饿,正在吃第1个馒头\n",
      "浩文哥很饿,正在吃第2个馒头\n",
      "浩文哥赶快扔掉这个馒头，有剧毒：'鹤顶红！'\n",
      "浩文哥很饿,正在吃第4个馒头\n",
      "浩文哥很饿,正在吃第5个馒头\n"
     ]
    }
   ],
   "source": [
    "name = \"浩文哥\"\n",
    "\n",
    "for i in range(5):\n",
    "    if i==2:\n",
    "        print(f\"{name}赶快扔掉这个馒头，有剧毒：'鹤顶红！'\")\n",
    "    else:\n",
    "        print(f\"{name}很饿,正在吃第{i+1}个馒头\")"
   ]
  },
  {
   "cell_type": "code",
   "execution_count": 25,
   "metadata": {},
   "outputs": [
    {
     "name": "stdout",
     "output_type": "stream",
     "text": [
      "10是大的\n",
      "——————————判断结束——————————\n"
     ]
    }
   ],
   "source": [
    "if 10>7:\n",
    "    print(\"10是大的\")\n",
    "else:\n",
    "    pass\n",
    "print(\"——————————判断结束——————————\")"
   ]
  },
  {
   "cell_type": "code",
   "execution_count": 2,
   "metadata": {},
   "outputs": [
    {
     "name": "stdout",
     "output_type": "stream",
     "text": [
      "请输入您的用户名傻逼\n",
      "请输入您的密码123\n",
      "傻逼，用户名和密码不匹配！\n",
      "请输入您的用户名傻逼\n",
      "请输入您的密码123\n",
      "傻逼，用户名和密码不匹配！\n",
      "请输入您的用户名admin\n",
      "请输入您的密码123456\n",
      "欢迎登陆\n"
     ]
    }
   ],
   "source": [
    "counts = 0\n",
    "name = \"admin\"\n",
    "password = \"123456\"\n",
    "while True:\n",
    "    if counts == 3:\n",
    "        print(\"傻逼你的账号被冻结了！\")\n",
    "        break\n",
    "    name_yours = input(\"请输入您的用户名\")\n",
    "    password_yours = input(\"请输入您的密码\")\n",
    "    if name_yours == name and password_yours == password:\n",
    "        print(\"欢迎登陆\")\n",
    "        break\n",
    "    else:\n",
    "        counts += 1\n",
    "        print(\"傻逼，用户名和密码不匹配！\")\n",
    "        continue\n",
    "        "
   ]
  },
  {
   "cell_type": "code",
   "execution_count": 7,
   "metadata": {},
   "outputs": [
    {
     "ename": "NameError",
     "evalue": "name 'what' is not defined",
     "output_type": "error",
     "traceback": [
      "\u001b[0;31m---------------------------------------------------------------------------\u001b[0m",
      "\u001b[0;31mNameError\u001b[0m                                 Traceback (most recent call last)",
      "\u001b[0;32m<ipython-input-7-a1283b3082b4>\u001b[0m in \u001b[0;36m<module>\u001b[0;34m\u001b[0m\n\u001b[0;32m----> 1\u001b[0;31m \u001b[0;32mwhile\u001b[0m \u001b[0mwhat\u001b[0m\u001b[0;34m<=\u001b[0m \u001b[0;36m10\u001b[0m\u001b[0;34m:\u001b[0m\u001b[0;34m\u001b[0m\u001b[0;34m\u001b[0m\u001b[0m\n\u001b[0m\u001b[1;32m      2\u001b[0m     \u001b[0mprint\u001b[0m\u001b[0;34m(\u001b[0m\u001b[0mwhat\u001b[0m\u001b[0;34m)\u001b[0m\u001b[0;34m\u001b[0m\u001b[0;34m\u001b[0m\u001b[0m\n",
      "\u001b[0;31mNameError\u001b[0m: name 'what' is not defined"
     ]
    }
   ],
   "source": [
    "# 可见对于while语句而言必须先声明变量才行。\n",
    "while what<= 10:\n",
    "    print(what)"
   ]
  },
  {
   "cell_type": "code",
   "execution_count": 12,
   "metadata": {},
   "outputs": [
    {
     "name": "stdout",
     "output_type": "stream",
     "text": [
      "0\n",
      "3\n",
      "6\n",
      "9\n",
      "12\n",
      "15\n",
      "18\n",
      "21\n",
      "24\n",
      "27\n",
      "\n",
      "0\n",
      "3\n",
      "6\n",
      "9\n",
      "12\n",
      "15\n",
      "18\n",
      "21\n",
      "24\n",
      "27\n",
      "30\n",
      "0\n"
     ]
    }
   ],
   "source": [
    "for i in range(0,30,3):\n",
    "    print(i)\n",
    "i = 0\n",
    "print(\"\")\n",
    "while i<=30:\n",
    "    if i%3 ==0:\n",
    "        print(i)\n",
    "    i += 1\n",
    "\n",
    "i = 0\n"
   ]
  },
  {
   "cell_type": "markdown",
   "metadata": {},
   "source": [
    "# 字符串运算符"
   ]
  },
  {
   "cell_type": "code",
   "execution_count": 17,
   "metadata": {},
   "outputs": [
    {
     "name": "stdout",
     "output_type": "stream",
     "text": [
      "4508575816 4508575816 4545635976 4508575816\n",
      "abc\n",
      "\n",
      "abc\n",
      "\n",
      "abc\n"
     ]
    }
   ],
   "source": [
    "s1 = \"abc\"\n",
    "s2 = 'abc'\n",
    "s3 = '''\n",
    "abc\n",
    "'''\n",
    "s4='''abc'''\n",
    "print(id(s1),id(s2),id(s3),id(s4))#单引号和双引号占的内存相同，但是三引号占用的内存空间与单双引号可能会不同。\n",
    "print(s2)\n",
    "print(s3)\n",
    "print(s4)"
   ]
  },
  {
   "cell_type": "code",
   "execution_count": 19,
   "metadata": {},
   "outputs": [
    {
     "name": "stdout",
     "output_type": "stream",
     "text": [
      "请输入：123\n",
      "请输入：123\n",
      "s1的地址是4545694160,s2的地址是4545694216\n",
      "True\n",
      "False\n"
     ]
    }
   ],
   "source": [
    "s1 = input(\"请输入：\")\n",
    "s2 = input(\"请输入：\")\n",
    "\n",
    "print(f\"s1的地址是{id(s1)},s2的地址是{id(s2)}\")\n",
    "print(s1 == s2)#== 比较的是内容\n",
    "print(s1 is s2)#is 比较的是地址    对于常量赋值就是True，如果是键盘输入则是底层做了处理所以是False。"
   ]
  },
  {
   "cell_type": "code",
   "execution_count": 23,
   "metadata": {},
   "outputs": [
    {
     "name": "stdout",
     "output_type": "stream",
     "text": [
      "True\n",
      "True\n",
      "False\n",
      "True\n"
     ]
    }
   ],
   "source": [
    "name = 'steven'\n",
    "result = 't' in name\n",
    "print(result)\n",
    "name = 'steven'\n",
    "result = 'st' in name\n",
    "print(result)\n",
    "name = 'steven'\n",
    "result = 'tv' in name\n",
    "print(result)\n",
    "result = 't' in name and 'v' in name\n",
    "print(result)"
   ]
  },
  {
   "cell_type": "code",
   "execution_count": 26,
   "metadata": {},
   "outputs": [
    {
     "name": "stdout",
     "output_type": "stream",
     "text": [
      "True\n"
     ]
    }
   ],
   "source": [
    "name = 'joe'\n",
    "result = 'q' not in name\n",
    "print(result)"
   ]
  },
  {
   "cell_type": "code",
   "execution_count": 27,
   "metadata": {},
   "outputs": [
    {
     "data": {
      "text/plain": [
       "['picture', 'png']"
      ]
     },
     "execution_count": 27,
     "metadata": {},
     "output_type": "execute_result"
    }
   ],
   "source": [
    "filename = 'picture.png'\n",
    "filename.split(\".\")\n",
    "#我开挂了，不好意思"
   ]
  },
  {
   "cell_type": "code",
   "execution_count": 43,
   "metadata": {},
   "outputs": [
    {
     "name": "stdout",
     "output_type": "stream",
     "text": [
      "picture png\n",
      "gnp.erutcip\n",
      "gnp.erutcip\n",
      "np.erutcip\n",
      "\n"
     ]
    }
   ],
   "source": [
    "name1 = filename[:7]#包前不包后\n",
    "name2 = filename[8:]\n",
    "print(name1,name2)\n",
    "#[a:b:c]a表示开始的index，b表示结束的index，c表示步长\n",
    "#这个之前见过没有注意\n",
    "print(filename[len(filename)::-1])\n",
    "print(filename[-1::-1])\n",
    "print(filename[-2::-1])\n",
    "print(filename[0:5:-1])#这个就不行了，虽然它不报错"
   ]
  },
  {
   "cell_type": "code",
   "execution_count": 48,
   "metadata": {},
   "outputs": [
    {
     "name": "stdout",
     "output_type": "stream",
     "text": [
      "pten\n",
      "gpeucp\n"
     ]
    }
   ],
   "source": [
    "print(filename[::3])\n",
    "print(filename[::-2])"
   ]
  },
  {
   "cell_type": "code",
   "execution_count": 50,
   "metadata": {},
   "outputs": [
    {
     "name": "stdout",
     "output_type": "stream",
     "text": [
      "hello\n",
      "dlrow\n",
      "dlrowolleh\n"
     ]
    }
   ],
   "source": [
    "str = \"hello world\"\n",
    "str1,str2 = str.split(\" \")\n",
    "print(str1[:])\n",
    "print(str2[::-1])\n",
    "print(str2[::-1]+str1[::-1])"
   ]
  },
  {
   "cell_type": "code",
   "execution_count": 59,
   "metadata": {},
   "outputs": [
    {
     "name": "stdout",
     "output_type": "stream",
     "text": [
      "Hello world\n",
      "Hello World\n",
      "HELLO WORLD\n",
      "hello world\n",
      "False\n",
      "True\n"
     ]
    }
   ],
   "source": [
    "#内置函数\n",
    "a = \"hello world\"\n",
    "b= \"Hello World\"\n",
    "print(a.capitalize())#首字母大写,其他全小写\n",
    "print(a.title())#所有单词的首字母大写\n",
    "print(a.istitle())#判断是否title\n",
    "print(b.istitle())\n",
    "print(a.upper())#全大写\n",
    "print(a.lower())#全小写"
   ]
  },
  {
   "cell_type": "code",
   "execution_count": 56,
   "metadata": {},
   "outputs": [],
   "source": [
    "a.title?"
   ]
  },
  {
   "cell_type": "code",
   "execution_count": 70,
   "metadata": {},
   "outputs": [
    {
     "name": "stdout",
     "output_type": "stream",
     "text": [
      "sWgd\n",
      "验证码为sWgd：请输入验证码sWGd\n",
      "你真棒\n"
     ]
    }
   ],
   "source": [
    "#产生随机验证码：\n",
    "import random\n",
    "s='QWERTYUIOPASDFGHJKLZXCVBMqwertyuiopasdfghjklzxcvbnm1234567890'\n",
    "code = ''\n",
    "length = len(s)\n",
    "for i in range(4):\n",
    "    index = random.randint(0,length-1)#一定要注意index是从0->len(s)-1\n",
    "    code += s[index]\n",
    "print(code)\n",
    "user = input(f\"验证码为{code}：请输入验证码\")\n",
    "if user.lower() == code.lower():\n",
    "    print(\"你真棒\")"
   ]
  },
  {
   "cell_type": "code",
   "execution_count": null,
   "metadata": {},
   "outputs": [],
   "source": []
  }
 ],
 "metadata": {
  "kernelspec": {
   "display_name": "Python 3",
   "language": "python",
   "name": "python3"
  },
  "language_info": {
   "codemirror_mode": {
    "name": "ipython",
    "version": 3
   },
   "file_extension": ".py",
   "mimetype": "text/x-python",
   "name": "python",
   "nbconvert_exporter": "python",
   "pygments_lexer": "ipython3",
   "version": "3.7.3"
  }
 },
 "nbformat": 4,
 "nbformat_minor": 2
}
