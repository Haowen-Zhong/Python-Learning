{
 "cells": [
  {
   "cell_type": "markdown",
   "metadata": {},
   "source": [
    "# 万丈高楼平地起 \n",
    "# 成功的公式 $$\\epsilon = \\int_0^t\\eta(t)dt\\int_{x_0}^{x_t}\\nabla\\cdot\\vec{k}(\\vec{\\ell(t)})d\\vec\\ell$$\n"
   ]
  },
  {
   "cell_type": "code",
   "execution_count": 3,
   "metadata": {},
   "outputs": [
    {
     "name": "stdout",
     "output_type": "stream",
     "text": [
      "2 ([23, 3, 4],)\n",
      "2 (3, [23, 3, 4])\n",
      "2 ([23, 3, 4], 4)\n"
     ]
    }
   ],
   "source": [
    "#回忆一下，*args代表参数数量不定\n",
    "def func(a,*args):\n",
    "    print(a,args)\n",
    "func(2,[23,3,4])#随便啥都可以作为tuple的一个元素装包到元组里\n",
    "func(2,3,[23,3,4])#随便啥都可以作为tuple的一个元素装包到元组里\n",
    "func(2,[23,3,4],4)#随便啥都可以作为tuple的一个元素装包到元组里"
   ]
  },
  {
   "cell_type": "code",
   "execution_count": 15,
   "metadata": {},
   "outputs": [
    {
     "name": "stdout",
     "output_type": "stream",
     "text": [
      "1 10 3 {}\n",
      "2 10 3 {}\n",
      "3 10 5 {'d': 1, 'g': 2}\n",
      "3 7 5 {'x': 1, 'y': 2}\n",
      "3 10 5 {'caixukun': 21, 'wangyuan': 20}\n"
     ]
    }
   ],
   "source": [
    "#**kwargs表示要以键值对的方式传值\n",
    "def func(a,b=10,c=3,**kwargs):\n",
    "    print(a,b,c,kwargs)\n",
    "func(1)\n",
    "func(2,b=10)\n",
    "func(3,10,5,**{\"d\":1,\"g\":2})#这里d和g不能叫a，b，c否则就重复冲突了\n",
    "func(3,c=5,b=7,x=1,y=2)\n",
    "students = {\"caixukun\":21,\"wangyuan\":20}\n",
    "func(3,10,5,**students)"
   ]
  },
  {
   "cell_type": "code",
   "execution_count": 21,
   "metadata": {},
   "outputs": [
    {
     "name": "stdout",
     "output_type": "stream",
     "text": [
      "1 (1,) {'c': 9, 'b': 6}\n",
      "1 (1, 6) {'c': 9, 'b': 6}\n",
      "1 () {'c': 9, 'b': 6}\n",
      "1 (1, 2, 3, 4) {}\n",
      "1 (1, 2, 3, 4) {}\n"
     ]
    }
   ],
   "source": [
    "#这个例子就展示得非常清晰\n",
    "def func(a, *args, **kwargs):\n",
    "    print(a,args,kwargs)\n",
    "func(1,1,c=9,b=6)\n",
    "func(1,1,6,c=9,b=6)\n",
    "func(1,c=9,b=6)\n",
    "t = (1,2,3,4)\n",
    "l = [1,2,3,4]\n",
    "func(1,*t)\n",
    "func(1,*l)#这个要好好利用\n",
    "#字典可以拆，列表也可以拆"
   ]
  },
  {
   "cell_type": "code",
   "execution_count": 23,
   "metadata": {},
   "outputs": [
    {
     "name": "stdout",
     "output_type": "stream",
     "text": [
      "坤坤学过了Html\n",
      "坤坤学过了Python\n",
      "坤坤学过了Fortran\n",
      "坤坤学过了C++\n",
      "坤坤学过了['Html', 'Python', 'Fortran', 'C++']\n"
     ]
    }
   ],
   "source": [
    "def func1(name,*args):\n",
    "    if len(args)>0:\n",
    "        for i in args:\n",
    "            print(f\"{name}学过了{i}\")\n",
    "    else:\n",
    "        print(\"没有学过任何编程知识\")\n",
    "courses = ['Html','Python','Fortran',\"C++\"]\n",
    "#看到了吧，这样就发挥了*的威力\n",
    "func1('坤坤',*courses)\n",
    "func1('坤坤',courses)\n"
   ]
  },
  {
   "cell_type": "code",
   "execution_count": 25,
   "metadata": {},
   "outputs": [],
   "source": [
    "#这就是所有的定义方式了\n",
    "def func():\n",
    "    pass\n",
    "def func(x):\n",
    "    pass\n",
    "def func(x,*args):\n",
    "    pass\n",
    "def func(x,*args,**kwargs):\n",
    "    pass"
   ]
  },
  {
   "cell_type": "code",
   "execution_count": 29,
   "metadata": {},
   "outputs": [
    {
     "name": "stdout",
     "output_type": "stream",
     "text": [
      "(21, 'wow', '不错哦')\n",
      "21\n",
      "wow\n",
      "不错哦\n"
     ]
    }
   ],
   "source": [
    "#返回值\n",
    "def add(*args):\n",
    "    return sum(args),\"wow\",\"不错哦\"\n",
    "x = add(1,2,3,4,5,6)\n",
    "print(x)\n",
    "x,y,z = add(1,2,3,4,5,6)\n",
    "print(x)\n",
    "print(y)\n",
    "print(z)"
   ]
  },
  {
   "cell_type": "code",
   "execution_count": 30,
   "metadata": {},
   "outputs": [
    {
     "name": "stdout",
     "output_type": "stream",
     "text": [
      "Â\n",
      "B\n"
     ]
    }
   ],
   "source": [
    "def a():\n",
    "    print(\"Â\")\n",
    "def b():\n",
    "    a()\n",
    "    print(\"B\")\n",
    "b()"
   ]
  },
  {
   "cell_type": "code",
   "execution_count": 42,
   "metadata": {},
   "outputs": [
    {
     "name": "stdout",
     "output_type": "stream",
     "text": [
      "月月\n",
      "abcdX\n",
      "月月\n",
      "小月月弹吉他的小美女\n",
      "月月浩文哥牛逼！\n",
      "月月浩文哥牛逼！\n"
     ]
    }
   ],
   "source": [
    "#全局变量和局部变量\n",
    "#声明在函数外面的就是全局变量，声明在函数内部的就是局部变量\n",
    "def func():\n",
    "    s = \"abcd\"#这是局部变量\n",
    "    s += \"X\"\n",
    "    \n",
    "    print(s)\n",
    "def func1():\n",
    "    print(name)#这里面是不可以修改全局变量的！不允许破坏公物！函数内部的可以随便修改赋值，但是全局的不可以！！！\n",
    "def func2():\n",
    "    name = '小月月'#局部变量和全局变量同名在函数里使用优先使用局部变量\n",
    "    name += \"弹吉他的小美女\"\n",
    "    print(name)\n",
    "def func3():\n",
    "    global name#不修改全局变量，只是获取打印不需要声明，但是如果希望修改！就需要在函数内部声明一下！\n",
    "    name += \"浩文哥牛逼！\"\n",
    "    print(name)\n",
    "name = '月月'#全局变量\n",
    "print(name)\n",
    "func()\n",
    "func1()\n",
    "func2()\n",
    "func3()\n",
    "print(name)"
   ]
  },
  {
   "cell_type": "code",
   "execution_count": 44,
   "metadata": {},
   "outputs": [
    {
     "name": "stdout",
     "output_type": "stream",
     "text": [
      "[1, 2, 3, 4, 5]\n",
      "蕊蕊\n",
      "[1, 2, 3, 4, 5]\n",
      "月月\n",
      "[1, 2, 3, 4, 5, 8]\n"
     ]
    }
   ],
   "source": [
    "#**因为str()是不可变的，而list是可变的。所以前者需要global后者不需要。**\n",
    "#这个判断的根据是精髓！\n",
    "name = \"月月\"\n",
    "list1 = [1,2,3,4,5]\n",
    "print(list1)\n",
    "def func():\n",
    "    name = \"蕊蕊\"\n",
    "    print(name)\n",
    "    print(list1)\n",
    "    \n",
    "def func1():\n",
    "    global name\n",
    "    print(name)\n",
    "    name += \"真漂亮！\"\n",
    "    list1.append(8)\n",
    "    print(list1)\n",
    "func()\n",
    "func1()"
   ]
  },
  {
   "cell_type": "code",
   "execution_count": 52,
   "metadata": {},
   "outputs": [
    {
     "name": "stdout",
     "output_type": "stream",
     "text": [
      "[102, 103, 104, 109]\n"
     ]
    }
   ],
   "source": [
    "def func():\n",
    "    #声明变量 老大老二老三的地位是平等的。\n",
    "    n = 100#老大\n",
    "    list1 = [9,2,3,4]#老二\n",
    "    \n",
    "    #声明内部函数：\n",
    "    def inner_func():#老三\n",
    "    #对list1里面的元素进行加5操作\n",
    "        for index,i in enumerate(list1):\n",
    "            list1[index] += n\n",
    "        list1.sort()\n",
    "    #调用内部函数   \n",
    "    inner_func()\n",
    "    print(list1)\n",
    "func()"
   ]
  },
  {
   "cell_type": "code",
   "execution_count": 54,
   "metadata": {},
   "outputs": [
    {
     "name": "stdout",
     "output_type": "stream",
     "text": [
      "110\n",
      "[102, 103, 104, 109]\n"
     ]
    }
   ],
   "source": [
    "def func():\n",
    "    #声明变量 老大老二老三的地位是平等的。\n",
    "    n = 100#老大\n",
    "    list1 = [9,2,3,4]#老二\n",
    "    \n",
    "    #声明内部函数：\n",
    "    def inner_func():#老三\n",
    "    #对list1里面的元素进行加5操作\n",
    "        nonlocal n#在老三里面想改变老大必须这样！\n",
    "        for index,i in enumerate(list1):\n",
    "            list1[index] += n\n",
    "        list1.sort()\n",
    "        n += 10 \n",
    "        print(n)\n",
    "    #调用内部函数   \n",
    "    inner_func()\n",
    "    print(list1)\n",
    "func()"
   ]
  },
  {
   "cell_type": "code",
   "execution_count": 68,
   "metadata": {},
   "outputs": [
    {
     "name": "stdout",
     "output_type": "stream",
     "text": [
      "110 51 1\n",
      "{'inner_funcwow': <function func.<locals>.inner_funcwow at 0x1087e9c80>, 'b': 51}\n",
      "{'__name__': '__main__', '__doc__': 'Automatically created module for IPython interactive environment', '__package__': None, '__loader__': None, '__spec__': None, '__builtin__': <module 'builtins' (built-in)>, '__builtins__': <module 'builtins' (built-in)>, '_ih': ['', 'def func(a,*args):\\n    print(a,args)\\nfunc(2,[23,3,4])', 'def func(a,*args):\\n    print(a,args)\\nfunc(2,[23,3,4])#随便啥都可以作为tuple的一个元素装包到元组里\\nfunc(2,3,[23,3,4])#随便啥都可以作为tuple的一个元素装包到元组里', 'def func(a,*args):\\n    print(a,args)\\nfunc(2,[23,3,4])#随便啥都可以作为tuple的一个元素装包到元组里\\nfunc(2,3,[23,3,4])#随便啥都可以作为tuple的一个元素装包到元组里\\nfunc(2,[23,3,4],4)#随便啥都可以作为tuple的一个元素装包到元组里', 'def func(a,b=10,c=3,**kwargs):\\n    print(a,b,c,kwargs)\\nfunc(1)', 'def func(a,b=10,c=3,**kwargs):\\n    print(a,b,c,kwargs)\\nfunc(1)\\nfunc(1,b=10)', 'def func(a,b=10,c=3,**kwargs):\\n    print(a,b,c,kwargs)\\nfunc(1)\\nfunc(2,b=10)', 'def func(a,b=10,c=3,**kwargs):\\n    print(a,b,c,kwargs)\\nfunc(1)\\nfunc(2,b=10)\\nfunc(3,5,7,a=1,b=3)', 'def func(a,b=10,c=3,**kwargs):\\n    print(a,b,c,kwargs)\\nfunc(1)\\nfunc(2,b=10)\\nfunc(3,10,5,2,3,4)', 'def func(a,b=10,c=3,**kwargs):\\n    print(a,b,c,kwargs)\\nfunc(1)\\nfunc(2,b=10)\\nfunc(3,10,5,{\"a\":1,\"b\":2})', 'def func(a,b=10,c=3,**kwargs):\\n    print(a,b,c,kwargs)\\nfunc(1)\\nfunc(2,b=10)\\nfunc(3,10,5,**{\"a\":1,\"b\":2})', 'def func(a,b=10,c=3,**kwargs):\\n    print(a,b,c,kwargs)\\nfunc(1)\\nfunc(2,b=10)\\nfunc(3,10,5,**{\"d\":1,\"b\":2})', 'def func(a,b=10,c=3,**kwargs):\\n    print(a,b,c,kwargs)\\nfunc(1)\\nfunc(2,b=10)\\nfunc(3,10,5,**{\"d\":1,\"g\":2})', 'def func(a,b=10,c=3,**kwargs):\\n    print(a,b,c,kwargs)\\nfunc(1)\\nfunc(2,b=10)\\nfunc(3,10,5,**{\"d\":1,\"g\":2})#这里d和g不能叫a，b，c否则就重复冲突了\\nfunc(3,10,5,[1,2])', 'def func(a,b=10,c=3,**kwargs):\\n    print(a,b,c,kwargs)\\nfunc(1)\\nfunc(2,b=10)\\nfunc(3,10,5,**{\"d\":1,\"g\":2})#这里d和g不能叫a，b，c否则就重复冲突了\\n\\nfunc(3,c=5,b=7,x=1,y=2)', '#**kwargs表示要以键值对的方式传值\\ndef func(a,b=10,c=3,**kwargs):\\n    print(a,b,c,kwargs)\\nfunc(1)\\nfunc(2,b=10)\\nfunc(3,10,5,**{\"d\":1,\"g\":2})#这里d和g不能叫a，b，c否则就重复冲突了\\nfunc(3,c=5,b=7,x=1,y=2)\\nstudents = {\"caixukun\":21,\"wangyuan\":20}\\nfunc(3,10,5,**students)', 'def func(a, *args, **kwargs):\\n    print(a,args,kwargs)\\nfunc(1,1,a=9,b=6)', 'def func(a, *args, **kwargs):\\n    print(a,args,kwargs)\\nfunc(1,1,c=9,b=6)', 'def func(a, *args, **kwargs):\\n    print(a,args,kwargs)\\nfunc(1,1,c=9,b=6)\\nfunc(1,1,6,c=9,b=6)', 'def func(a, *args, **kwargs):\\n    print(a,args,kwargs)\\nfunc(1,1,c=9,b=6)\\nfunc(1,1,6,c=9,b=6)\\nfunc(1,c=9,b=6)', '#这个例子就展示得非常清晰\\ndef func(a, *args, **kwargs):\\n    print(a,args,kwargs)\\nfunc(1,1,c=9,b=6)\\nfunc(1,1,6,c=9,b=6)\\nfunc(1,c=9,b=6)\\nl = (1,2,3,4)\\nfunc(1,*l)', '#这个例子就展示得非常清晰\\ndef func(a, *args, **kwargs):\\n    print(a,args,kwargs)\\nfunc(1,1,c=9,b=6)\\nfunc(1,1,6,c=9,b=6)\\nfunc(1,c=9,b=6)\\nt = (1,2,3,4)\\nl = [1,2,3,4]\\nfunc(1,*t)\\nfunc(1,*l)#这个要好好利用\\n#字典可以拆，列表也可以拆', 'def func1(name,*args):\\n    if len(args)>0:\\n        for i in args:\\n            print(f\"{name}学过了{i}\")\\n    else:\\n        print(\"没有学过任何编程知识\")\\ncourses = [\\'Html\\',\\'Python\\',\\'Fortran\\',\"C++\"]\\nfunc1(\\'坤坤\\',*courses)', 'def func1(name,*args):\\n    if len(args)>0:\\n        for i in args:\\n            print(f\"{name}学过了{i}\")\\n    else:\\n        print(\"没有学过任何编程知识\")\\ncourses = [\\'Html\\',\\'Python\\',\\'Fortran\\',\"C++\"]\\nfunc1(\\'坤坤\\',*courses)\\nfunc1(\\'坤坤\\',courses)', 'def func():\\n    pass\\ndef func(x):\\n    pass\\ndef func(x,*args):\\n    pass\\ndef func(x,*args,**args):\\n    pass', 'def func():\\n    pass\\ndef func(x):\\n    pass\\ndef func(x,*args):\\n    pass\\ndef func(x,*args,**kwargs):\\n    pass', '#返回值\\ndef add(*args):\\n    return sum(args)\\nadd(1,2,3,4,5,6)', '#返回值\\ndef add(*args):\\n    return sum(args)\\nx = add(1,2,3,4,5,6)\\nprint(x)', '#返回值\\ndef add(*args):\\n    return sum(args),\"wow\",\"不错哦\"\\nx = add(1,2,3,4,5,6)\\nprint(x)', '#返回值\\ndef add(*args):\\n    return sum(args),\"wow\",\"不错哦\"\\nx = add(1,2,3,4,5,6)\\nprint(x)\\nx,y,z = add(1,2,3,4,5,6)\\nprint(x)\\nprint(y)\\nprint(z)', 'def a():\\n    print(\"Â\")\\ndef b():\\n    a()\\n    print(\"B\")\\nb()', '#全局变量和局部变量\\ndef func():\\n    s = \"abcd\"\\n    s += \"X\"\\n    \\n    print(s)\\nprint(s)', '#全局变量和局部变量\\ndef func():\\n    s = \"abcd\"#这是局部变量\\n    s += \"X\"\\n    \\n    print(s)\\nfunc()', '#全局变量和局部变量\\ndef func():\\n    s = \"abcd\"#这是局部变量\\n    s += \"X\"\\n    \\n    print(s)\\nfunc()\\nname = \\'月月\\'#全局变量\\n\\ndef func1():\\n    print(name)', '#全局变量和局部变量\\ndef func():\\n    s = \"abcd\"#这是局部变量\\n    s += \"X\"\\n    \\n    print(s)\\nfunc()\\nname = \\'月月\\'#全局变量\\n\\ndef func1():\\n    print(name)\\nfunc1()', '#全局变量和局部变量\\ndef func():\\n    s = \"abcd\"#这是局部变量\\n    s += \"X\"\\n    \\n    print(s)\\ndef func1():\\n    print(name)\\nname = \\'月月\\'#全局变量\\nfunc()\\nfunc1()', '#全局变量和局部变量\\n#声明在函数外面的就是全局变量，声明在函数内部的就是局部变量\\ndef func():\\n    s = \"abcd\"#这是局部变量\\n    s += \"X\"\\n    \\n    print(s)\\ndef func1():\\n    print(name)\\nname = \\'月月\\'#全局变量\\nfunc()\\nfunc1()\\n\\ndef func2():\\n    name = \\'小月月\\'\\n    print(name)', '#全局变量和局部变量\\n#声明在函数外面的就是全局变量，声明在函数内部的就是局部变量\\ndef func():\\n    s = \"abcd\"#这是局部变量\\n    s += \"X\"\\n    \\n    print(s)\\ndef func1():\\n    print(name)\\n    \\ndef func2():\\n    name = \\'小月月\\'\\n    print(name)\\n    \\nname = \\'月月\\'#全局变量\\nfunc()\\nfunc1()\\nfunc2()', '#全局变量和局部变量\\n#声明在函数外面的就是全局变量，声明在函数内部的就是局部变量\\ndef func():\\n    s = \"abcd\"#这是局部变量\\n    s += \"X\"\\n    \\n    print(s)\\ndef func1():\\n    print(name)\\n    \\ndef func2():\\n    name = \\'小月月\\'#局部变量和全局变量同名在函数里使用优先使用局部变量\\n    name += \"弹吉他的小美女\"\\n    print(name)\\n    \\nname = \\'月月\\'#全局变量\\nfunc()\\nfunc1()\\nfunc2()', '#全局变量和局部变量\\n#声明在函数外面的就是全局变量，声明在函数内部的就是局部变量\\ndef func():\\n    s = \"abcd\"#这是局部变量\\n    s += \"X\"\\n    \\n    print(s)\\ndef func1():\\n    print(name)\\n    name += \"??\"\\ndef func2():\\n    name = \\'小月月\\'#局部变量和全局变量同名在函数里使用优先使用局部变量\\n    name += \"弹吉他的小美女\"\\n    print(name)\\n    \\nname = \\'月月\\'#全局变量\\nfunc()\\nfunc1()\\nfunc2()', '#全局变量和局部变量\\n#声明在函数外面的就是全局变量，声明在函数内部的就是局部变量\\ndef func():\\n    s = \"abcd\"#这是局部变量\\n    s += \"X\"\\n    \\n    print(s)\\ndef func1():\\n    print(name)#这里面是不可以修改全局变量的！不允许破坏公物！函数内部的可以随便修改赋值，但是全局的不可以！！！\\ndef func2():\\n    name = \\'小月月\\'#局部变量和全局变量同名在函数里使用优先使用局部变量\\n    name += \"弹吉他的小美女\"\\n    print(name)\\n    \\nname = \\'月月\\'#全局变量\\nfunc()\\nfunc1()\\nfunc2()', '#全局变量和局部变量\\n#声明在函数外面的就是全局变量，声明在函数内部的就是局部变量\\ndef func():\\n    s = \"abcd\"#这是局部变量\\n    s += \"X\"\\n    \\n    print(s)\\ndef func1():\\n    print(name)#这里面是不可以修改全局变量的！不允许破坏公物！函数内部的可以随便修改赋值，但是全局的不可以！！！\\ndef func2():\\n    name = \\'小月月\\'#局部变量和全局变量同名在函数里使用优先使用局部变量\\n    name += \"弹吉他的小美女\"\\n    print(name)\\ndef func3():\\n    global name#不修改全局变量，只是获取打印不需要声明，但是如果希望修改！就需要在函数内部声明一下！\\n    name += \"浩文哥牛逼！\"\\n    print(name)\\nname = \\'月月\\'#全局变量\\nfunc()\\nfunc1()\\nfunc2()\\nfunc3()\\nprint(name)', '#全局变量和局部变量\\n#声明在函数外面的就是全局变量，声明在函数内部的就是局部变量\\ndef func():\\n    s = \"abcd\"#这是局部变量\\n    s += \"X\"\\n    \\n    print(s)\\ndef func1():\\n    print(name)#这里面是不可以修改全局变量的！不允许破坏公物！函数内部的可以随便修改赋值，但是全局的不可以！！！\\ndef func2():\\n    name = \\'小月月\\'#局部变量和全局变量同名在函数里使用优先使用局部变量\\n    name += \"弹吉他的小美女\"\\n    print(name)\\ndef func3():\\n    global name#不修改全局变量，只是获取打印不需要声明，但是如果希望修改！就需要在函数内部声明一下！\\n    name += \"浩文哥牛逼！\"\\n    print(name)\\nname = \\'月月\\'#全局变量\\nprint(name)\\nfunc()\\nfunc1()\\nfunc2()\\nfunc3()\\nprint(name)', 'name = \"月月\"\\nlist1 = [1,2,3,4,5]\\n\\ndef func():\\n    name = \"蕊蕊\"\\n    print(name)\\n    print(list1)\\n    \\ndef func1():\\n    global name\\n    print(name)\\n    name += \"真漂亮！\"\\n    list1.append(8)\\n    print(list1)\\n    ', '#因为str()是不可变的，而list是可变的。所以前者需要global后者不需要。\\nname = \"月月\"\\nlist1 = [1,2,3,4,5]\\nprint(list1)\\ndef func():\\n    name = \"蕊蕊\"\\n    print(name)\\n    print(list1)\\n    \\ndef func1():\\n    global name\\n    print(name)\\n    name += \"真漂亮！\"\\n    list1.append(8)\\n    print(list1)\\nfunc()\\nfunc1()', 'def func():\\n    #声明变量\\n    n = 100\\n    list1 = [1,2,3,4]\\n    \\n    #声明内部函数：\\n    def inner_func():\\n        list1.sort()\\n    print(list1)\\nfunc()', 'def func():\\n    #声明变量\\n    n = 100\\n    list1 = [9,2,3,4]\\n    \\n    #声明内部函数：\\n    def inner_func():\\n        list1.sort()\\n    print(list1)\\nfunc()', 'def func():\\n    #声明变量\\n    n = 100\\n    list1 = [9,2,3,4]\\n    \\n    #声明内部函数：\\n    def inner_func():\\n        list1.sort()\\n    inner_func()\\n    print(list1)\\nfunc()', 'def func():\\n    #声明变量\\n    n = 100\\n    list1 = [9,2,3,4]\\n    \\n    #声明内部函数：\\n    def inner_func():\\n    #对list1里面的元素进行加5操作\\n        list1=[i+5 for i in list1]\\n    inner_func()\\n    print(list1)\\nfunc()', 'def func():\\n    #声明变量\\n    n = 100\\n    list1 = [9,2,3,4]\\n    \\n    #声明内部函数：\\n    def inner_func():\\n    #对list1里面的元素进行加5操作\\n        newlist=[i+5 for i in list1]\\n    inner_func()\\n    print(newlist)\\nfunc()', 'def func():\\n    #声明变量\\n    n = 100\\n    list1 = [9,2,3,4]\\n    \\n    #声明内部函数：\\n    def inner_func():\\n    #对list1里面的元素进行加5操作\\n        for index,i in enumerate(list1):\\n            list1[index] += 5\\n    inner_func()\\n    print(list1)\\nfunc()', 'def func():\\n    #声明变量\\n    n = 100\\n    list1 = [9,2,3,4]\\n    \\n    #声明内部函数：\\n    def inner_func():\\n    #对list1里面的元素进行加5操作\\n        for index,i in enumerate(list1):\\n            list1[index] += 5\\n        list1.sort()\\n    inner_func()\\n    print(list1)\\nfunc()', 'def func():\\n    #声明变量 老大老二老三的地位是平等的。\\n    n = 100#老大\\n    list1 = [9,2,3,4]#老二\\n    \\n    #声明内部函数：\\n    def inner_func():#老三\\n    #对list1里面的元素进行加5操作\\n        for index,i in enumerate(list1):\\n            list1[index] += n\\n        list1.sort()\\n    #调用内部函数   \\n    inner_func()\\n    print(list1)\\nfunc()', 'def func():\\n    #声明变量 老大老二老三的地位是平等的。\\n    n = 100#老大\\n    list1 = [9,2,3,4]#老二\\n    \\n    #声明内部函数：\\n    def inner_func():#老三\\n    #对list1里面的元素进行加5操作\\n        nonlocal n\\n        for index,i in enumerate(list1):\\n            list1[index] += n\\n        list1.sort()\\n        n += 10 \\n    #调用内部函数   \\n    inner_func()\\n    print(list1)\\nfunc()', 'def func():\\n    #声明变量 老大老二老三的地位是平等的。\\n    n = 100#老大\\n    list1 = [9,2,3,4]#老二\\n    \\n    #声明内部函数：\\n    def inner_func():#老三\\n    #对list1里面的元素进行加5操作\\n        nonlocal n\\n        for index,i in enumerate(list1):\\n            list1[index] += n\\n        list1.sort()\\n        n += 10 \\n        print(n)\\n    #调用内部函数   \\n    inner_func()\\n    print(list1)\\nfunc()', 'def func():\\n    b = 99\\n    \\n    def inner_func():\\n        print(b)\\n        b += 1\\n    inner_func()\\n    print(b)\\nfunc()', 'def func():\\n    b = 99\\n    \\n    def inner_func():\\n        nonlocal b\\n        print(b)\\n        b += 1\\n    inner_func()\\n    print(b)\\nfunc()', 'def func():\\n    b = 99\\n    \\n    def inner_func():\\n        nonlocal b\\n        print(b)\\n        b += 1\\n    inner_func()\\n    print(b)\\nfunc()', 'a = 100\\ndef func():\\n    b = 99\\n    \\n    def inner_func():\\n        nonlocal b\\n        c = 1\\n        b += 1\\n    inner_func()\\n    print(a,b,c)\\nfunc()', 'a = 100\\ndef func():\\n    b = 99\\n    \\n    def inner_func():\\n        nonlocal b\\n        c = 1\\n        b += 1\\n        print(a,b,c)\\n    inner_func()\\nfunc()', 'a = 100\\ndef func():\\n    b = 50\\n    \\n    def inner_func():\\n        nonlocal b\\n        c = 1\\n        b += 1\\n        print(a,b,c)\\n    inner_func()\\nfunc()', 'a = 100\\ndef func():\\n    b = 50\\n    \\n    def inner_func():\\n        nonlocal b\\n        c = 1\\n        b += 1\\n        a += 10\\n        print(a,b,c)\\n    inner_func()\\nfunc()', 'a = 100\\ndef func():\\n    global a\\n    b = 50\\n    \\n    def inner_func():\\n        nonlocal b\\n        c = 1\\n        b += 1\\n        a += 10\\n        print(a,b,c)\\n    inner_func()\\nfunc()', 'a = 100\\ndef func():\\n    global a\\n    b = 50\\n    def inner_func():\\n        nonlocal b\\n        global a \\n        c = 1\\n        b += 1\\n        a += 10\\n        print(a,b,c)\\n    inner_func()\\nfunc()', 'a = 100\\ndef func():\\n    #global a\\n    b = 50\\n    def inner_func():\\n        nonlocal b\\n        global a \\n        c = 1\\n        b += 1\\n        a += 10\\n        print(a,b,c)\\n    inner_func()\\nfunc()', 'a = 100\\ndef func():\\n    #global a 在这里写没用 如果内层函数里要用就在内层函数里写\\n    b = 50\\n    def inner_func():\\n        nonlocal b\\n        global a \\n        c = 1\\n        b += 1\\n        a += 10\\n        print(a,b,c)\\n    inner_func()\\n    print(locals())\\nfunc()', 'a = 100\\ndef func():\\n    #global a 在这里写没用 如果内层函数里要用就在内层函数里写\\n    b = 50\\n    def inner_funcwow():\\n        nonlocal b\\n        global a \\n        c = 1\\n        b += 1\\n        a += 10\\n        print(a,b,c)\\n    inner_func()\\n    print(locals())#可以看到当前函数中声明的内容有哪些\\nfunc()', 'a = 100\\ndef func():\\n    #global a 在这里写没用 如果内层函数里要用就在内层函数里写\\n    b = 50\\n    def inner_funcwow():\\n        nonlocal b\\n        global a \\n        c = 1\\n        b += 1\\n        a += 10\\n        print(a,b,c)\\n    inner_funcwow()\\n    print(locals())#可以看到当前函数中声明的内容有哪些\\nfunc()', 'a = 100\\ndef func():\\n    #global a 在这里写没用 如果内层函数里要用就在内层函数里写\\n    b = 50\\n    def inner_funcwow():\\n        nonlocal b\\n        global a \\n        c = 1\\n        b += 1\\n        a += 10\\n        print(a,b,c)\\n    inner_funcwow()\\n    print(locals())#可以看到当前函数中声明的内容有哪些\\n    #返回一个字典 key是变量名，value就是value 对于函数就是地址\\nfunc()\\nprint(globals())'], '_oh': {26: 21}, '_dh': ['/Users/zhonghaowen/Python学习记录'], 'In': ['', 'def func(a,*args):\\n    print(a,args)\\nfunc(2,[23,3,4])', 'def func(a,*args):\\n    print(a,args)\\nfunc(2,[23,3,4])#随便啥都可以作为tuple的一个元素装包到元组里\\nfunc(2,3,[23,3,4])#随便啥都可以作为tuple的一个元素装包到元组里', 'def func(a,*args):\\n    print(a,args)\\nfunc(2,[23,3,4])#随便啥都可以作为tuple的一个元素装包到元组里\\nfunc(2,3,[23,3,4])#随便啥都可以作为tuple的一个元素装包到元组里\\nfunc(2,[23,3,4],4)#随便啥都可以作为tuple的一个元素装包到元组里', 'def func(a,b=10,c=3,**kwargs):\\n    print(a,b,c,kwargs)\\nfunc(1)', 'def func(a,b=10,c=3,**kwargs):\\n    print(a,b,c,kwargs)\\nfunc(1)\\nfunc(1,b=10)', 'def func(a,b=10,c=3,**kwargs):\\n    print(a,b,c,kwargs)\\nfunc(1)\\nfunc(2,b=10)', 'def func(a,b=10,c=3,**kwargs):\\n    print(a,b,c,kwargs)\\nfunc(1)\\nfunc(2,b=10)\\nfunc(3,5,7,a=1,b=3)', 'def func(a,b=10,c=3,**kwargs):\\n    print(a,b,c,kwargs)\\nfunc(1)\\nfunc(2,b=10)\\nfunc(3,10,5,2,3,4)', 'def func(a,b=10,c=3,**kwargs):\\n    print(a,b,c,kwargs)\\nfunc(1)\\nfunc(2,b=10)\\nfunc(3,10,5,{\"a\":1,\"b\":2})', 'def func(a,b=10,c=3,**kwargs):\\n    print(a,b,c,kwargs)\\nfunc(1)\\nfunc(2,b=10)\\nfunc(3,10,5,**{\"a\":1,\"b\":2})', 'def func(a,b=10,c=3,**kwargs):\\n    print(a,b,c,kwargs)\\nfunc(1)\\nfunc(2,b=10)\\nfunc(3,10,5,**{\"d\":1,\"b\":2})', 'def func(a,b=10,c=3,**kwargs):\\n    print(a,b,c,kwargs)\\nfunc(1)\\nfunc(2,b=10)\\nfunc(3,10,5,**{\"d\":1,\"g\":2})', 'def func(a,b=10,c=3,**kwargs):\\n    print(a,b,c,kwargs)\\nfunc(1)\\nfunc(2,b=10)\\nfunc(3,10,5,**{\"d\":1,\"g\":2})#这里d和g不能叫a，b，c否则就重复冲突了\\nfunc(3,10,5,[1,2])', 'def func(a,b=10,c=3,**kwargs):\\n    print(a,b,c,kwargs)\\nfunc(1)\\nfunc(2,b=10)\\nfunc(3,10,5,**{\"d\":1,\"g\":2})#这里d和g不能叫a，b，c否则就重复冲突了\\n\\nfunc(3,c=5,b=7,x=1,y=2)', '#**kwargs表示要以键值对的方式传值\\ndef func(a,b=10,c=3,**kwargs):\\n    print(a,b,c,kwargs)\\nfunc(1)\\nfunc(2,b=10)\\nfunc(3,10,5,**{\"d\":1,\"g\":2})#这里d和g不能叫a，b，c否则就重复冲突了\\nfunc(3,c=5,b=7,x=1,y=2)\\nstudents = {\"caixukun\":21,\"wangyuan\":20}\\nfunc(3,10,5,**students)', 'def func(a, *args, **kwargs):\\n    print(a,args,kwargs)\\nfunc(1,1,a=9,b=6)', 'def func(a, *args, **kwargs):\\n    print(a,args,kwargs)\\nfunc(1,1,c=9,b=6)', 'def func(a, *args, **kwargs):\\n    print(a,args,kwargs)\\nfunc(1,1,c=9,b=6)\\nfunc(1,1,6,c=9,b=6)', 'def func(a, *args, **kwargs):\\n    print(a,args,kwargs)\\nfunc(1,1,c=9,b=6)\\nfunc(1,1,6,c=9,b=6)\\nfunc(1,c=9,b=6)', '#这个例子就展示得非常清晰\\ndef func(a, *args, **kwargs):\\n    print(a,args,kwargs)\\nfunc(1,1,c=9,b=6)\\nfunc(1,1,6,c=9,b=6)\\nfunc(1,c=9,b=6)\\nl = (1,2,3,4)\\nfunc(1,*l)', '#这个例子就展示得非常清晰\\ndef func(a, *args, **kwargs):\\n    print(a,args,kwargs)\\nfunc(1,1,c=9,b=6)\\nfunc(1,1,6,c=9,b=6)\\nfunc(1,c=9,b=6)\\nt = (1,2,3,4)\\nl = [1,2,3,4]\\nfunc(1,*t)\\nfunc(1,*l)#这个要好好利用\\n#字典可以拆，列表也可以拆', 'def func1(name,*args):\\n    if len(args)>0:\\n        for i in args:\\n            print(f\"{name}学过了{i}\")\\n    else:\\n        print(\"没有学过任何编程知识\")\\ncourses = [\\'Html\\',\\'Python\\',\\'Fortran\\',\"C++\"]\\nfunc1(\\'坤坤\\',*courses)', 'def func1(name,*args):\\n    if len(args)>0:\\n        for i in args:\\n            print(f\"{name}学过了{i}\")\\n    else:\\n        print(\"没有学过任何编程知识\")\\ncourses = [\\'Html\\',\\'Python\\',\\'Fortran\\',\"C++\"]\\nfunc1(\\'坤坤\\',*courses)\\nfunc1(\\'坤坤\\',courses)', 'def func():\\n    pass\\ndef func(x):\\n    pass\\ndef func(x,*args):\\n    pass\\ndef func(x,*args,**args):\\n    pass', 'def func():\\n    pass\\ndef func(x):\\n    pass\\ndef func(x,*args):\\n    pass\\ndef func(x,*args,**kwargs):\\n    pass', '#返回值\\ndef add(*args):\\n    return sum(args)\\nadd(1,2,3,4,5,6)', '#返回值\\ndef add(*args):\\n    return sum(args)\\nx = add(1,2,3,4,5,6)\\nprint(x)', '#返回值\\ndef add(*args):\\n    return sum(args),\"wow\",\"不错哦\"\\nx = add(1,2,3,4,5,6)\\nprint(x)', '#返回值\\ndef add(*args):\\n    return sum(args),\"wow\",\"不错哦\"\\nx = add(1,2,3,4,5,6)\\nprint(x)\\nx,y,z = add(1,2,3,4,5,6)\\nprint(x)\\nprint(y)\\nprint(z)', 'def a():\\n    print(\"Â\")\\ndef b():\\n    a()\\n    print(\"B\")\\nb()', '#全局变量和局部变量\\ndef func():\\n    s = \"abcd\"\\n    s += \"X\"\\n    \\n    print(s)\\nprint(s)', '#全局变量和局部变量\\ndef func():\\n    s = \"abcd\"#这是局部变量\\n    s += \"X\"\\n    \\n    print(s)\\nfunc()', '#全局变量和局部变量\\ndef func():\\n    s = \"abcd\"#这是局部变量\\n    s += \"X\"\\n    \\n    print(s)\\nfunc()\\nname = \\'月月\\'#全局变量\\n\\ndef func1():\\n    print(name)', '#全局变量和局部变量\\ndef func():\\n    s = \"abcd\"#这是局部变量\\n    s += \"X\"\\n    \\n    print(s)\\nfunc()\\nname = \\'月月\\'#全局变量\\n\\ndef func1():\\n    print(name)\\nfunc1()', '#全局变量和局部变量\\ndef func():\\n    s = \"abcd\"#这是局部变量\\n    s += \"X\"\\n    \\n    print(s)\\ndef func1():\\n    print(name)\\nname = \\'月月\\'#全局变量\\nfunc()\\nfunc1()', '#全局变量和局部变量\\n#声明在函数外面的就是全局变量，声明在函数内部的就是局部变量\\ndef func():\\n    s = \"abcd\"#这是局部变量\\n    s += \"X\"\\n    \\n    print(s)\\ndef func1():\\n    print(name)\\nname = \\'月月\\'#全局变量\\nfunc()\\nfunc1()\\n\\ndef func2():\\n    name = \\'小月月\\'\\n    print(name)', '#全局变量和局部变量\\n#声明在函数外面的就是全局变量，声明在函数内部的就是局部变量\\ndef func():\\n    s = \"abcd\"#这是局部变量\\n    s += \"X\"\\n    \\n    print(s)\\ndef func1():\\n    print(name)\\n    \\ndef func2():\\n    name = \\'小月月\\'\\n    print(name)\\n    \\nname = \\'月月\\'#全局变量\\nfunc()\\nfunc1()\\nfunc2()', '#全局变量和局部变量\\n#声明在函数外面的就是全局变量，声明在函数内部的就是局部变量\\ndef func():\\n    s = \"abcd\"#这是局部变量\\n    s += \"X\"\\n    \\n    print(s)\\ndef func1():\\n    print(name)\\n    \\ndef func2():\\n    name = \\'小月月\\'#局部变量和全局变量同名在函数里使用优先使用局部变量\\n    name += \"弹吉他的小美女\"\\n    print(name)\\n    \\nname = \\'月月\\'#全局变量\\nfunc()\\nfunc1()\\nfunc2()', '#全局变量和局部变量\\n#声明在函数外面的就是全局变量，声明在函数内部的就是局部变量\\ndef func():\\n    s = \"abcd\"#这是局部变量\\n    s += \"X\"\\n    \\n    print(s)\\ndef func1():\\n    print(name)\\n    name += \"??\"\\ndef func2():\\n    name = \\'小月月\\'#局部变量和全局变量同名在函数里使用优先使用局部变量\\n    name += \"弹吉他的小美女\"\\n    print(name)\\n    \\nname = \\'月月\\'#全局变量\\nfunc()\\nfunc1()\\nfunc2()', '#全局变量和局部变量\\n#声明在函数外面的就是全局变量，声明在函数内部的就是局部变量\\ndef func():\\n    s = \"abcd\"#这是局部变量\\n    s += \"X\"\\n    \\n    print(s)\\ndef func1():\\n    print(name)#这里面是不可以修改全局变量的！不允许破坏公物！函数内部的可以随便修改赋值，但是全局的不可以！！！\\ndef func2():\\n    name = \\'小月月\\'#局部变量和全局变量同名在函数里使用优先使用局部变量\\n    name += \"弹吉他的小美女\"\\n    print(name)\\n    \\nname = \\'月月\\'#全局变量\\nfunc()\\nfunc1()\\nfunc2()', '#全局变量和局部变量\\n#声明在函数外面的就是全局变量，声明在函数内部的就是局部变量\\ndef func():\\n    s = \"abcd\"#这是局部变量\\n    s += \"X\"\\n    \\n    print(s)\\ndef func1():\\n    print(name)#这里面是不可以修改全局变量的！不允许破坏公物！函数内部的可以随便修改赋值，但是全局的不可以！！！\\ndef func2():\\n    name = \\'小月月\\'#局部变量和全局变量同名在函数里使用优先使用局部变量\\n    name += \"弹吉他的小美女\"\\n    print(name)\\ndef func3():\\n    global name#不修改全局变量，只是获取打印不需要声明，但是如果希望修改！就需要在函数内部声明一下！\\n    name += \"浩文哥牛逼！\"\\n    print(name)\\nname = \\'月月\\'#全局变量\\nfunc()\\nfunc1()\\nfunc2()\\nfunc3()\\nprint(name)', '#全局变量和局部变量\\n#声明在函数外面的就是全局变量，声明在函数内部的就是局部变量\\ndef func():\\n    s = \"abcd\"#这是局部变量\\n    s += \"X\"\\n    \\n    print(s)\\ndef func1():\\n    print(name)#这里面是不可以修改全局变量的！不允许破坏公物！函数内部的可以随便修改赋值，但是全局的不可以！！！\\ndef func2():\\n    name = \\'小月月\\'#局部变量和全局变量同名在函数里使用优先使用局部变量\\n    name += \"弹吉他的小美女\"\\n    print(name)\\ndef func3():\\n    global name#不修改全局变量，只是获取打印不需要声明，但是如果希望修改！就需要在函数内部声明一下！\\n    name += \"浩文哥牛逼！\"\\n    print(name)\\nname = \\'月月\\'#全局变量\\nprint(name)\\nfunc()\\nfunc1()\\nfunc2()\\nfunc3()\\nprint(name)', 'name = \"月月\"\\nlist1 = [1,2,3,4,5]\\n\\ndef func():\\n    name = \"蕊蕊\"\\n    print(name)\\n    print(list1)\\n    \\ndef func1():\\n    global name\\n    print(name)\\n    name += \"真漂亮！\"\\n    list1.append(8)\\n    print(list1)\\n    ', '#因为str()是不可变的，而list是可变的。所以前者需要global后者不需要。\\nname = \"月月\"\\nlist1 = [1,2,3,4,5]\\nprint(list1)\\ndef func():\\n    name = \"蕊蕊\"\\n    print(name)\\n    print(list1)\\n    \\ndef func1():\\n    global name\\n    print(name)\\n    name += \"真漂亮！\"\\n    list1.append(8)\\n    print(list1)\\nfunc()\\nfunc1()', 'def func():\\n    #声明变量\\n    n = 100\\n    list1 = [1,2,3,4]\\n    \\n    #声明内部函数：\\n    def inner_func():\\n        list1.sort()\\n    print(list1)\\nfunc()', 'def func():\\n    #声明变量\\n    n = 100\\n    list1 = [9,2,3,4]\\n    \\n    #声明内部函数：\\n    def inner_func():\\n        list1.sort()\\n    print(list1)\\nfunc()', 'def func():\\n    #声明变量\\n    n = 100\\n    list1 = [9,2,3,4]\\n    \\n    #声明内部函数：\\n    def inner_func():\\n        list1.sort()\\n    inner_func()\\n    print(list1)\\nfunc()', 'def func():\\n    #声明变量\\n    n = 100\\n    list1 = [9,2,3,4]\\n    \\n    #声明内部函数：\\n    def inner_func():\\n    #对list1里面的元素进行加5操作\\n        list1=[i+5 for i in list1]\\n    inner_func()\\n    print(list1)\\nfunc()', 'def func():\\n    #声明变量\\n    n = 100\\n    list1 = [9,2,3,4]\\n    \\n    #声明内部函数：\\n    def inner_func():\\n    #对list1里面的元素进行加5操作\\n        newlist=[i+5 for i in list1]\\n    inner_func()\\n    print(newlist)\\nfunc()', 'def func():\\n    #声明变量\\n    n = 100\\n    list1 = [9,2,3,4]\\n    \\n    #声明内部函数：\\n    def inner_func():\\n    #对list1里面的元素进行加5操作\\n        for index,i in enumerate(list1):\\n            list1[index] += 5\\n    inner_func()\\n    print(list1)\\nfunc()', 'def func():\\n    #声明变量\\n    n = 100\\n    list1 = [9,2,3,4]\\n    \\n    #声明内部函数：\\n    def inner_func():\\n    #对list1里面的元素进行加5操作\\n        for index,i in enumerate(list1):\\n            list1[index] += 5\\n        list1.sort()\\n    inner_func()\\n    print(list1)\\nfunc()', 'def func():\\n    #声明变量 老大老二老三的地位是平等的。\\n    n = 100#老大\\n    list1 = [9,2,3,4]#老二\\n    \\n    #声明内部函数：\\n    def inner_func():#老三\\n    #对list1里面的元素进行加5操作\\n        for index,i in enumerate(list1):\\n            list1[index] += n\\n        list1.sort()\\n    #调用内部函数   \\n    inner_func()\\n    print(list1)\\nfunc()', 'def func():\\n    #声明变量 老大老二老三的地位是平等的。\\n    n = 100#老大\\n    list1 = [9,2,3,4]#老二\\n    \\n    #声明内部函数：\\n    def inner_func():#老三\\n    #对list1里面的元素进行加5操作\\n        nonlocal n\\n        for index,i in enumerate(list1):\\n            list1[index] += n\\n        list1.sort()\\n        n += 10 \\n    #调用内部函数   \\n    inner_func()\\n    print(list1)\\nfunc()', 'def func():\\n    #声明变量 老大老二老三的地位是平等的。\\n    n = 100#老大\\n    list1 = [9,2,3,4]#老二\\n    \\n    #声明内部函数：\\n    def inner_func():#老三\\n    #对list1里面的元素进行加5操作\\n        nonlocal n\\n        for index,i in enumerate(list1):\\n            list1[index] += n\\n        list1.sort()\\n        n += 10 \\n        print(n)\\n    #调用内部函数   \\n    inner_func()\\n    print(list1)\\nfunc()', 'def func():\\n    b = 99\\n    \\n    def inner_func():\\n        print(b)\\n        b += 1\\n    inner_func()\\n    print(b)\\nfunc()', 'def func():\\n    b = 99\\n    \\n    def inner_func():\\n        nonlocal b\\n        print(b)\\n        b += 1\\n    inner_func()\\n    print(b)\\nfunc()', 'def func():\\n    b = 99\\n    \\n    def inner_func():\\n        nonlocal b\\n        print(b)\\n        b += 1\\n    inner_func()\\n    print(b)\\nfunc()', 'a = 100\\ndef func():\\n    b = 99\\n    \\n    def inner_func():\\n        nonlocal b\\n        c = 1\\n        b += 1\\n    inner_func()\\n    print(a,b,c)\\nfunc()', 'a = 100\\ndef func():\\n    b = 99\\n    \\n    def inner_func():\\n        nonlocal b\\n        c = 1\\n        b += 1\\n        print(a,b,c)\\n    inner_func()\\nfunc()', 'a = 100\\ndef func():\\n    b = 50\\n    \\n    def inner_func():\\n        nonlocal b\\n        c = 1\\n        b += 1\\n        print(a,b,c)\\n    inner_func()\\nfunc()', 'a = 100\\ndef func():\\n    b = 50\\n    \\n    def inner_func():\\n        nonlocal b\\n        c = 1\\n        b += 1\\n        a += 10\\n        print(a,b,c)\\n    inner_func()\\nfunc()', 'a = 100\\ndef func():\\n    global a\\n    b = 50\\n    \\n    def inner_func():\\n        nonlocal b\\n        c = 1\\n        b += 1\\n        a += 10\\n        print(a,b,c)\\n    inner_func()\\nfunc()', 'a = 100\\ndef func():\\n    global a\\n    b = 50\\n    def inner_func():\\n        nonlocal b\\n        global a \\n        c = 1\\n        b += 1\\n        a += 10\\n        print(a,b,c)\\n    inner_func()\\nfunc()', 'a = 100\\ndef func():\\n    #global a\\n    b = 50\\n    def inner_func():\\n        nonlocal b\\n        global a \\n        c = 1\\n        b += 1\\n        a += 10\\n        print(a,b,c)\\n    inner_func()\\nfunc()', 'a = 100\\ndef func():\\n    #global a 在这里写没用 如果内层函数里要用就在内层函数里写\\n    b = 50\\n    def inner_func():\\n        nonlocal b\\n        global a \\n        c = 1\\n        b += 1\\n        a += 10\\n        print(a,b,c)\\n    inner_func()\\n    print(locals())\\nfunc()', 'a = 100\\ndef func():\\n    #global a 在这里写没用 如果内层函数里要用就在内层函数里写\\n    b = 50\\n    def inner_funcwow():\\n        nonlocal b\\n        global a \\n        c = 1\\n        b += 1\\n        a += 10\\n        print(a,b,c)\\n    inner_func()\\n    print(locals())#可以看到当前函数中声明的内容有哪些\\nfunc()', 'a = 100\\ndef func():\\n    #global a 在这里写没用 如果内层函数里要用就在内层函数里写\\n    b = 50\\n    def inner_funcwow():\\n        nonlocal b\\n        global a \\n        c = 1\\n        b += 1\\n        a += 10\\n        print(a,b,c)\\n    inner_funcwow()\\n    print(locals())#可以看到当前函数中声明的内容有哪些\\nfunc()', 'a = 100\\ndef func():\\n    #global a 在这里写没用 如果内层函数里要用就在内层函数里写\\n    b = 50\\n    def inner_funcwow():\\n        nonlocal b\\n        global a \\n        c = 1\\n        b += 1\\n        a += 10\\n        print(a,b,c)\\n    inner_funcwow()\\n    print(locals())#可以看到当前函数中声明的内容有哪些\\n    #返回一个字典 key是变量名，value就是value 对于函数就是地址\\nfunc()\\nprint(globals())'], 'Out': {26: 21}, 'get_ipython': <bound method InteractiveShell.get_ipython of <ipykernel.zmqshell.ZMQInteractiveShell object at 0x106ae4898>>, 'exit': <IPython.core.autocall.ZMQExitAutocall object at 0x1071b5550>, 'quit': <IPython.core.autocall.ZMQExitAutocall object at 0x1071b5550>, '_': 21, '__': '', '___': '', '_i': 'a = 100\\ndef func():\\n    #global a 在这里写没用 如果内层函数里要用就在内层函数里写\\n    b = 50\\n    def inner_funcwow():\\n        nonlocal b\\n        global a \\n        c = 1\\n        b += 1\\n        a += 10\\n        print(a,b,c)\\n    inner_funcwow()\\n    print(locals())#可以看到当前函数中声明的内容有哪些\\nfunc()', '_ii': 'a = 100\\ndef func():\\n    #global a 在这里写没用 如果内层函数里要用就在内层函数里写\\n    b = 50\\n    def inner_funcwow():\\n        nonlocal b\\n        global a \\n        c = 1\\n        b += 1\\n        a += 10\\n        print(a,b,c)\\n    inner_func()\\n    print(locals())#可以看到当前函数中声明的内容有哪些\\nfunc()', '_iii': 'a = 100\\ndef func():\\n    #global a 在这里写没用 如果内层函数里要用就在内层函数里写\\n    b = 50\\n    def inner_func():\\n        nonlocal b\\n        global a \\n        c = 1\\n        b += 1\\n        a += 10\\n        print(a,b,c)\\n    inner_func()\\n    print(locals())\\nfunc()', '_i1': 'def func(a,*args):\\n    print(a,args)\\nfunc(2,[23,3,4])', 'func': <function func at 0x1087e9840>, '_i2': 'def func(a,*args):\\n    print(a,args)\\nfunc(2,[23,3,4])#随便啥都可以作为tuple的一个元素装包到元组里\\nfunc(2,3,[23,3,4])#随便啥都可以作为tuple的一个元素装包到元组里', '_i3': 'def func(a,*args):\\n    print(a,args)\\nfunc(2,[23,3,4])#随便啥都可以作为tuple的一个元素装包到元组里\\nfunc(2,3,[23,3,4])#随便啥都可以作为tuple的一个元素装包到元组里\\nfunc(2,[23,3,4],4)#随便啥都可以作为tuple的一个元素装包到元组里', '_i4': 'def func(a,b=10,c=3,**kwargs):\\n    print(a,b,c,kwargs)\\nfunc(1)', '_i5': 'def func(a,b=10,c=3,**kwargs):\\n    print(a,b,c,kwargs)\\nfunc(1)\\nfunc(1,b=10)', '_i6': 'def func(a,b=10,c=3,**kwargs):\\n    print(a,b,c,kwargs)\\nfunc(1)\\nfunc(2,b=10)', '_i7': 'def func(a,b=10,c=3,**kwargs):\\n    print(a,b,c,kwargs)\\nfunc(1)\\nfunc(2,b=10)\\nfunc(3,5,7,a=1,b=3)', '_i8': 'def func(a,b=10,c=3,**kwargs):\\n    print(a,b,c,kwargs)\\nfunc(1)\\nfunc(2,b=10)\\nfunc(3,10,5,2,3,4)', '_i9': 'def func(a,b=10,c=3,**kwargs):\\n    print(a,b,c,kwargs)\\nfunc(1)\\nfunc(2,b=10)\\nfunc(3,10,5,{\"a\":1,\"b\":2})', '_i10': 'def func(a,b=10,c=3,**kwargs):\\n    print(a,b,c,kwargs)\\nfunc(1)\\nfunc(2,b=10)\\nfunc(3,10,5,**{\"a\":1,\"b\":2})', '_i11': 'def func(a,b=10,c=3,**kwargs):\\n    print(a,b,c,kwargs)\\nfunc(1)\\nfunc(2,b=10)\\nfunc(3,10,5,**{\"d\":1,\"b\":2})', '_i12': 'def func(a,b=10,c=3,**kwargs):\\n    print(a,b,c,kwargs)\\nfunc(1)\\nfunc(2,b=10)\\nfunc(3,10,5,**{\"d\":1,\"g\":2})', '_i13': 'def func(a,b=10,c=3,**kwargs):\\n    print(a,b,c,kwargs)\\nfunc(1)\\nfunc(2,b=10)\\nfunc(3,10,5,**{\"d\":1,\"g\":2})#这里d和g不能叫a，b，c否则就重复冲突了\\nfunc(3,10,5,[1,2])', '_i14': 'def func(a,b=10,c=3,**kwargs):\\n    print(a,b,c,kwargs)\\nfunc(1)\\nfunc(2,b=10)\\nfunc(3,10,5,**{\"d\":1,\"g\":2})#这里d和g不能叫a，b，c否则就重复冲突了\\n\\nfunc(3,c=5,b=7,x=1,y=2)', '_i15': '#**kwargs表示要以键值对的方式传值\\ndef func(a,b=10,c=3,**kwargs):\\n    print(a,b,c,kwargs)\\nfunc(1)\\nfunc(2,b=10)\\nfunc(3,10,5,**{\"d\":1,\"g\":2})#这里d和g不能叫a，b，c否则就重复冲突了\\nfunc(3,c=5,b=7,x=1,y=2)\\nstudents = {\"caixukun\":21,\"wangyuan\":20}\\nfunc(3,10,5,**students)', 'students': {'caixukun': 21, 'wangyuan': 20}, '_i16': 'def func(a, *args, **kwargs):\\n    print(a,args,kwargs)\\nfunc(1,1,a=9,b=6)', '_i17': 'def func(a, *args, **kwargs):\\n    print(a,args,kwargs)\\nfunc(1,1,c=9,b=6)', '_i18': 'def func(a, *args, **kwargs):\\n    print(a,args,kwargs)\\nfunc(1,1,c=9,b=6)\\nfunc(1,1,6,c=9,b=6)', '_i19': 'def func(a, *args, **kwargs):\\n    print(a,args,kwargs)\\nfunc(1,1,c=9,b=6)\\nfunc(1,1,6,c=9,b=6)\\nfunc(1,c=9,b=6)', '_i20': '#这个例子就展示得非常清晰\\ndef func(a, *args, **kwargs):\\n    print(a,args,kwargs)\\nfunc(1,1,c=9,b=6)\\nfunc(1,1,6,c=9,b=6)\\nfunc(1,c=9,b=6)\\nl = (1,2,3,4)\\nfunc(1,*l)', 'l': [1, 2, 3, 4], '_i21': '#这个例子就展示得非常清晰\\ndef func(a, *args, **kwargs):\\n    print(a,args,kwargs)\\nfunc(1,1,c=9,b=6)\\nfunc(1,1,6,c=9,b=6)\\nfunc(1,c=9,b=6)\\nt = (1,2,3,4)\\nl = [1,2,3,4]\\nfunc(1,*t)\\nfunc(1,*l)#这个要好好利用\\n#字典可以拆，列表也可以拆', 't': (1, 2, 3, 4), '_i22': 'def func1(name,*args):\\n    if len(args)>0:\\n        for i in args:\\n            print(f\"{name}学过了{i}\")\\n    else:\\n        print(\"没有学过任何编程知识\")\\ncourses = [\\'Html\\',\\'Python\\',\\'Fortran\\',\"C++\"]\\nfunc1(\\'坤坤\\',*courses)', 'func1': <function func1 at 0x108573f28>, 'courses': ['Html', 'Python', 'Fortran', 'C++'], '_i23': 'def func1(name,*args):\\n    if len(args)>0:\\n        for i in args:\\n            print(f\"{name}学过了{i}\")\\n    else:\\n        print(\"没有学过任何编程知识\")\\ncourses = [\\'Html\\',\\'Python\\',\\'Fortran\\',\"C++\"]\\nfunc1(\\'坤坤\\',*courses)\\nfunc1(\\'坤坤\\',courses)', '_i24': 'def func():\\n    pass\\ndef func(x):\\n    pass\\ndef func(x,*args):\\n    pass\\ndef func(x,*args,**args):\\n    pass', '_i25': 'def func():\\n    pass\\ndef func(x):\\n    pass\\ndef func(x,*args):\\n    pass\\ndef func(x,*args,**kwargs):\\n    pass', '_i26': '#返回值\\ndef add(*args):\\n    return sum(args)\\nadd(1,2,3,4,5,6)', 'add': <function add at 0x107308e18>, '_26': 21, '_i27': '#返回值\\ndef add(*args):\\n    return sum(args)\\nx = add(1,2,3,4,5,6)\\nprint(x)', 'x': 21, '_i28': '#返回值\\ndef add(*args):\\n    return sum(args),\"wow\",\"不错哦\"\\nx = add(1,2,3,4,5,6)\\nprint(x)', '_i29': '#返回值\\ndef add(*args):\\n    return sum(args),\"wow\",\"不错哦\"\\nx = add(1,2,3,4,5,6)\\nprint(x)\\nx,y,z = add(1,2,3,4,5,6)\\nprint(x)\\nprint(y)\\nprint(z)', 'y': 'wow', 'z': '不错哦', '_i30': 'def a():\\n    print(\"Â\")\\ndef b():\\n    a()\\n    print(\"B\")\\nb()', 'a': 110, 'b': <function b at 0x1073dc268>, '_i31': '#全局变量和局部变量\\ndef func():\\n    s = \"abcd\"\\n    s += \"X\"\\n    \\n    print(s)\\nprint(s)', '_i32': '#全局变量和局部变量\\ndef func():\\n    s = \"abcd\"#这是局部变量\\n    s += \"X\"\\n    \\n    print(s)\\nfunc()', '_i33': '#全局变量和局部变量\\ndef func():\\n    s = \"abcd\"#这是局部变量\\n    s += \"X\"\\n    \\n    print(s)\\nfunc()\\nname = \\'月月\\'#全局变量\\n\\ndef func1():\\n    print(name)', 'name': '月月真漂亮！', '_i34': '#全局变量和局部变量\\ndef func():\\n    s = \"abcd\"#这是局部变量\\n    s += \"X\"\\n    \\n    print(s)\\nfunc()\\nname = \\'月月\\'#全局变量\\n\\ndef func1():\\n    print(name)\\nfunc1()', '_i35': '#全局变量和局部变量\\ndef func():\\n    s = \"abcd\"#这是局部变量\\n    s += \"X\"\\n    \\n    print(s)\\ndef func1():\\n    print(name)\\nname = \\'月月\\'#全局变量\\nfunc()\\nfunc1()', '_i36': '#全局变量和局部变量\\n#声明在函数外面的就是全局变量，声明在函数内部的就是局部变量\\ndef func():\\n    s = \"abcd\"#这是局部变量\\n    s += \"X\"\\n    \\n    print(s)\\ndef func1():\\n    print(name)\\nname = \\'月月\\'#全局变量\\nfunc()\\nfunc1()\\n\\ndef func2():\\n    name = \\'小月月\\'\\n    print(name)', 'func2': <function func2 at 0x10716e840>, '_i37': '#全局变量和局部变量\\n#声明在函数外面的就是全局变量，声明在函数内部的就是局部变量\\ndef func():\\n    s = \"abcd\"#这是局部变量\\n    s += \"X\"\\n    \\n    print(s)\\ndef func1():\\n    print(name)\\n    \\ndef func2():\\n    name = \\'小月月\\'\\n    print(name)\\n    \\nname = \\'月月\\'#全局变量\\nfunc()\\nfunc1()\\nfunc2()', '_i38': '#全局变量和局部变量\\n#声明在函数外面的就是全局变量，声明在函数内部的就是局部变量\\ndef func():\\n    s = \"abcd\"#这是局部变量\\n    s += \"X\"\\n    \\n    print(s)\\ndef func1():\\n    print(name)\\n    \\ndef func2():\\n    name = \\'小月月\\'#局部变量和全局变量同名在函数里使用优先使用局部变量\\n    name += \"弹吉他的小美女\"\\n    print(name)\\n    \\nname = \\'月月\\'#全局变量\\nfunc()\\nfunc1()\\nfunc2()', '_i39': '#全局变量和局部变量\\n#声明在函数外面的就是全局变量，声明在函数内部的就是局部变量\\ndef func():\\n    s = \"abcd\"#这是局部变量\\n    s += \"X\"\\n    \\n    print(s)\\ndef func1():\\n    print(name)\\n    name += \"??\"\\ndef func2():\\n    name = \\'小月月\\'#局部变量和全局变量同名在函数里使用优先使用局部变量\\n    name += \"弹吉他的小美女\"\\n    print(name)\\n    \\nname = \\'月月\\'#全局变量\\nfunc()\\nfunc1()\\nfunc2()', '_i40': '#全局变量和局部变量\\n#声明在函数外面的就是全局变量，声明在函数内部的就是局部变量\\ndef func():\\n    s = \"abcd\"#这是局部变量\\n    s += \"X\"\\n    \\n    print(s)\\ndef func1():\\n    print(name)#这里面是不可以修改全局变量的！不允许破坏公物！函数内部的可以随便修改赋值，但是全局的不可以！！！\\ndef func2():\\n    name = \\'小月月\\'#局部变量和全局变量同名在函数里使用优先使用局部变量\\n    name += \"弹吉他的小美女\"\\n    print(name)\\n    \\nname = \\'月月\\'#全局变量\\nfunc()\\nfunc1()\\nfunc2()', '_i41': '#全局变量和局部变量\\n#声明在函数外面的就是全局变量，声明在函数内部的就是局部变量\\ndef func():\\n    s = \"abcd\"#这是局部变量\\n    s += \"X\"\\n    \\n    print(s)\\ndef func1():\\n    print(name)#这里面是不可以修改全局变量的！不允许破坏公物！函数内部的可以随便修改赋值，但是全局的不可以！！！\\ndef func2():\\n    name = \\'小月月\\'#局部变量和全局变量同名在函数里使用优先使用局部变量\\n    name += \"弹吉他的小美女\"\\n    print(name)\\ndef func3():\\n    global name#不修改全局变量，只是获取打印不需要声明，但是如果希望修改！就需要在函数内部声明一下！\\n    name += \"浩文哥牛逼！\"\\n    print(name)\\nname = \\'月月\\'#全局变量\\nfunc()\\nfunc1()\\nfunc2()\\nfunc3()\\nprint(name)', 'func3': <function func3 at 0x1073bdd08>, '_i42': '#全局变量和局部变量\\n#声明在函数外面的就是全局变量，声明在函数内部的就是局部变量\\ndef func():\\n    s = \"abcd\"#这是局部变量\\n    s += \"X\"\\n    \\n    print(s)\\ndef func1():\\n    print(name)#这里面是不可以修改全局变量的！不允许破坏公物！函数内部的可以随便修改赋值，但是全局的不可以！！！\\ndef func2():\\n    name = \\'小月月\\'#局部变量和全局变量同名在函数里使用优先使用局部变量\\n    name += \"弹吉他的小美女\"\\n    print(name)\\ndef func3():\\n    global name#不修改全局变量，只是获取打印不需要声明，但是如果希望修改！就需要在函数内部声明一下！\\n    name += \"浩文哥牛逼！\"\\n    print(name)\\nname = \\'月月\\'#全局变量\\nprint(name)\\nfunc()\\nfunc1()\\nfunc2()\\nfunc3()\\nprint(name)', '_i43': 'name = \"月月\"\\nlist1 = [1,2,3,4,5]\\n\\ndef func():\\n    name = \"蕊蕊\"\\n    print(name)\\n    print(list1)\\n    \\ndef func1():\\n    global name\\n    print(name)\\n    name += \"真漂亮！\"\\n    list1.append(8)\\n    print(list1)\\n    ', 'list1': [1, 2, 3, 4, 5, 8], '_i44': '#因为str()是不可变的，而list是可变的。所以前者需要global后者不需要。\\nname = \"月月\"\\nlist1 = [1,2,3,4,5]\\nprint(list1)\\ndef func():\\n    name = \"蕊蕊\"\\n    print(name)\\n    print(list1)\\n    \\ndef func1():\\n    global name\\n    print(name)\\n    name += \"真漂亮！\"\\n    list1.append(8)\\n    print(list1)\\nfunc()\\nfunc1()', '_i45': 'def func():\\n    #声明变量\\n    n = 100\\n    list1 = [1,2,3,4]\\n    \\n    #声明内部函数：\\n    def inner_func():\\n        list1.sort()\\n    print(list1)\\nfunc()', '_i46': 'def func():\\n    #声明变量\\n    n = 100\\n    list1 = [9,2,3,4]\\n    \\n    #声明内部函数：\\n    def inner_func():\\n        list1.sort()\\n    print(list1)\\nfunc()', '_i47': 'def func():\\n    #声明变量\\n    n = 100\\n    list1 = [9,2,3,4]\\n    \\n    #声明内部函数：\\n    def inner_func():\\n        list1.sort()\\n    inner_func()\\n    print(list1)\\nfunc()', '_i48': 'def func():\\n    #声明变量\\n    n = 100\\n    list1 = [9,2,3,4]\\n    \\n    #声明内部函数：\\n    def inner_func():\\n    #对list1里面的元素进行加5操作\\n        list1=[i+5 for i in list1]\\n    inner_func()\\n    print(list1)\\nfunc()', '_i49': 'def func():\\n    #声明变量\\n    n = 100\\n    list1 = [9,2,3,4]\\n    \\n    #声明内部函数：\\n    def inner_func():\\n    #对list1里面的元素进行加5操作\\n        newlist=[i+5 for i in list1]\\n    inner_func()\\n    print(newlist)\\nfunc()', '_i50': 'def func():\\n    #声明变量\\n    n = 100\\n    list1 = [9,2,3,4]\\n    \\n    #声明内部函数：\\n    def inner_func():\\n    #对list1里面的元素进行加5操作\\n        for index,i in enumerate(list1):\\n            list1[index] += 5\\n    inner_func()\\n    print(list1)\\nfunc()', '_i51': 'def func():\\n    #声明变量\\n    n = 100\\n    list1 = [9,2,3,4]\\n    \\n    #声明内部函数：\\n    def inner_func():\\n    #对list1里面的元素进行加5操作\\n        for index,i in enumerate(list1):\\n            list1[index] += 5\\n        list1.sort()\\n    inner_func()\\n    print(list1)\\nfunc()', '_i52': 'def func():\\n    #声明变量 老大老二老三的地位是平等的。\\n    n = 100#老大\\n    list1 = [9,2,3,4]#老二\\n    \\n    #声明内部函数：\\n    def inner_func():#老三\\n    #对list1里面的元素进行加5操作\\n        for index,i in enumerate(list1):\\n            list1[index] += n\\n        list1.sort()\\n    #调用内部函数   \\n    inner_func()\\n    print(list1)\\nfunc()', '_i53': 'def func():\\n    #声明变量 老大老二老三的地位是平等的。\\n    n = 100#老大\\n    list1 = [9,2,3,4]#老二\\n    \\n    #声明内部函数：\\n    def inner_func():#老三\\n    #对list1里面的元素进行加5操作\\n        nonlocal n\\n        for index,i in enumerate(list1):\\n            list1[index] += n\\n        list1.sort()\\n        n += 10 \\n    #调用内部函数   \\n    inner_func()\\n    print(list1)\\nfunc()', '_i54': 'def func():\\n    #声明变量 老大老二老三的地位是平等的。\\n    n = 100#老大\\n    list1 = [9,2,3,4]#老二\\n    \\n    #声明内部函数：\\n    def inner_func():#老三\\n    #对list1里面的元素进行加5操作\\n        nonlocal n\\n        for index,i in enumerate(list1):\\n            list1[index] += n\\n        list1.sort()\\n        n += 10 \\n        print(n)\\n    #调用内部函数   \\n    inner_func()\\n    print(list1)\\nfunc()', '_i55': 'def func():\\n    b = 99\\n    \\n    def inner_func():\\n        print(b)\\n        b += 1\\n    inner_func()\\n    print(b)\\nfunc()', '_i56': 'def func():\\n    b = 99\\n    \\n    def inner_func():\\n        nonlocal b\\n        print(b)\\n        b += 1\\n    inner_func()\\n    print(b)\\nfunc()', '_i57': 'def func():\\n    b = 99\\n    \\n    def inner_func():\\n        nonlocal b\\n        print(b)\\n        b += 1\\n    inner_func()\\n    print(b)\\nfunc()', '_i58': 'a = 100\\ndef func():\\n    b = 99\\n    \\n    def inner_func():\\n        nonlocal b\\n        c = 1\\n        b += 1\\n    inner_func()\\n    print(a,b,c)\\nfunc()', '_i59': 'a = 100\\ndef func():\\n    b = 99\\n    \\n    def inner_func():\\n        nonlocal b\\n        c = 1\\n        b += 1\\n        print(a,b,c)\\n    inner_func()\\nfunc()', '_i60': 'a = 100\\ndef func():\\n    b = 50\\n    \\n    def inner_func():\\n        nonlocal b\\n        c = 1\\n        b += 1\\n        print(a,b,c)\\n    inner_func()\\nfunc()', '_i61': 'a = 100\\ndef func():\\n    b = 50\\n    \\n    def inner_func():\\n        nonlocal b\\n        c = 1\\n        b += 1\\n        a += 10\\n        print(a,b,c)\\n    inner_func()\\nfunc()', '_i62': 'a = 100\\ndef func():\\n    global a\\n    b = 50\\n    \\n    def inner_func():\\n        nonlocal b\\n        c = 1\\n        b += 1\\n        a += 10\\n        print(a,b,c)\\n    inner_func()\\nfunc()', '_i63': 'a = 100\\ndef func():\\n    global a\\n    b = 50\\n    def inner_func():\\n        nonlocal b\\n        global a \\n        c = 1\\n        b += 1\\n        a += 10\\n        print(a,b,c)\\n    inner_func()\\nfunc()', '_i64': 'a = 100\\ndef func():\\n    #global a\\n    b = 50\\n    def inner_func():\\n        nonlocal b\\n        global a \\n        c = 1\\n        b += 1\\n        a += 10\\n        print(a,b,c)\\n    inner_func()\\nfunc()', '_i65': 'a = 100\\ndef func():\\n    #global a 在这里写没用 如果内层函数里要用就在内层函数里写\\n    b = 50\\n    def inner_func():\\n        nonlocal b\\n        global a \\n        c = 1\\n        b += 1\\n        a += 10\\n        print(a,b,c)\\n    inner_func()\\n    print(locals())\\nfunc()', '_i66': 'a = 100\\ndef func():\\n    #global a 在这里写没用 如果内层函数里要用就在内层函数里写\\n    b = 50\\n    def inner_funcwow():\\n        nonlocal b\\n        global a \\n        c = 1\\n        b += 1\\n        a += 10\\n        print(a,b,c)\\n    inner_func()\\n    print(locals())#可以看到当前函数中声明的内容有哪些\\nfunc()', '_i67': 'a = 100\\ndef func():\\n    #global a 在这里写没用 如果内层函数里要用就在内层函数里写\\n    b = 50\\n    def inner_funcwow():\\n        nonlocal b\\n        global a \\n        c = 1\\n        b += 1\\n        a += 10\\n        print(a,b,c)\\n    inner_funcwow()\\n    print(locals())#可以看到当前函数中声明的内容有哪些\\nfunc()', '_i68': 'a = 100\\ndef func():\\n    #global a 在这里写没用 如果内层函数里要用就在内层函数里写\\n    b = 50\\n    def inner_funcwow():\\n        nonlocal b\\n        global a \\n        c = 1\\n        b += 1\\n        a += 10\\n        print(a,b,c)\\n    inner_funcwow()\\n    print(locals())#可以看到当前函数中声明的内容有哪些\\n    #返回一个字典 key是变量名，value就是value 对于函数就是地址\\nfunc()\\nprint(globals())'}\n"
     ]
    }
   ],
   "source": [
    "a = 100\n",
    "def func():\n",
    "    #global a 在这里写没用 如果内层函数里要用就在内层函数里写\n",
    "    b = 50\n",
    "    def inner_funcwow():\n",
    "        nonlocal b\n",
    "        global a \n",
    "        c = 1\n",
    "        b += 1\n",
    "        a += 10\n",
    "        print(a,b,c)\n",
    "    inner_funcwow()\n",
    "    print(locals())#可以看到当前函数中声明的内容有哪些\n",
    "    #返回一个字典 key是变量名，value就是value 对于函数就是地址\n",
    "func()\n",
    "print(globals())#我傻了，原来jupyter是这样的。"
   ]
  },
  {
   "cell_type": "code",
   "execution_count": null,
   "metadata": {},
   "outputs": [],
   "source": [
    "'''\n",
    "内部函数的特点\n",
    "1:可以访问外部函数的变量\n",
    "2.内部函数可以修改外部函数的可变类型的变量比如:list\n",
    "3.内部函数修改全局的不可变量时，需要在内部函数中声明global 变量名\n",
    "  内部函数修改外部函数的不可变的变量时，需要在内部函数中声明：nonlocal 变量名\n",
    "4.locals()查看本地变量有哪些，以字典的形式输出\n",
    "  globals()查看全局变量有哪些，以字典的形式输出（里面会有一些系统的键值对)\n",
    "'''"
   ]
  },
  {
   "cell_type": "markdown",
   "metadata": {},
   "source": [
    "# 闭包！Closure——吃里扒外"
   ]
  },
  {
   "cell_type": "code",
   "execution_count": 79,
   "metadata": {},
   "outputs": [
    {
     "name": "stdout",
     "output_type": "stream",
     "text": [
      "100 99\n"
     ]
    }
   ],
   "source": [
    "# 闭包：在函数里定义内部函数并且把内部函数丢出来。\n",
    "'''\n",
    "条件1: 在外部函数中定义了内部函数\n",
    "条件2：外部函数时有返回值的\n",
    "条件3: 返回的值时内部函数名——地址\n",
    "条件4: 内部函数引用外部函数的变量值\n",
    "条件5: \n",
    "\n",
    "格式:\n",
    "def 外部函数():\n",
    "    ...\n",
    "    def 内部函数():\n",
    "        ...\n",
    "        return 内部函数\n",
    "'''\n",
    "\n",
    "def func():\n",
    "    a = 100\n",
    "    \n",
    "    def inner_func():\n",
    "        b = 99\n",
    "        print(a, b)\n",
    "    #既然可以把老大a扔出来那么一定也可以把老二扔出来！\n",
    "    return a,inner_func\n",
    "# 在外面肯定访问不到a，那么肯定也访问不到inner_func\n",
    "\n",
    "\n",
    "x,y = func()\n",
    "y()\n",
    "#y就是内部函数了！直接加上括号就代表调用函数！"
   ]
  },
  {
   "cell_type": "code",
   "execution_count": 85,
   "metadata": {},
   "outputs": [
    {
     "name": "stdout",
     "output_type": "stream",
     "text": [
      "相加之后的结果是: 25\n",
      "相加之后的结果是: 11\n",
      "4440710544 4440709320\n",
      "相加之后的结果是: 25\n"
     ]
    }
   ],
   "source": [
    "#有点像张量面面观，参数群\n",
    "#作用1:\n",
    "#不会受到a，b传不同值的影响。保存返回闭包时的外层函数变量的状态\n",
    "#\n",
    "def func(a,b):\n",
    "    c = 10\n",
    "    \n",
    "    def inner_func():\n",
    "        s = a+b+c\n",
    "        print('相加之后的结果是:',s)\n",
    "    return inner_func\n",
    "#每次都是重新开辟一个内存地址用来保存。只要我没有结束进程，这些开辟的内存不会被收回。当我\n",
    "#去调用这些丢出来的函数的时候就去找刚才开辟出来的新地址。\n",
    "ifunc1 = func(6,9)#可以用来记录状态\n",
    "answer = ifunc1()\n",
    "ifunc2 = func(1,0)\n",
    "result = ifunc2()\n",
    "\n",
    "print(id(ifunc1),id(ifunc2))#地址不同说明各自占着各自的地址，只要我产生了就不会被回收！\n",
    "#这是我做的一个实验，把函数作为参数传进去\n",
    "def func_func(w):\n",
    "    w()\n",
    "func_func(ifunc1)"
   ]
  },
  {
   "cell_type": "code",
   "execution_count": 90,
   "metadata": {},
   "outputs": [
    {
     "name": "stdout",
     "output_type": "stream",
     "text": [
      "当前是第1次访问\n",
      "当前是第2次访问\n",
      "当前是第3次访问\n"
     ]
    }
   ],
   "source": [
    "#计数器\n",
    "def generate_count():\n",
    "    #为什么用列表呢？因为可变！不是重开地址是真的改变内存内东西\n",
    "    container = [0]\n",
    "    \n",
    "    def add_one():\n",
    "        container[0] = container[0] + 1\n",
    "        print(f'当前是第{container[0]}次访问')\n",
    "    return add_one\n",
    "\n",
    "counter = generate_count()\n",
    "\n",
    "counter()\n",
    "counter()\n",
    "counter()#牛逼，做到了改变外部函数参量的作用。"
   ]
  },
  {
   "cell_type": "code",
   "execution_count": 93,
   "metadata": {},
   "outputs": [
    {
     "data": {
      "text/plain": [
       "'\\n闭包的缺点？\\n1.作用域没有那么直观\\n2.变量不会被回收占用内存\\n\\n作用：可以使用同级的作用域；读取其他元素的内部变量；延长作用域\\n\\n总结：优化了变量，原来需要类对象完成的工作，他也可以\\n是装饰器的基础。\\n'"
      ]
     },
     "execution_count": 93,
     "metadata": {},
     "output_type": "execute_result"
    }
   ],
   "source": [
    "'''\n",
    "闭包的缺点？\n",
    "1.作用域没有那么直观\n",
    "2.变量不会被回收占用内存\n",
    "\n",
    "作用：可以使用同级的作用域；读取其他元素的内部变量；延长作用域\n",
    "\n",
    "总结：优化了变量，原来需要类对象完成的工作，他也可以\n",
    "是装饰器的基础。\n",
    "'''"
   ]
  },
  {
   "cell_type": "code",
   "execution_count": 99,
   "metadata": {},
   "outputs": [
    {
     "name": "stdout",
     "output_type": "stream",
     "text": [
      "<function func.<locals>.inner_func2 at 0x108d6d730>\n",
      "190\n",
      "------------> inner_func2 100\n",
      "hello\n"
     ]
    }
   ],
   "source": [
    "def func():\n",
    "    a = 100#1\n",
    "    \n",
    "    def inner_func1():#2\n",
    "        b = 90\n",
    "        s = a + b\n",
    "        print(s)\n",
    "    def inner_func2():#3\n",
    "        inner_func1()#可以用同级的东西\n",
    "        print('------------> inner_func2',a)\n",
    "        return 'hello'\n",
    "    \n",
    "    return inner_func2\n",
    "#func里有三个儿子，返回的是三儿子这个函数。三儿子有返回值，因此也需要一个变量来接受这个返回值\n",
    "ifunc1 = func()#先调用再赋值\n",
    "print(ifunc1)\n",
    "str1 = ifunc1()\n",
    "print(str1)"
   ]
  },
  {
   "cell_type": "markdown",
   "metadata": {},
   "source": [
    "# 装饰器！！！！！！很常用！这是个大招！\n",
    "# 在闭包的基础上做个升级就是装饰器\n",
    "## 特点1：函数作为参数传递给另一个函数。函数A作为参数出现\n",
    "## 特点2：要有闭包的特点"
   ]
  },
  {
   "cell_type": "code",
   "execution_count": 104,
   "metadata": {},
   "outputs": [
    {
     "name": "stdout",
     "output_type": "stream",
     "text": [
      "修改后的a的值：106\n"
     ]
    }
   ],
   "source": [
    "def func(number):\n",
    "    a = 100\n",
    "    \n",
    "    def inner_func():\n",
    "        nonlocal a\n",
    "        nonlocal number\n",
    "        number += 1\n",
    "        for i in range(number):\n",
    "            a += 1\n",
    "        \n",
    "        print(f'修改后的a的值：{a}')\n",
    "    return inner_func\n",
    "\n",
    "ifunc = func(5)\n",
    "ifunc()"
   ]
  },
  {
   "cell_type": "code",
   "execution_count": 106,
   "metadata": {},
   "outputs": [
    {
     "name": "stdout",
     "output_type": "stream",
     "text": [
      "<function func.<locals>.inner_func at 0x1095fbb70>\n",
      "--------test---------\n",
      "--------test---------\n"
     ]
    }
   ],
   "source": [
    "# 装饰器必须把函数作为参数！！\n",
    "a = 50\n",
    "\n",
    "f1 = func(a)#a 是一个实参\n",
    "print(f1)\n",
    "\n",
    "# 这两个好好体会   \n",
    "'''\n",
    "a--->10<---b           test---->test这个函数的地址0x108d6d6a8<----t\n",
    "'''\n",
    "a = 10\n",
    "b = a\n",
    "#地址引用\n",
    "def test():\n",
    "    print('--------test---------')\n",
    "t = test#给函数改个名 改头换面，偷天换日\n",
    "test()\n",
    "t()"
   ]
  },
  {
   "cell_type": "code",
   "execution_count": 107,
   "metadata": {},
   "outputs": [
    {
     "name": "stdout",
     "output_type": "stream",
     "text": [
      "<function test at 0x1095fbae8>\n",
      "--------test---------\n"
     ]
    }
   ],
   "source": [
    "def test():\n",
    "    print('--------test---------')\n",
    "def func(f):\n",
    "    print(f)\n",
    "    f()\n",
    "func(test)#相当于把test赋给f 非常清晰"
   ]
  },
  {
   "cell_type": "code",
   "execution_count": 117,
   "metadata": {},
   "outputs": [
    {
     "name": "stdout",
     "output_type": "stream",
     "text": [
      "我是毛坯房...\n",
      "\n",
      "\n",
      "wrapper外层打印测试\n",
      "wrapper加载完成...\n",
      "wrapper外层打印测试\n",
      "wrapper加载完成...\n",
      "我是毛坯房...\n",
      "------------>刷漆咯～\n",
      "------------->铺地板咯～\n",
      "我是个精装修的好房子～\n",
      "<function decorate.<locals>.wrapper at 0x108d9d620>\n"
     ]
    }
   ],
   "source": [
    "#定义一个装饰器\n",
    "def decorate(func):\n",
    "    a = 100\n",
    "    print(\"wrapper外层打印测试\")\n",
    "    def wrapper():\n",
    "        func()\n",
    "        print(\"------------>刷漆咯～\")\n",
    "        print('------------->铺地板咯～')\n",
    "        print(\"我是个精装修的好房子～\")\n",
    "    print(\"wrapper加载完成...\")\n",
    "    return wrapper\n",
    "#使用装饰器\n",
    "# @decorate\n",
    "'''\n",
    "遇到问题我们想给原来的函数加一些动能，是更改原函数还是写一个新函数？都不可取！\n",
    "因为可能这个原函数本来是在A，B，C，D，E用到，如果直接改，全局都会受影响。\n",
    "如果写一个新函数很麻烦，要改名字。\n",
    "而装饰器在不改变名字的时候，也不改变原函数代码的情况下就可以采用。\n",
    "'''\n",
    "\n",
    "def house():\n",
    "    print(\"我是毛坯房...\")\n",
    "house()\n",
    "print('\\n')\n",
    "\n",
    "#house就是被装饰函数，被装饰函数作为参数传给decorate。自动的。\n",
    "#只要一装饰就执行装饰器函数！执行！执行！是在底层完成的这一过程。\n",
    "'''\n",
    "底层会把house作为func传给decorate，并且开始运行。\n",
    "func = house\n",
    "云地形到wrapper函数的时候又新开辟一个空间，并且！！！house = wrapper !\n",
    "简单说就是 将被装饰函数作为实参传入装饰器，然后被装饰函数是披着羊皮的狼了，他的地址不同了，变成了wrapper！\n",
    "因此可以做wrapper做的事！非常牛逼啊！\n",
    "我们看到的house已经不是原来的house了！\n",
    "'''\n",
    "@decorate\n",
    "def house():\n",
    "    print(\"我是毛坯房...\")\n",
    "#house()\n",
    "\n",
    "@decorate\n",
    "def house():\n",
    "    print(\"我是毛坯房...\")\n",
    "house()\n",
    "print(house)#<function decorate.<locals>.wrapper at 0x108d9d598>"
   ]
  },
  {
   "cell_type": "code",
   "execution_count": 132,
   "metadata": {},
   "outputs": [
    {
     "name": "stdout",
     "output_type": "stream",
     "text": [
      "正在校验中......\n",
      "校验完毕......\n",
      "-----------f1------------- 2\n",
      "-----------f2------------ Yingying Ni 18\n",
      "正在校验中......\n",
      "校验完毕......\n",
      "kunkun\n",
      "lili\n",
      "??\n",
      "..\n"
     ]
    }
   ],
   "source": [
    "import time\n",
    "def decorate(func):\n",
    "    def wrapper(*para):#装包\n",
    "        print(\"正在校验中......\")\n",
    "        time.sleep(2)\n",
    "        print(\"校验完毕......\")\n",
    "        #调用原函数\n",
    "        func(*para)#拆包\n",
    "    return wrapper\n",
    "        \n",
    "@decorate\n",
    "def f1(n):\n",
    "    print('-----------f1-------------',n)\n",
    "f1(2)\n",
    "\n",
    "def f2(name,age):\n",
    "    print('-----------f2------------',name,age)\n",
    "f2(\"Yingying Ni\",18)\n",
    "\n",
    "@decorate\n",
    "def f3(students,teachers):\n",
    "    for stu in students:\n",
    "        print(stu)\n",
    "    for teacher in teachers.values():\n",
    "        print(teacher)\n",
    "    \n",
    "f3([\"kunkun\",\"lili\"],{\"1\":\"??\",\"2\":\"..\"})"
   ]
  },
  {
   "cell_type": "code",
   "execution_count": null,
   "metadata": {},
   "outputs": [],
   "source": [
    "#看完了105"
   ]
  }
 ],
 "metadata": {
  "kernelspec": {
   "display_name": "Python 3",
   "language": "python",
   "name": "python3"
  },
  "language_info": {
   "codemirror_mode": {
    "name": "ipython",
    "version": 3
   },
   "file_extension": ".py",
   "mimetype": "text/x-python",
   "name": "python",
   "nbconvert_exporter": "python",
   "pygments_lexer": "ipython3",
   "version": "3.7.3"
  }
 },
 "nbformat": 4,
 "nbformat_minor": 2
}
