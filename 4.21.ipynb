{
 "cells": [
  {
   "cell_type": "markdown",
   "metadata": {},
   "source": [
    "# 万丈高楼平地起\n",
    "# 成功的公式：\n",
    "$$\\epsilon = \\int_0^t \\eta(t)dt$$\n",
    "$$i_X(\\alpha^p\\wedge\\beta^q)=i_X(\\alpha^p)\\wedge\\beta^q+(-1)^p\\alpha^p\\wedge i_X(\\beta^q)$$\n",
    "$$i_X(\\alpha^p\\wedge\\beta^q)(\\partial_{\\mu1},...,\\partial_{\\mu_p},\\partial_{\\nu1},...,\\partial_{\\nu p-1})$$\n",
    "$$\\Rightarrow(\\alpha^p\\wedge\\beta^q)=(dx^{\\mu_1}\\wedge...\\wedge dx^{\\mu_p})\\wedge (dx^{\\nu_1}\\wedge... dx^{\\nu_q})(X,\\partial_{\\mu1},...,\\partial_{\\mu_p},\\partial_{\\nu1},...,\\partial_{\\nu p-1})$$\n",
    "\n",
    "$$=\\sum dx^{\\sigma(1)}(X)dx^{\\sigma(2)}\\wedge...\\wedge dx^{\\sigma(p+q-1)}(\\partial_{\\mu1},...,\\partial_{\\mu_p},\\partial_{\\nu1},...,\\partial_{\\nu p-1})$$\n",
    "如果选取前面的都是可以利用$\\wedge$来达到交换的目的，也就是$\\alpha$本身就有的，但是如果选后面的就得再挪上来。"
   ]
  },
  {
   "cell_type": "markdown",
   "metadata": {},
   "source": [
    "# 昨日学习整理：\n",
    "upper() lower()\n",
    "<br>\n",
    "find() rfind() lfind()\n",
    "<br>\n",
    "repalce(old,new)<br>\n",
    "split('x')<br>\n",
    "joint(): '_'.join(\"abc)->a_b_c<br>\n",
    "encode() decode()<br>\n",
    "count()<br>\n",
    "strip() lstrip() rstrip()<br>\n",
    "startswith()    endswith()   isalpha()    isdigit()"
   ]
  },
  {
   "cell_type": "code",
   "execution_count": null,
   "metadata": {},
   "outputs": [],
   "source": [
    "#喜欢的单词每个字母都是大写\n",
    "#没有连续相等的字母\n",
    "#这段代码写的就很冗余了\n",
    "word = input(\"请输入单词:\")\n",
    "\n",
    "for i in range(len(word)):\n",
    "    if word[i] <\"A\" or word[i] >\"Z\":\n",
    "        print(\"不喜欢\")\n",
    "        break\n",
    "    elif len(word)==1:\n",
    "        print(\"喜欢\")\n",
    "        break\n",
    "    elif i == 0 and word[i] == word[i+1]:         #这里的三个判断其实没有必要，直接\n",
    "        print(\"不喜欢\")\n",
    "        break\n",
    "    elif i== len(word)-1 and word[i] == word[i-1]:\n",
    "        print(\"不喜欢\")\n",
    "        break\n",
    "    elif i>=1 and i< len(word)-1:\n",
    "        if word[i]==word[i-1] or word[i]== word[i+1]:\n",
    "            print(\"不喜欢\")\n",
    "            break\n",
    "    else:\n",
    "        print(\"喜欢\")\n",
    "        break\n",
    "    \n",
    "    "
   ]
  },
  {
   "cell_type": "code",
   "execution_count": null,
   "metadata": {},
   "outputs": [],
   "source": [
    "#课程中给的解法\n",
    "word = input(\"请输入单词:\")\n",
    "\n",
    "for i in range(len(word)):\n",
    "    if word[i] <\"A\" or word[i] >\"Z\":\n",
    "        print(\"不喜欢,不是全大写的\")\n",
    "        break\n",
    "    else:\n",
    "        if i<len(word)-1 and word[i] == word[i+1]:\n",
    "            print(\"不喜欢,出现叠词了\")\n",
    "            break\n",
    "else:\n",
    "    print(\"喜欢\")"
   ]
  },
  {
   "cell_type": "code",
   "execution_count": null,
   "metadata": {},
   "outputs": [],
   "source": [
    "#原来else也可以用于for循环\n",
    "for i in range(1,10):\n",
    "    if i%11 ==0:\n",
    "        print(i)\n",
    "        break\n",
    "else:\n",
    "    print(i+1)\n",
    "for i in range(1,10):\n",
    "    if i%5 ==0:\n",
    "        print(i)\n",
    "        break\n",
    "else:\n",
    "    print(i+1)"
   ]
  },
  {
   "cell_type": "code",
   "execution_count": null,
   "metadata": {},
   "outputs": [],
   "source": [
    "#循环提示用户输入：用户名、密码、邮箱\n",
    "#长度不能超过20，如果超过20就打印输出\n",
    "while True:\n",
    "    username = input(\"请输入您的用户名:\")\n",
    "    password = input(\"请输入您的密码:\")\n",
    "    email = input(\"请输入邮箱:\")\n",
    "    \n",
    "    username = username[0:20]\n",
    "    password = password [0:20]\n",
    "    email = email[0:20]\n",
    "    \n",
    "    msg=f\"{username}\\t{password}\\t{email}\"\n",
    "    msg.expandtabs(8)\n",
    "    print(msg)\n",
    "    again = input(\"是否继续？若退出请输入Q/q，若继续请随意输入吧\")\n",
    "    if again.upper() == 'Q':\n",
    "        break"
   ]
  },
  {
   "cell_type": "code",
   "execution_count": null,
   "metadata": {},
   "outputs": [],
   "source": [
    "computer_brands = []\n",
    "names = ['lucy','judy','superman','muji']\n",
    "#地址\n",
    "print(id(computer_brands))\n",
    "print(len(names))\n",
    "print(names[len(names)-1])\n",
    "print(names[-1])\n",
    "for name in names:\n",
    "    print(name)\n",
    "for i,name in enumerate(names):\n",
    "    print(i,name)\n",
    "    if name == \"superman\":\n",
    "        print(\"oh my god! There is a superman! Just go!\")\n",
    "        break\n",
    "#简便方法\n",
    "if 'superman' in names:\n",
    "    print(\"oh my god! There is a superman! Just go!\")"
   ]
  },
  {
   "cell_type": "code",
   "execution_count": null,
   "metadata": {},
   "outputs": [],
   "source": [
    "brands = ['a','b','c','d','e','f']\n",
    "del brands[2]\n",
    "print(brands)"
   ]
  },
  {
   "cell_type": "code",
   "execution_count": 93,
   "metadata": {},
   "outputs": [
    {
     "name": "stdout",
     "output_type": "stream",
     "text": [
      "[2, 33, 122, 123, 457]\n"
     ]
    }
   ],
   "source": [
    "a = [1,3,6,11,23,3,457,123,122,33,2]\n",
    "print(a[:5:-1])"
   ]
  },
  {
   "cell_type": "code",
   "execution_count": null,
   "metadata": {},
   "outputs": [],
   "source": [
    "#不要边删边遍历\n",
    "brands = ['a','b','c','d','e','f']\n",
    "#用for循环就不好用了，换while试试看\n",
    "for i in range(len(brands)):\n",
    "    if brands[i] == 'a' or brands[i] == 'e':\n",
    "        del brands[i]"
   ]
  },
  {
   "cell_type": "code",
   "execution_count": 2,
   "metadata": {},
   "outputs": [
    {
     "name": "stdout",
     "output_type": "stream",
     "text": [
      "['b', 'c', 'd', 'f']\n",
      "['e', 'b', 'c', 'd', 'f']\n"
     ]
    }
   ],
   "source": [
    "brands = ['a','e','b','c','d','e','f']\n",
    "l = len(brands)\n",
    "i = 0\n",
    "while i<l:\n",
    "    if brands[i] == 'a' or brands[i] == 'e':\n",
    "        del brands[i]\n",
    "        l -= 1 \n",
    "    else :   #这个else非常关键！\n",
    "        i += 1\n",
    "print(brands)\n",
    "#可以看到如果删去的话后面的元素会马上补位，如果恰好连续两个都是目标元素就没办法删除了！所以l和i不能同时变化！\n",
    "brands = ['a','e','b','c','d','e','f']\n",
    "l = len(brands)\n",
    "i = 0\n",
    "while i<l:\n",
    "    if brands[i] == 'a' or brands[i] == 'e':\n",
    "        del brands[i]\n",
    "        l -= 1   \n",
    "    i += 1\n",
    "print(brands)"
   ]
  },
  {
   "cell_type": "code",
   "execution_count": 4,
   "metadata": {},
   "outputs": [
    {
     "name": "stdout",
     "output_type": "stream",
     "text": [
      "请输入一个单词good\n",
      "存在此单词\n"
     ]
    }
   ],
   "source": [
    "words = ['hello','good','apple']\n",
    "\n",
    "w = input(\"请输入一个单词\")\n",
    "\n",
    "for word in words:\n",
    "    if w in word:\n",
    "        print(\"存在此单词\")\n",
    "        break"
   ]
  },
  {
   "cell_type": "code",
   "execution_count": 7,
   "metadata": {},
   "outputs": [
    {
     "name": "stdout",
     "output_type": "stream",
     "text": [
      "相等或包含于\n",
      "包含..... 1\n",
      "True\n",
      "True\n",
      "False\n",
      "False\n"
     ]
    }
   ],
   "source": [
    "if 'good' in 'goods':\n",
    "    print(\"相等或包含于\")\n",
    "i = 1\n",
    "if 'good' in ['goods','good','abc','aaa']:\n",
    "    print(\"包含.....\",i)\n",
    "    \n",
    "for word in ['goods','good','abc','aaa']:\n",
    "    print('good' in word)\n",
    "    #print()"
   ]
  },
  {
   "cell_type": "markdown",
   "metadata": {},
   "source": [
    "# 列表的切片操作"
   ]
  },
  {
   "cell_type": "code",
   "execution_count": 27,
   "metadata": {},
   "outputs": [
    {
     "name": "stdout",
     "output_type": "stream",
     "text": [
      "['杨超越', '热巴', '佟丽娅', '杨幂', '赵丽颖', 100, 99.9, '鞠婧祎']\n",
      "我最爱了\n",
      "['佟丽娅', '杨幂']\n",
      "['鞠婧祎']\n",
      "[100, 99.9]\n",
      "['杨超越', '佟丽娅', '赵丽颖', 99.9]\n",
      "['鞠婧祎', 99.9, 100, '赵丽颖', '杨幂', '佟丽娅', '热巴', '杨超越']\n",
      "['鞠婧祎', 100, '杨幂', '热巴']\n"
     ]
    }
   ],
   "source": [
    "a =['goods','good','abc','aaa']\n",
    "b = ''.join(a)\n",
    "b #很容易遗忘，记得时常回顾\n",
    "\n",
    "list1 = ['杨超越','热巴','佟丽娅','杨幂','赵丽颖',100,99.9,'鞠婧祎']\n",
    "print(list1)#可以混用，不会报错\n",
    "for beauty in list1:\n",
    "    if beauty == '杨超越':\n",
    "        print(\"我最爱了\")\n",
    "print(list1[2:4])\n",
    "\n",
    "print(list1[-1:])\n",
    "print(list1[-3:-1:1])\n",
    "print(list1[::2])#这些操作都是合法的\n",
    "print(list1[-1::-1])\n",
    "print(list1[-1::-2])"
   ]
  },
  {
   "cell_type": "markdown",
   "metadata": {},
   "source": [
    "# 列表的添加！\n",
    "append（末尾追加）\n",
    "\n",
    "extend (常用于列表的合并)   \n",
    "\n",
    "insert(指定位置插入)"
   ]
  },
  {
   "cell_type": "code",
   "execution_count": 51,
   "metadata": {},
   "outputs": [
    {
     "name": "stdout",
     "output_type": "stream",
     "text": [
      "['嘤嘤嘤', '浩文哥']\n",
      "浩文哥稀饭嘤嘤嘤\n",
      "['嘤嘤嘤', '浩文哥', '我', '试', '试']\n",
      "['嘤嘤嘤', '李易峰', '浩文哥', '我', '吴亦凡', '试', '试']\n",
      "['杨超越', '热巴', '佟丽娅', '杨幂', '赵丽颖', 100, 99.9, '鞠婧祎']\n",
      "['杨超越', '热巴', '佟丽娅', '杨幂', '赵丽颖', 100, 99.9, '鞠婧祎']\n",
      "['赵今麦', '杨超越', '热巴', '佟丽娅', '杨幂', '赵丽颖', 100, 99.9, '鞠婧祎']\n",
      "['杨超越', '热巴', '佟丽娅', '杨幂', '赵丽颖', 100, 99.9, '鞠婧祎', '赵今麦']\n"
     ]
    }
   ],
   "source": [
    "girls_boys = []\n",
    "girls_boys.append(\"嘤嘤嘤\")\n",
    "girls_boys.append(\"浩文哥\")\n",
    "print(girls_boys)\n",
    "#-------------------------------------------------\n",
    "print(girls_boys[1]+\"稀饭\"+girls_boys[0])\n",
    "girls_boys.extend(\"我试试\")#这个怎么理解呢？把字符串堪称列表，每个字符是一个元素！['我'，'试','试']\n",
    "print(girls_boys)\n",
    "#-------------------------------------------------\n",
    "girls_boys.insert(1,\"李易峰\")#把之前存在的元素往后面推移\n",
    "girls_boys.insert(4,\"吴亦凡\")\n",
    "print(girls_boys)\n",
    "#-------------------------------------------------\n",
    "names = ['杨超越','热巴','佟丽娅','杨幂','赵丽颖',100,99.9,'鞠婧祎']\n",
    "girls = []\n",
    "girls.extend(names)\n",
    "print(girls)\n",
    "#-------------------------------------------------\n",
    "names = ['杨超越','热巴','佟丽娅','杨幂','赵丽颖',100,99.9,'鞠婧祎']\n",
    "girls = []\n",
    "print(girls + names)\n",
    "#-------------------------------------------------\n",
    "girls = ['赵今麦']\n",
    "names = ['杨超越','热巴','佟丽娅','杨幂','赵丽颖',100,99.9,'鞠婧祎']\n",
    "print(girls + names)\n",
    "print(names+girls)"
   ]
  },
  {
   "cell_type": "code",
   "execution_count": 45,
   "metadata": {},
   "outputs": [
    {
     "name": "stdout",
     "output_type": "stream",
     "text": [
      "请输入你喜欢的女明星Chaoyue yang\n",
      "请输入你喜欢的女明星jiajia hei\n",
      "请输入你喜欢的女明星quit\n",
      "再见啦👋\n",
      "['Chaoyue yang', 'jiajia hei']\n"
     ]
    }
   ],
   "source": [
    "beauty = []\n",
    "while True:\n",
    "    \n",
    "    name = input(\"请输入你喜欢的女明星\")\n",
    "    if name == \"quit\":\n",
    "        print(\"再见啦👋\")\n",
    "        break\n",
    "    else:\n",
    "        beauty.append(name)\n",
    "print(beauty)"
   ]
  },
  {
   "cell_type": "code",
   "execution_count": 58,
   "metadata": {},
   "outputs": [
    {
     "name": "stdout",
     "output_type": "stream",
     "text": [
      "[36, 46, 18, 23, 24, 44, 12]\n",
      "The length of the list is 7\n",
      "[50, 25, 4, 15, 41, 22, 43, 35, 24, 33]\n",
      "The length of the list is 10\n"
     ]
    }
   ],
   "source": [
    "#产生10个随机数，将其保存到列表中\n",
    "'''\n",
    "1.如何产生随机数？\n",
    "2.10个数字产生\n",
    "3.将产生的数字放到列表中\n",
    "4.打印\n",
    "'''\n",
    "import random\n",
    "number = []\n",
    "for i in range(10):\n",
    "    num = random.randint(1,50)\n",
    "    if num not in number:\n",
    "        number.append(num)\n",
    "    else:\n",
    "        pass\n",
    "    #这个没法实现了\n",
    "print(number)\n",
    "print(f\"The length of the list is {len(number)}\")\n",
    "number = []\n",
    "while len(number) <10:\n",
    "    num = random.randint(1,50)\n",
    "    if num not in number:\n",
    "        number.append(num)\n",
    "    else:\n",
    "        pass\n",
    "print(number)\n",
    "print(f\"The length of the list is {len(number)}\")"
   ]
  },
  {
   "cell_type": "code",
   "execution_count": 62,
   "metadata": {},
   "outputs": [
    {
     "name": "stdout",
     "output_type": "stream",
     "text": [
      "50\n",
      "The largest number is 50\n",
      "The smallest number is 4\n"
     ]
    }
   ],
   "source": [
    "#找出列表中的最大值\n",
    "max_value = max(number)#开挂用包\n",
    "print(max_value)\n",
    "\n",
    "max_value = 0\n",
    "min_value = 100\n",
    "for num in number:\n",
    "    if num >max_value:\n",
    "        max_value = num\n",
    "    if num <min_value:\n",
    "        min_value = num\n",
    "print(f\"The largest number is {max_value}\")\n",
    "print(f\"The smallest number is {min_value}\")"
   ]
  },
  {
   "cell_type": "code",
   "execution_count": 68,
   "metadata": {},
   "outputs": [
    {
     "name": "stdout",
     "output_type": "stream",
     "text": [
      "292\n",
      "[4, 15, 22, 24, 25, 33, 35, 41, 43, 50]\n",
      "[50, 43, 41, 35, 33, 25, 24, 22, 15, 4]\n",
      "[50, 43, 41, 35, 33, 25, 24, 22, 15, 4]\n"
     ]
    },
    {
     "ename": "AttributeError",
     "evalue": "'list' object has no attribute 'mean'",
     "output_type": "error",
     "traceback": [
      "\u001b[0;31m---------------------------------------------------------------------------\u001b[0m",
      "\u001b[0;31mAttributeError\u001b[0m                            Traceback (most recent call last)",
      "\u001b[0;32m<ipython-input-68-65aaefc0f4d6>\u001b[0m in \u001b[0;36m<module>\u001b[0;34m\u001b[0m\n\u001b[1;32m      8\u001b[0m \u001b[0mnew_number\u001b[0m \u001b[0;34m=\u001b[0m \u001b[0msorted\u001b[0m\u001b[0;34m(\u001b[0m\u001b[0mnumber\u001b[0m\u001b[0;34m,\u001b[0m\u001b[0mreverse\u001b[0m \u001b[0;34m=\u001b[0m \u001b[0;32mTrue\u001b[0m\u001b[0;34m)\u001b[0m\u001b[0;31m#把reverse用True就是降序\u001b[0m\u001b[0;34m\u001b[0m\u001b[0;34m\u001b[0m\u001b[0m\n\u001b[1;32m      9\u001b[0m \u001b[0mprint\u001b[0m\u001b[0;34m(\u001b[0m\u001b[0mnew_number\u001b[0m\u001b[0;34m)\u001b[0m\u001b[0;34m\u001b[0m\u001b[0;34m\u001b[0m\u001b[0m\n\u001b[0;32m---> 10\u001b[0;31m \u001b[0mprint\u001b[0m\u001b[0;34m(\u001b[0m\u001b[0mnumber\u001b[0m\u001b[0;34m.\u001b[0m\u001b[0mmean\u001b[0m\u001b[0;34m(\u001b[0m\u001b[0;34m)\u001b[0m\u001b[0;34m)\u001b[0m\u001b[0;34m\u001b[0m\u001b[0;34m\u001b[0m\u001b[0m\n\u001b[0m",
      "\u001b[0;31mAttributeError\u001b[0m: 'list' object has no attribute 'mean'"
     ]
    }
   ],
   "source": [
    "print(sum(number))\n",
    "new_number = sorted(number)#默认的是升序\n",
    "print(new_number)\n",
    "#我想到可以这么来输出降序的\n",
    "nnew_number = new_number[::-1]\n",
    "print(nnew_number)\n",
    "#事实上可以直接利用内置函数\n",
    "new_number = sorted(number,reverse = True)#把reverse用True就是降序\n",
    "print(new_number)\n"
   ]
  },
  {
   "cell_type": "code",
   "execution_count": 69,
   "metadata": {},
   "outputs": [],
   "source": [
    "# 排序算法： 冒泡，选择，快排之后可以补上这部分的代码"
   ]
  },
  {
   "cell_type": "code",
   "execution_count": 73,
   "metadata": {},
   "outputs": [
    {
     "name": "stdout",
     "output_type": "stream",
     "text": [
      "False\n",
      "4\n",
      "3\n"
     ]
    }
   ],
   "source": [
    "#列表中元素什么都可以放：整型，字符串，浮点，列表，元组，字典，对象...\n",
    "result = [3,2] in [1,2,3,[3,2,1]]\n",
    "print(result)\n",
    "print(len([[1,2],[3],[3,2,1]]))\n",
    "s = \"wow\"\n",
    "print(len(s))#我越来越感觉列表和字符串是”同源“的"
   ]
  },
  {
   "cell_type": "code",
   "execution_count": 84,
   "metadata": {},
   "outputs": [
    {
     "ename": "TypeError",
     "evalue": "list indices must be integers or slices, not tuple",
     "output_type": "error",
     "traceback": [
      "\u001b[0;31m---------------------------------------------------------------------------\u001b[0m",
      "\u001b[0;31mTypeError\u001b[0m                                 Traceback (most recent call last)",
      "\u001b[0;32m<ipython-input-84-ef7bcf724b0b>\u001b[0m in \u001b[0;36m<module>\u001b[0;34m\u001b[0m\n\u001b[1;32m      5\u001b[0m \u001b[0ma\u001b[0m \u001b[0;34m=\u001b[0m \u001b[0mnp\u001b[0m\u001b[0;34m.\u001b[0m\u001b[0marray\u001b[0m\u001b[0;34m(\u001b[0m\u001b[0;34m[\u001b[0m\u001b[0;34m[\u001b[0m\u001b[0;36m1\u001b[0m\u001b[0;34m,\u001b[0m\u001b[0;36m2\u001b[0m\u001b[0;34m,\u001b[0m\u001b[0;36m3\u001b[0m\u001b[0;34m]\u001b[0m\u001b[0;34m,\u001b[0m\u001b[0;34m[\u001b[0m\u001b[0;36m2\u001b[0m\u001b[0;34m,\u001b[0m\u001b[0;36m3\u001b[0m\u001b[0;34m,\u001b[0m\u001b[0;36m4\u001b[0m\u001b[0;34m]\u001b[0m\u001b[0;34m]\u001b[0m\u001b[0;34m)\u001b[0m\u001b[0;34m\u001b[0m\u001b[0;34m\u001b[0m\u001b[0m\n\u001b[1;32m      6\u001b[0m \u001b[0ma\u001b[0m\u001b[0;34m[\u001b[0m\u001b[0;36m1\u001b[0m\u001b[0;34m,\u001b[0m\u001b[0;36m1\u001b[0m\u001b[0;34m]\u001b[0m\u001b[0;34m,\u001b[0m\u001b[0ma\u001b[0m\u001b[0;34m[\u001b[0m\u001b[0;36m1\u001b[0m\u001b[0;34m]\u001b[0m\u001b[0;34m[\u001b[0m\u001b[0;36m1\u001b[0m\u001b[0;34m]\u001b[0m\u001b[0;34m\u001b[0m\u001b[0;34m\u001b[0m\u001b[0m\n\u001b[0;32m----> 7\u001b[0;31m \u001b[0ml2\u001b[0m\u001b[0;34m[\u001b[0m\u001b[0;36m1\u001b[0m\u001b[0;34m]\u001b[0m\u001b[0;34m[\u001b[0m\u001b[0;36m1\u001b[0m\u001b[0;34m]\u001b[0m\u001b[0;34m,\u001b[0m\u001b[0ml2\u001b[0m\u001b[0;34m[\u001b[0m\u001b[0;36m1\u001b[0m\u001b[0;34m,\u001b[0m\u001b[0;36m1\u001b[0m\u001b[0;34m]\u001b[0m\u001b[0;34m\u001b[0m\u001b[0;34m\u001b[0m\u001b[0m\n\u001b[0m",
      "\u001b[0;31mTypeError\u001b[0m: list indices must be integers or slices, not tuple"
     ]
    }
   ],
   "source": [
    "l1 = [1,2,3,[3,2,1]]\n",
    "l1[3][1]#list只能用这种c++语法?\n",
    "import numpy as np\n",
    "l2 = [[12,3,3],[1,2,4],[1,2,3]]\n",
    "a = np.array([[1,2,3],[2,3,4]])\n",
    "a[1,1],a[1][1]\n",
    "l2[1][1],l2[1,1]#list indices must be integers or slices, not tuple!"
   ]
  },
  {
   "cell_type": "code",
   "execution_count": 87,
   "metadata": {},
   "outputs": [
    {
     "name": "stdout",
     "output_type": "stream",
     "text": [
      "range(0, 10, 3)\n",
      "[0, 3, 6, 9]\n",
      "['a', 'b', 'c']\n"
     ]
    }
   ],
   "source": [
    "#强制转换成列表！\n",
    "\n",
    "print(range(0,10,3))\n",
    "print(list(range(0,10,3)))#这个牛逼啊！\n",
    "print(list(\"abc\"))"
   ]
  },
  {
   "cell_type": "code",
   "execution_count": 92,
   "metadata": {},
   "outputs": [
    {
     "name": "stdout",
     "output_type": "stream",
     "text": [
      "a\n",
      "s\n",
      "d\n",
      "1\n",
      "2\n",
      "3\n"
     ]
    }
   ],
   "source": [
    "# iterable:可以在for ...in ...里循环的就是可迭代的。range显然是可迭代的，而字符串显然也可以，而整型不可以！\n",
    "#print(list(10))#'int' object is not iterable 整形的对象不可以迭代\n",
    "for i in \"asd\":\n",
    "    print(i)\n",
    "b = (1,2,3)\n",
    "for i in b:\n",
    "    print(i)#可见，tuple也是可迭代的哦！"
   ]
  },
  {
   "cell_type": "code",
   "execution_count": 97,
   "metadata": {},
   "outputs": [
    {
     "name": "stdout",
     "output_type": "stream",
     "text": [
      "45\n"
     ]
    }
   ],
   "source": [
    "print(int(\"45\"))"
   ]
  },
  {
   "cell_type": "code",
   "execution_count": 105,
   "metadata": {},
   "outputs": [
    {
     "name": "stdout",
     "output_type": "stream",
     "text": [
      "[2, 3, 4, 1]\n",
      "[1, 3, 4, 1]\n",
      "[]\n"
     ]
    }
   ],
   "source": [
    "#remove() pop() clear()\n",
    "l1 = [1,2,3,4,1]\n",
    "l1.remove(1)#去掉第一个出现的,如果没有这个元素就报错\n",
    "print(l1)\n",
    "l1 = [1,2,3,4,1]\n",
    "l1.pop(1)#可以选把第几个pop除去.当然啦，默认是当作堆栈的，只把最后一个pop出去。\n",
    "print(l1)\n",
    "l1 = [1,2,3,4,1]\n",
    "l1.clear()\n",
    "print(l1)#clear就是完全清楚"
   ]
  },
  {
   "cell_type": "code",
   "execution_count": 106,
   "metadata": {},
   "outputs": [],
   "source": [
    "l1.remove?"
   ]
  },
  {
   "cell_type": "code",
   "execution_count": 114,
   "metadata": {},
   "outputs": [
    {
     "name": "stdout",
     "output_type": "stream",
     "text": [
      "一共有2个张亮麻辣烫\n",
      "['海底捞', '呷哺呷哺', '张亮麻辣烫', '热辣壹号', '宽板凳', '张亮麻辣烫', '小龙坎']\n",
      "None\n",
      "['海底捞', '呷哺呷哺', '热辣壹号', '宽板凳', '张亮麻辣烫', '小龙坎']\n",
      "['小龙坎', '张亮麻辣烫', '宽板凳', '热辣壹号', '呷哺呷哺', '海底捞']\n"
     ]
    }
   ],
   "source": [
    "hotpot_list = ['海底捞','呷哺呷哺','张亮麻辣烫','热辣壹号','宽板凳','张亮麻辣烫']\n",
    "num = hotpot_list.count('张亮麻辣烫')\n",
    "print(f\"一共有{num}个张亮麻辣烫\")\n",
    "hotpot_list.append(\"小龙坎\")\n",
    "print(hotpot_list)\n",
    "result = hotpot_list.remove(\"张亮麻辣烫\")\n",
    "print(result)\n",
    "print(hotpot_list)\n",
    "hotpot_list.reverse()#不禁感叹Python函数实在是太牛逼了。注意了，reverse是直接对列表操作而不仅仅是倒序输出。\n",
    "print(hotpot_list)"
   ]
  },
  {
   "cell_type": "code",
   "execution_count": 113,
   "metadata": {},
   "outputs": [
    {
     "name": "stdout",
     "output_type": "stream",
     "text": [
      "[1, 4, 22, 33, 123, 2353]\n",
      "[2353, 123, 33, 22, 4, 1]\n"
     ]
    }
   ],
   "source": [
    "list1 = [1,123,2353,22,33,4]\n",
    "list1.sort()\n",
    "print(list1)#这个也是真的排序了而不仅仅是输出而已\n",
    "list1.sort(reverse=True)\n",
    "print(list1)#这个也是真的排序了而不仅仅是输出而已"
   ]
  },
  {
   "cell_type": "code",
   "execution_count": null,
   "metadata": {},
   "outputs": [],
   "source": [
    "'''\n",
    "注意分类一下：str(),int(),len(),list(),sorted(),print(),input(),enumerate()都是内置函数\n",
    "而.xxx()是内置对象的method\n",
    "'''\n",
    "l1 = ['a','abc','jk','opp']"
   ]
  },
  {
   "cell_type": "code",
   "execution_count": 117,
   "metadata": {},
   "outputs": [
    {
     "name": "stdout",
     "output_type": "stream",
     "text": [
      "[1, 2, 3, 5, 12]\n",
      "[1, 2, 3, 5, 12]\n"
     ]
    }
   ],
   "source": [
    "#把sort和sorted放在一起看看,sort()是list的method而sorted是内置函数\n",
    "a = [1,2,3,5,12]\n",
    "a.sort()\n",
    "print(a)\n",
    "a = [1,2,3,5,12]\n",
    "a = sorted(a,reverse= False)\n",
    "print(a)"
   ]
  },
  {
   "cell_type": "code",
   "execution_count": 121,
   "metadata": {},
   "outputs": [
    {
     "name": "stdout",
     "output_type": "stream",
     "text": [
      "0 a\n",
      "1 abc\n",
      "2 jk\n",
      "3 opp\n"
     ]
    }
   ],
   "source": [
    "l1 = ['a','abc','jk','opp']\n",
    "\n",
    "for index,value in enumerate(l1):\n",
    "    print(index,value)"
   ]
  },
  {
   "cell_type": "code",
   "execution_count": 122,
   "metadata": {},
   "outputs": [
    {
     "name": "stdout",
     "output_type": "stream",
     "text": [
      "0 h\n",
      "1 a\n",
      "2 p\n",
      "3 p\n",
      "4 y\n"
     ]
    }
   ],
   "source": [
    "for index,value in enumerate(\"happy\"):\n",
    "    print(index,value)"
   ]
  },
  {
   "cell_type": "code",
   "execution_count": 124,
   "metadata": {},
   "outputs": [],
   "source": []
  },
  {
   "cell_type": "code",
   "execution_count": null,
   "metadata": {},
   "outputs": [],
   "source": []
  }
 ],
 "metadata": {
  "kernelspec": {
   "display_name": "Python 3",
   "language": "python",
   "name": "python3"
  },
  "language_info": {
   "codemirror_mode": {
    "name": "ipython",
    "version": 3
   },
   "file_extension": ".py",
   "mimetype": "text/x-python",
   "name": "python",
   "nbconvert_exporter": "python",
   "pygments_lexer": "ipython3",
   "version": "3.7.3"
  }
 },
 "nbformat": 4,
 "nbformat_minor": 2
}
